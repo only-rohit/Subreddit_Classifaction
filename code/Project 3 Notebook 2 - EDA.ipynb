{
 "cells": [
  {
   "cell_type": "code",
   "execution_count": 10,
   "id": "8cfaf75a",
   "metadata": {},
   "outputs": [],
   "source": [
    "import pandas as pd\n",
    "import numpy as np\n",
    "import nltk\n",
    "import re\n",
    "from nltk.stem import WordNetLemmatizer\n",
    "from sklearn.feature_extraction.text import CountVectorizer, TfidfVectorizer\n",
    "from nltk.tokenize import sent_tokenize, word_tokenize, RegexpTokenizer\n",
    "from nltk.corpus import stopwords\n",
    "import matplotlib.pyplot as plt\n",
    "pd.set_option('display.max_colwidth', None)"
   ]
  },
  {
   "cell_type": "markdown",
   "id": "c9ee2230",
   "metadata": {},
   "source": [
    "## Notebook 2 - EDA\n",
    "\n",
    "This is the second of 3 notebooks for this project.\n",
    "\n",
    "In this notebook, I will:\n",
    "- Preprocess the title text data using lemmitization and removal of stop words\n",
    "- Explore the popular unigrams, bigrams and trigrams each of The Onion posts and Not The Onion posts\n",
    "- Explore author vs post distribution and domain vs post distribution for each subreddit\n",
    "- Compare some features between the 2 subreddits\n",
    "- Export data to be used in the final notebook"
   ]
  },
  {
   "cell_type": "markdown",
   "id": "3c382a61",
   "metadata": {},
   "source": [
    "----\n",
    "## Load Data"
   ]
  },
  {
   "cell_type": "code",
   "execution_count": 11,
   "id": "93f78415",
   "metadata": {},
   "outputs": [],
   "source": [
    "theonion_df = pd.read_csv('../data/the_onion.csv')\n",
    "nottheonion_df = pd.read_csv('../data/not_the_onion.csv')"
   ]
  },
  {
   "cell_type": "markdown",
   "id": "3f3ada6c",
   "metadata": {},
   "source": [
    "Find out what are the extra columns in the theonion dataframe."
   ]
  },
  {
   "cell_type": "code",
   "execution_count": 12,
   "id": "1cf9bbaa",
   "metadata": {},
   "outputs": [
    {
     "data": {
      "text/plain": [
       "['gallery_data', 'is_gallery', 'media_metadata']"
      ]
     },
     "execution_count": 12,
     "metadata": {},
     "output_type": "execute_result"
    }
   ],
   "source": [
    "extra_columns = []\n",
    "for column in theonion_df.columns:\n",
    "    if column not in nottheonion_df.columns:\n",
    "        extra_columns.append(column)\n",
    "        \n",
    "extra_columns"
   ]
  },
  {
   "cell_type": "markdown",
   "id": "4d794068",
   "metadata": {},
   "source": [
    "The 3 extra columns are related to the gallery and media metadata, which will not affect text analysis."
   ]
  },
  {
   "cell_type": "markdown",
   "id": "ae263389",
   "metadata": {},
   "source": [
    "Due to the engineer's mistake we can only use the title text to train the machine learning model. Hence, check for any missing values in the title columns of the datasets."
   ]
  },
  {
   "cell_type": "code",
   "execution_count": 13,
   "id": "eb41734f",
   "metadata": {},
   "outputs": [
    {
     "data": {
      "text/plain": [
       "0"
      ]
     },
     "execution_count": 13,
     "metadata": {},
     "output_type": "execute_result"
    }
   ],
   "source": [
    "theonion_df['title'].isnull().sum()"
   ]
  },
  {
   "cell_type": "code",
   "execution_count": 14,
   "id": "5c6227c2",
   "metadata": {},
   "outputs": [
    {
     "data": {
      "text/plain": [
       "0"
      ]
     },
     "execution_count": 14,
     "metadata": {},
     "output_type": "execute_result"
    }
   ],
   "source": [
    "nottheonion_df['title'].isnull().sum()"
   ]
  },
  {
   "cell_type": "markdown",
   "id": "1b88bea8",
   "metadata": {},
   "source": [
    "No missing values in the title column for either dataset."
   ]
  },
  {
   "cell_type": "markdown",
   "id": "d7043b79",
   "metadata": {},
   "source": [
    "----\n",
    "## Preprocessing the text\n",
    "\n",
    "Define a function to lemmatize, remove stopwords and remove punctuation."
   ]
  },
  {
   "cell_type": "code",
   "execution_count": 15,
   "id": "ff84921d",
   "metadata": {},
   "outputs": [],
   "source": [
    "def lemmatize(text):\n",
    "    #Match a-z, A-Z, 0-9, _\n",
    "    tokenizer = RegexpTokenizer(r'\\w+')\n",
    "    title_tokens = tokenizer.tokenize(text)\n",
    "    #As stop words are all in lower case, convert tokens to lower case to match them to stop words later \n",
    "    title_tokens = [token.lower() for token in title_tokens]\n",
    "    lemmatizer = WordNetLemmatizer()\n",
    "    #Match and remove stop words, then lemmatize\n",
    "    lem_tokens = [lemmatizer.lemmatize(i) for i in title_tokens if i not in stopwords.words('english')]\n",
    "    #Join lemmatized tokens with a space in between, back into a sentence. Also converts all tokens to lower case. \n",
    "    return(\" \".join(lem_tokens)).lower()"
   ]
  },
  {
   "cell_type": "markdown",
   "id": "42bef65a",
   "metadata": {},
   "source": [
    "Test the function on a random string of text that contains stopwords and punctuation."
   ]
  },
  {
   "cell_type": "code",
   "execution_count": 16,
   "id": "32bec0e5",
   "metadata": {},
   "outputs": [
    {
     "data": {
      "text/plain": [
       "'quick brown fox computer 9 foot'"
      ]
     },
     "execution_count": 16,
     "metadata": {},
     "output_type": "execute_result"
    }
   ],
   "source": [
    "lemmatize('A quick brown a fox computer 9 feet..')"
   ]
  },
  {
   "cell_type": "markdown",
   "id": "38a70b58",
   "metadata": {},
   "source": [
    "**Observations on function output:**\n",
    "- Function removed \"a\", which is a stopword and also \".\" which is a punctuation.\n",
    "- Function kept the number \"9\".\n",
    "- Function lemmatized \"feet\" into \"foot\".\n",
    "- Function is working as intended.\n",
    "\n",
    "Apply function to the reddit posts' titles."
   ]
  },
  {
   "cell_type": "code",
   "execution_count": 17,
   "id": "0f91832d",
   "metadata": {},
   "outputs": [],
   "source": [
    "theonion_df['lem_title'] = theonion_df['title'].apply(lemmatize)"
   ]
  },
  {
   "cell_type": "code",
   "execution_count": 18,
   "id": "b3ddb3e5",
   "metadata": {},
   "outputs": [
    {
     "data": {
      "text/html": [
       "<div>\n",
       "<style scoped>\n",
       "    .dataframe tbody tr th:only-of-type {\n",
       "        vertical-align: middle;\n",
       "    }\n",
       "\n",
       "    .dataframe tbody tr th {\n",
       "        vertical-align: top;\n",
       "    }\n",
       "\n",
       "    .dataframe thead th {\n",
       "        text-align: right;\n",
       "    }\n",
       "</style>\n",
       "<table border=\"1\" class=\"dataframe\">\n",
       "  <thead>\n",
       "    <tr style=\"text-align: right;\">\n",
       "      <th></th>\n",
       "      <th>title</th>\n",
       "      <th>lem_title</th>\n",
       "    </tr>\n",
       "  </thead>\n",
       "  <tbody>\n",
       "    <tr>\n",
       "      <th>0</th>\n",
       "      <td>abby lee miller has cancer</td>\n",
       "      <td>abby lee miller cancer</td>\n",
       "    </tr>\n",
       "    <tr>\n",
       "      <th>1</th>\n",
       "      <td>Amazon Celebrates Union Defeat By Raising All Prices 150% Anyway</td>\n",
       "      <td>amazon celebrates union defeat raising price 150 anyway</td>\n",
       "    </tr>\n",
       "    <tr>\n",
       "      <th>2</th>\n",
       "      <td>New Arkansas Bill Would Require Teen Residents To Keep Genitals On Full Display At All Times</td>\n",
       "      <td>new arkansas bill would require teen resident keep genitals full display time</td>\n",
       "    </tr>\n",
       "    <tr>\n",
       "      <th>3</th>\n",
       "      <td>‘No Way To Prevent This.’ Says Only Nation Where This Regularly Happens</td>\n",
       "      <td>way prevent say nation regularly happens</td>\n",
       "    </tr>\n",
       "    <tr>\n",
       "      <th>4</th>\n",
       "      <td>Panthers Adopt Patchy-Haired, Shivering Rescue QB Who Spent Years Abused By Jets</td>\n",
       "      <td>panther adopt patchy haired shivering rescue qb spent year abused jet</td>\n",
       "    </tr>\n",
       "  </tbody>\n",
       "</table>\n",
       "</div>"
      ],
      "text/plain": [
       "                                                                                          title  \\\n",
       "0                                                                    abby lee miller has cancer   \n",
       "1                              Amazon Celebrates Union Defeat By Raising All Prices 150% Anyway   \n",
       "2  New Arkansas Bill Would Require Teen Residents To Keep Genitals On Full Display At All Times   \n",
       "3                       ‘No Way To Prevent This.’ Says Only Nation Where This Regularly Happens   \n",
       "4              Panthers Adopt Patchy-Haired, Shivering Rescue QB Who Spent Years Abused By Jets   \n",
       "\n",
       "                                                                       lem_title  \n",
       "0                                                         abby lee miller cancer  \n",
       "1                        amazon celebrates union defeat raising price 150 anyway  \n",
       "2  new arkansas bill would require teen resident keep genitals full display time  \n",
       "3                                       way prevent say nation regularly happens  \n",
       "4          panther adopt patchy haired shivering rescue qb spent year abused jet  "
      ]
     },
     "execution_count": 18,
     "metadata": {},
     "output_type": "execute_result"
    }
   ],
   "source": [
    "theonion_df[['title','lem_title']].head()"
   ]
  },
  {
   "cell_type": "code",
   "execution_count": 19,
   "id": "a5eace18",
   "metadata": {},
   "outputs": [],
   "source": [
    "nottheonion_df['lem_title'] = nottheonion_df['title'].apply(lemmatize)"
   ]
  },
  {
   "cell_type": "code",
   "execution_count": 20,
   "id": "673a8d0d",
   "metadata": {},
   "outputs": [
    {
     "data": {
      "text/html": [
       "<div>\n",
       "<style scoped>\n",
       "    .dataframe tbody tr th:only-of-type {\n",
       "        vertical-align: middle;\n",
       "    }\n",
       "\n",
       "    .dataframe tbody tr th {\n",
       "        vertical-align: top;\n",
       "    }\n",
       "\n",
       "    .dataframe thead th {\n",
       "        text-align: right;\n",
       "    }\n",
       "</style>\n",
       "<table border=\"1\" class=\"dataframe\">\n",
       "  <thead>\n",
       "    <tr style=\"text-align: right;\">\n",
       "      <th></th>\n",
       "      <th>title</th>\n",
       "      <th>lem_title</th>\n",
       "    </tr>\n",
       "  </thead>\n",
       "  <tbody>\n",
       "    <tr>\n",
       "      <th>0</th>\n",
       "      <td>Kanye West Jumped Into Swan Lake in the Middle of His Free Concert</td>\n",
       "      <td>kanye west jumped swan lake middle free concert</td>\n",
       "    </tr>\n",
       "    <tr>\n",
       "      <th>1</th>\n",
       "      <td>Ex-Versace model credits youthful looks to drinking his own urine</td>\n",
       "      <td>ex versace model credit youthful look drinking urine</td>\n",
       "    </tr>\n",
       "    <tr>\n",
       "      <th>2</th>\n",
       "      <td>What else is he supposed to do against all those vicious, bloodthirsty Ukrainians</td>\n",
       "      <td>else supposed vicious bloodthirsty ukrainian</td>\n",
       "    </tr>\n",
       "    <tr>\n",
       "      <th>3</th>\n",
       "      <td>Superyacht building boom creates a supply crunch and crew shortage for ultrarich buyers</td>\n",
       "      <td>superyacht building boom creates supply crunch crew shortage ultrarich buyer</td>\n",
       "    </tr>\n",
       "    <tr>\n",
       "      <th>4</th>\n",
       "      <td>Barrister who sued after colleague asked him to stop farting loses case</td>\n",
       "      <td>barrister sued colleague asked stop farting loses case</td>\n",
       "    </tr>\n",
       "  </tbody>\n",
       "</table>\n",
       "</div>"
      ],
      "text/plain": [
       "                                                                                     title  \\\n",
       "0                       Kanye West Jumped Into Swan Lake in the Middle of His Free Concert   \n",
       "1                        Ex-Versace model credits youthful looks to drinking his own urine   \n",
       "2        What else is he supposed to do against all those vicious, bloodthirsty Ukrainians   \n",
       "3  Superyacht building boom creates a supply crunch and crew shortage for ultrarich buyers   \n",
       "4                  Barrister who sued after colleague asked him to stop farting loses case   \n",
       "\n",
       "                                                                      lem_title  \n",
       "0                               kanye west jumped swan lake middle free concert  \n",
       "1                          ex versace model credit youthful look drinking urine  \n",
       "2                                  else supposed vicious bloodthirsty ukrainian  \n",
       "3  superyacht building boom creates supply crunch crew shortage ultrarich buyer  \n",
       "4                        barrister sued colleague asked stop farting loses case  "
      ]
     },
     "execution_count": 20,
     "metadata": {},
     "output_type": "execute_result"
    }
   ],
   "source": [
    "nottheonion_df[['title','lem_title']].head()"
   ]
  },
  {
   "cell_type": "markdown",
   "id": "d3f94467",
   "metadata": {},
   "source": [
    "----\n",
    "## Most common n-grams for The Onion Subreddit"
   ]
  },
  {
   "cell_type": "code",
   "execution_count": 21,
   "id": "d8301039",
   "metadata": {},
   "outputs": [
    {
     "name": "stderr",
     "output_type": "stream",
     "text": [
      "c:\\users\\rohit\\appdata\\local\\programs\\python\\python39\\lib\\site-packages\\sklearn\\utils\\deprecation.py:87: FutureWarning: Function get_feature_names is deprecated; get_feature_names is deprecated in 1.0 and will be removed in 1.2. Please use get_feature_names_out instead.\n",
      "  warnings.warn(msg, category=FutureWarning)\n"
     ]
    },
    {
     "data": {
      "text/plain": [
       "Text(0.5, 1.0, 'Most popular unigram for The Onion Subreddit')"
      ]
     },
     "execution_count": 21,
     "metadata": {},
     "output_type": "execute_result"
    },
    {
     "data": {
      "image/png": "[encoded data removed]",
      "text/plain": [
       "<Figure size 432x288 with 1 Axes>"
      ]
     },
     "metadata": {
      "needs_background": "light"
     },
     "output_type": "display_data"
    }
   ],
   "source": [
    "cvec = CountVectorizer()\n",
    "the_onion_lem_title = cvec.fit_transform(theonion_df['lem_title'])\n",
    "the_onion_lem_title_df = pd.DataFrame(the_onion_lem_title.toarray(), columns = cvec.get_feature_names())\n",
    "the_onion_lem_title_df.sum().sort_values(ascending = False).head(10).plot(kind = 'barh')\n",
    "plt.ylabel('Unigram')\n",
    "plt.xlabel('Count')\n",
    "plt.title('Most popular unigram for The Onion Subreddit')"
   ]
  },
  {
   "cell_type": "code",
   "execution_count": 22,
   "id": "3ad2ff9e",
   "metadata": {},
   "outputs": [
    {
     "name": "stderr",
     "output_type": "stream",
     "text": [
      "c:\\users\\rohit\\appdata\\local\\programs\\python\\python39\\lib\\site-packages\\sklearn\\utils\\deprecation.py:87: FutureWarning: Function get_feature_names is deprecated; get_feature_names is deprecated in 1.0 and will be removed in 1.2. Please use get_feature_names_out instead.\n",
      "  warnings.warn(msg, category=FutureWarning)\n"
     ]
    },
    {
     "data": {
      "text/plain": [
       "Text(0.5, 1.0, 'Most popular bigram for The Onion Subreddit')"
      ]
     },
     "execution_count": 22,
     "metadata": {},
     "output_type": "execute_result"
    },
    {
     "data": {
      "image/png": "[encoded data removed]",
      "text/plain": [
       "<Figure size 432x288 with 1 Axes>"
      ]
     },
     "metadata": {
      "needs_background": "light"
     },
     "output_type": "display_data"
    }
   ],
   "source": [
    "cvec_bi = CountVectorizer(ngram_range=(2,2))\n",
    "the_onion_lem_title_bi = cvec_bi.fit_transform(theonion_df['lem_title'])\n",
    "the_onion_lem_title_bi_df = pd.DataFrame(the_onion_lem_title_bi.toarray(), columns = cvec_bi.get_feature_names())\n",
    "the_onion_lem_title_bi_df.sum().sort_values(ascending = False).head(10).plot(kind = 'barh')\n",
    "plt.ylabel('Bigram')\n",
    "plt.xlabel('Count')\n",
    "plt.title('Most popular bigram for The Onion Subreddit')"
   ]
  },
  {
   "cell_type": "markdown",
   "id": "424f5145",
   "metadata": {},
   "source": [
    "The Onion covers both real and fictional events and present them as satire. "
   ]
  },
  {
   "cell_type": "code",
   "execution_count": 23,
   "id": "1b19126d",
   "metadata": {},
   "outputs": [
    {
     "data": {
      "text/html": [
       "<div>\n",
       "<style scoped>\n",
       "    .dataframe tbody tr th:only-of-type {\n",
       "        vertical-align: middle;\n",
       "    }\n",
       "\n",
       "    .dataframe tbody tr th {\n",
       "        vertical-align: top;\n",
       "    }\n",
       "\n",
       "    .dataframe thead th {\n",
       "        text-align: right;\n",
       "    }\n",
       "</style>\n",
       "<table border=\"1\" class=\"dataframe\">\n",
       "  <thead>\n",
       "    <tr style=\"text-align: right;\">\n",
       "      <th></th>\n",
       "      <th>title</th>\n",
       "    </tr>\n",
       "  </thead>\n",
       "  <tbody>\n",
       "    <tr>\n",
       "      <th>140</th>\n",
       "      <td>The Onion’s Guide To The 2021 Oscars</td>\n",
       "    </tr>\n",
       "    <tr>\n",
       "      <th>156</th>\n",
       "      <td>The Onion’s Guide To The 2021 Oscars: Best Actor</td>\n",
       "    </tr>\n",
       "    <tr>\n",
       "      <th>157</th>\n",
       "      <td>The Onion’s Guide To The 2021 Oscars: Best Actress</td>\n",
       "    </tr>\n",
       "    <tr>\n",
       "      <th>162</th>\n",
       "      <td>The Onion’s Guide To The 2021 Oscars: Best Supporting Actress</td>\n",
       "    </tr>\n",
       "    <tr>\n",
       "      <th>163</th>\n",
       "      <td>The Onion’s Guide To The 2021 Oscars: Best Supporting Actor</td>\n",
       "    </tr>\n",
       "    <tr>\n",
       "      <th>164</th>\n",
       "      <td>The Onion’s Guide To The 2021 Oscars: Best Director</td>\n",
       "    </tr>\n",
       "  </tbody>\n",
       "</table>\n",
       "</div>"
      ],
      "text/plain": [
       "                                                             title\n",
       "140                           The Onion’s Guide To The 2021 Oscars\n",
       "156               The Onion’s Guide To The 2021 Oscars: Best Actor\n",
       "157             The Onion’s Guide To The 2021 Oscars: Best Actress\n",
       "162  The Onion’s Guide To The 2021 Oscars: Best Supporting Actress\n",
       "163    The Onion’s Guide To The 2021 Oscars: Best Supporting Actor\n",
       "164            The Onion’s Guide To The 2021 Oscars: Best Director"
      ]
     },
     "execution_count": 23,
     "metadata": {},
     "output_type": "execute_result"
    }
   ],
   "source": [
    "theonion_df.loc[theonion_df['lem_title'].str.contains('guide 2021') ,['title']]"
   ]
  },
  {
   "cell_type": "code",
   "execution_count": 24,
   "id": "066270b6",
   "metadata": {},
   "outputs": [
    {
     "data": {
      "text/html": [
       "<div>\n",
       "<style scoped>\n",
       "    .dataframe tbody tr th:only-of-type {\n",
       "        vertical-align: middle;\n",
       "    }\n",
       "\n",
       "    .dataframe tbody tr th {\n",
       "        vertical-align: top;\n",
       "    }\n",
       "\n",
       "    .dataframe thead th {\n",
       "        text-align: right;\n",
       "    }\n",
       "</style>\n",
       "<table border=\"1\" class=\"dataframe\">\n",
       "  <thead>\n",
       "    <tr style=\"text-align: right;\">\n",
       "      <th></th>\n",
       "      <th>title</th>\n",
       "    </tr>\n",
       "  </thead>\n",
       "  <tbody>\n",
       "    <tr>\n",
       "      <th>140</th>\n",
       "      <td>The Onion’s Guide To The 2021 Oscars</td>\n",
       "    </tr>\n",
       "    <tr>\n",
       "      <th>156</th>\n",
       "      <td>The Onion’s Guide To The 2021 Oscars: Best Actor</td>\n",
       "    </tr>\n",
       "    <tr>\n",
       "      <th>157</th>\n",
       "      <td>The Onion’s Guide To The 2021 Oscars: Best Actress</td>\n",
       "    </tr>\n",
       "    <tr>\n",
       "      <th>162</th>\n",
       "      <td>The Onion’s Guide To The 2021 Oscars: Best Supporting Actress</td>\n",
       "    </tr>\n",
       "    <tr>\n",
       "      <th>163</th>\n",
       "      <td>The Onion’s Guide To The 2021 Oscars: Best Supporting Actor</td>\n",
       "    </tr>\n",
       "    <tr>\n",
       "      <th>164</th>\n",
       "      <td>The Onion’s Guide To The 2021 Oscars: Best Director</td>\n",
       "    </tr>\n",
       "  </tbody>\n",
       "</table>\n",
       "</div>"
      ],
      "text/plain": [
       "                                                             title\n",
       "140                           The Onion’s Guide To The 2021 Oscars\n",
       "156               The Onion’s Guide To The 2021 Oscars: Best Actor\n",
       "157             The Onion’s Guide To The 2021 Oscars: Best Actress\n",
       "162  The Onion’s Guide To The 2021 Oscars: Best Supporting Actress\n",
       "163    The Onion’s Guide To The 2021 Oscars: Best Supporting Actor\n",
       "164            The Onion’s Guide To The 2021 Oscars: Best Director"
      ]
     },
     "execution_count": 24,
     "metadata": {},
     "output_type": "execute_result"
    }
   ],
   "source": [
    "theonion_df.loc[theonion_df['lem_title'].str.contains('2021 oscar') ,['title']]"
   ]
  },
  {
   "cell_type": "code",
   "execution_count": 25,
   "id": "b27a2790",
   "metadata": {},
   "outputs": [
    {
     "data": {
      "text/html": [
       "<div>\n",
       "<style scoped>\n",
       "    .dataframe tbody tr th:only-of-type {\n",
       "        vertical-align: middle;\n",
       "    }\n",
       "\n",
       "    .dataframe tbody tr th {\n",
       "        vertical-align: top;\n",
       "    }\n",
       "\n",
       "    .dataframe thead th {\n",
       "        text-align: right;\n",
       "    }\n",
       "</style>\n",
       "<table border=\"1\" class=\"dataframe\">\n",
       "  <thead>\n",
       "    <tr style=\"text-align: right;\">\n",
       "      <th></th>\n",
       "      <th>title</th>\n",
       "    </tr>\n",
       "  </thead>\n",
       "  <tbody>\n",
       "    <tr>\n",
       "      <th>140</th>\n",
       "      <td>The Onion’s Guide To The 2021 Oscars</td>\n",
       "    </tr>\n",
       "    <tr>\n",
       "      <th>156</th>\n",
       "      <td>The Onion’s Guide To The 2021 Oscars: Best Actor</td>\n",
       "    </tr>\n",
       "    <tr>\n",
       "      <th>157</th>\n",
       "      <td>The Onion’s Guide To The 2021 Oscars: Best Actress</td>\n",
       "    </tr>\n",
       "    <tr>\n",
       "      <th>162</th>\n",
       "      <td>The Onion’s Guide To The 2021 Oscars: Best Supporting Actress</td>\n",
       "    </tr>\n",
       "    <tr>\n",
       "      <th>163</th>\n",
       "      <td>The Onion’s Guide To The 2021 Oscars: Best Supporting Actor</td>\n",
       "    </tr>\n",
       "    <tr>\n",
       "      <th>164</th>\n",
       "      <td>The Onion’s Guide To The 2021 Oscars: Best Director</td>\n",
       "    </tr>\n",
       "  </tbody>\n",
       "</table>\n",
       "</div>"
      ],
      "text/plain": [
       "                                                             title\n",
       "140                           The Onion’s Guide To The 2021 Oscars\n",
       "156               The Onion’s Guide To The 2021 Oscars: Best Actor\n",
       "157             The Onion’s Guide To The 2021 Oscars: Best Actress\n",
       "162  The Onion’s Guide To The 2021 Oscars: Best Supporting Actress\n",
       "163    The Onion’s Guide To The 2021 Oscars: Best Supporting Actor\n",
       "164            The Onion’s Guide To The 2021 Oscars: Best Director"
      ]
     },
     "execution_count": 25,
     "metadata": {},
     "output_type": "execute_result"
    }
   ],
   "source": [
    "theonion_df.loc[theonion_df['lem_title'].str.contains('onion guide') ,['title']]"
   ]
  },
  {
   "cell_type": "markdown",
   "id": "4d50c513",
   "metadata": {},
   "source": [
    "**Observation:** 3 sets of bigrams \"guide 2021\", \"2021 oscar\" and \"onion guide\" come from the same set of 6 reddit posts on the 2021 oscars."
   ]
  },
  {
   "cell_type": "code",
   "execution_count": 26,
   "id": "e2ffc5b0",
   "metadata": {},
   "outputs": [
    {
     "data": {
      "text/html": [
       "<div>\n",
       "<style scoped>\n",
       "    .dataframe tbody tr th:only-of-type {\n",
       "        vertical-align: middle;\n",
       "    }\n",
       "\n",
       "    .dataframe tbody tr th {\n",
       "        vertical-align: top;\n",
       "    }\n",
       "\n",
       "    .dataframe thead th {\n",
       "        text-align: right;\n",
       "    }\n",
       "</style>\n",
       "<table border=\"1\" class=\"dataframe\">\n",
       "  <thead>\n",
       "    <tr style=\"text-align: right;\">\n",
       "      <th></th>\n",
       "      <th>title</th>\n",
       "    </tr>\n",
       "  </thead>\n",
       "  <tbody>\n",
       "    <tr>\n",
       "      <th>153</th>\n",
       "      <td>‘Anyone See ‘Ted Lasso’?’ Biden Asks World Leaders, Trying To Steer Conversation Away From Depressing Topic Like Climate Change</td>\n",
       "    </tr>\n",
       "    <tr>\n",
       "      <th>461</th>\n",
       "      <td>Senate Passes Bill Wishing Younger Generations Best Of Luck Stopping Climate Change</td>\n",
       "    </tr>\n",
       "    <tr>\n",
       "      <th>512</th>\n",
       "      <td>Latest Climate Change Report Just Heartfelt Farewell Letter Telling Humanity To Remember The Good Times</td>\n",
       "    </tr>\n",
       "    <tr>\n",
       "      <th>564</th>\n",
       "      <td>New Study Finds Only Way To Reverse Climate Change If Every Person On Earth Shares Single Chevy Volt</td>\n",
       "    </tr>\n",
       "    <tr>\n",
       "      <th>609</th>\n",
       "      <td>Polar Bears Inbreeding Due To Climate Change</td>\n",
       "    </tr>\n",
       "    <tr>\n",
       "      <th>906</th>\n",
       "      <td>Albatross divorce rates going up due to climate change</td>\n",
       "    </tr>\n",
       "    <tr>\n",
       "      <th>962</th>\n",
       "      <td>Study: Climate Change Causing Albatross ‘Divorce’</td>\n",
       "    </tr>\n",
       "  </tbody>\n",
       "</table>\n",
       "</div>"
      ],
      "text/plain": [
       "                                                                                                                               title\n",
       "153  ‘Anyone See ‘Ted Lasso’?’ Biden Asks World Leaders, Trying To Steer Conversation Away From Depressing Topic Like Climate Change\n",
       "461                                              Senate Passes Bill Wishing Younger Generations Best Of Luck Stopping Climate Change\n",
       "512                          Latest Climate Change Report Just Heartfelt Farewell Letter Telling Humanity To Remember The Good Times\n",
       "564                             New Study Finds Only Way To Reverse Climate Change If Every Person On Earth Shares Single Chevy Volt\n",
       "609                                                                                     Polar Bears Inbreeding Due To Climate Change\n",
       "906                                                                           Albatross divorce rates going up due to climate change\n",
       "962                                                                                Study: Climate Change Causing Albatross ‘Divorce’"
      ]
     },
     "execution_count": 26,
     "metadata": {},
     "output_type": "execute_result"
    }
   ],
   "source": [
    "theonion_df.loc[theonion_df['lem_title'].str.contains('climate change') ,['title']]"
   ]
  },
  {
   "cell_type": "code",
   "execution_count": 27,
   "id": "e96aa0d4",
   "metadata": {},
   "outputs": [
    {
     "data": {
      "text/html": [
       "<div>\n",
       "<style scoped>\n",
       "    .dataframe tbody tr th:only-of-type {\n",
       "        vertical-align: middle;\n",
       "    }\n",
       "\n",
       "    .dataframe tbody tr th {\n",
       "        vertical-align: top;\n",
       "    }\n",
       "\n",
       "    .dataframe thead th {\n",
       "        text-align: right;\n",
       "    }\n",
       "</style>\n",
       "<table border=\"1\" class=\"dataframe\">\n",
       "  <thead>\n",
       "    <tr style=\"text-align: right;\">\n",
       "      <th></th>\n",
       "      <th>title</th>\n",
       "    </tr>\n",
       "  </thead>\n",
       "  <tbody>\n",
       "    <tr>\n",
       "      <th>38</th>\n",
       "      <td>5 Things To Know About ‘Hemingway’</td>\n",
       "    </tr>\n",
       "    <tr>\n",
       "      <th>43</th>\n",
       "      <td>5 Things To Know About ‘Godzilla Vs. Kong’</td>\n",
       "    </tr>\n",
       "    <tr>\n",
       "      <th>109</th>\n",
       "      <td>5 Things To Know About Liz Cheney</td>\n",
       "    </tr>\n",
       "    <tr>\n",
       "      <th>203</th>\n",
       "      <td>5 Things To Know About ‘Friends: The Reunion’</td>\n",
       "    </tr>\n",
       "    <tr>\n",
       "      <th>266</th>\n",
       "      <td>5 Things To Know About ‘The Underground Railroad’</td>\n",
       "    </tr>\n",
       "    <tr>\n",
       "      <th>357</th>\n",
       "      <td>5 Things To Know About ‘Cruella’</td>\n",
       "    </tr>\n",
       "    <tr>\n",
       "      <th>363</th>\n",
       "      <td>5 Things To Know About Belarus’ Leader Diverting A Ryanair Flight</td>\n",
       "    </tr>\n",
       "  </tbody>\n",
       "</table>\n",
       "</div>"
      ],
      "text/plain": [
       "                                                                 title\n",
       "38                                  5 Things To Know About ‘Hemingway’\n",
       "43                          5 Things To Know About ‘Godzilla Vs. Kong’\n",
       "109                                  5 Things To Know About Liz Cheney\n",
       "203                      5 Things To Know About ‘Friends: The Reunion’\n",
       "266                  5 Things To Know About ‘The Underground Railroad’\n",
       "357                                   5 Things To Know About ‘Cruella’\n",
       "363  5 Things To Know About Belarus’ Leader Diverting A Ryanair Flight"
      ]
     },
     "execution_count": 27,
     "metadata": {},
     "output_type": "execute_result"
    }
   ],
   "source": [
    "theonion_df.loc[theonion_df['lem_title'].str.contains('thing know') ,['title']]"
   ]
  },
  {
   "cell_type": "markdown",
   "id": "7baadf60",
   "metadata": {},
   "source": [
    "**Observation:** The bigram \"thing know\" comes from a series of posts on \"5 things to know about X\""
   ]
  },
  {
   "cell_type": "code",
   "execution_count": 28,
   "id": "b4a5cdee",
   "metadata": {},
   "outputs": [
    {
     "data": {
      "text/html": [
       "<div>\n",
       "<style scoped>\n",
       "    .dataframe tbody tr th:only-of-type {\n",
       "        vertical-align: middle;\n",
       "    }\n",
       "\n",
       "    .dataframe tbody tr th {\n",
       "        vertical-align: top;\n",
       "    }\n",
       "\n",
       "    .dataframe thead th {\n",
       "        text-align: right;\n",
       "    }\n",
       "</style>\n",
       "<table border=\"1\" class=\"dataframe\">\n",
       "  <thead>\n",
       "    <tr style=\"text-align: right;\">\n",
       "      <th></th>\n",
       "      <th>title</th>\n",
       "    </tr>\n",
       "  </thead>\n",
       "  <tbody>\n",
       "    <tr>\n",
       "      <th>51</th>\n",
       "      <td>Andrew Cuomo Announces Extension Of Vaccine Eligibility To All New Yorkers 30DD And Above</td>\n",
       "    </tr>\n",
       "    <tr>\n",
       "      <th>282</th>\n",
       "      <td>Andrew Yang Picking Up A Few Souvenirs On Way Back Home From New York Visit</td>\n",
       "    </tr>\n",
       "    <tr>\n",
       "      <th>397</th>\n",
       "      <td>6-Year-Old Debating Whether To See ‘Space Jam: A New Legacy’ Following Negative ‘New York Times’ Review</td>\n",
       "    </tr>\n",
       "    <tr>\n",
       "      <th>449</th>\n",
       "      <td>Blood-Soaked Mayor Bloomberg Announces Homelessness No Longer A Problem In New York City</td>\n",
       "    </tr>\n",
       "    <tr>\n",
       "      <th>481</th>\n",
       "      <td>Historical Evidence Suggests Boston Strangler Too Chickenshit To Strangle In A Real City Like New York</td>\n",
       "    </tr>\n",
       "    <tr>\n",
       "      <th>505</th>\n",
       "      <td>‘Take Your Place By My Side And We Can Rule New York Forever,’ Says Covid To Disgraced, Vengeful Andrew Cuomo</td>\n",
       "    </tr>\n",
       "    <tr>\n",
       "      <th>615</th>\n",
       "      <td>Country Music Stars Challenge Al-Qaeda with Patriotic New Song 'Bomb New York'</td>\n",
       "    </tr>\n",
       "    <tr>\n",
       "      <th>674</th>\n",
       "      <td>‘New York Times’ Releases Jerry Jones’ Hateful Telegrams Slamming Ottoman Empire</td>\n",
       "    </tr>\n",
       "    <tr>\n",
       "      <th>773</th>\n",
       "      <td>‘New York Times’ Copy Editor Recommends Tom Morello Cut Down Use Of Wah-Wah Pedal In Column</td>\n",
       "    </tr>\n",
       "  </tbody>\n",
       "</table>\n",
       "</div>"
      ],
      "text/plain": [
       "                                                                                                             title\n",
       "51                       Andrew Cuomo Announces Extension Of Vaccine Eligibility To All New Yorkers 30DD And Above\n",
       "282                                    Andrew Yang Picking Up A Few Souvenirs On Way Back Home From New York Visit\n",
       "397        6-Year-Old Debating Whether To See ‘Space Jam: A New Legacy’ Following Negative ‘New York Times’ Review\n",
       "449                       Blood-Soaked Mayor Bloomberg Announces Homelessness No Longer A Problem In New York City\n",
       "481         Historical Evidence Suggests Boston Strangler Too Chickenshit To Strangle In A Real City Like New York\n",
       "505  ‘Take Your Place By My Side And We Can Rule New York Forever,’ Says Covid To Disgraced, Vengeful Andrew Cuomo\n",
       "615                                 Country Music Stars Challenge Al-Qaeda with Patriotic New Song 'Bomb New York'\n",
       "674                               ‘New York Times’ Releases Jerry Jones’ Hateful Telegrams Slamming Ottoman Empire\n",
       "773                    ‘New York Times’ Copy Editor Recommends Tom Morello Cut Down Use Of Wah-Wah Pedal In Column"
      ]
     },
     "execution_count": 28,
     "metadata": {},
     "output_type": "execute_result"
    }
   ],
   "source": [
    "theonion_df.loc[theonion_df['lem_title'].str.contains('new york') ,['title']]"
   ]
  },
  {
   "cell_type": "markdown",
   "id": "509e0cf4",
   "metadata": {},
   "source": [
    "**Observation:** The posts containing the bigram \"new york\" cover various topics on New York city and do not really have any relations to each other."
   ]
  },
  {
   "cell_type": "code",
   "execution_count": 29,
   "id": "51981192",
   "metadata": {},
   "outputs": [
    {
     "data": {
      "text/html": [
       "<div>\n",
       "<style scoped>\n",
       "    .dataframe tbody tr th:only-of-type {\n",
       "        vertical-align: middle;\n",
       "    }\n",
       "\n",
       "    .dataframe tbody tr th {\n",
       "        vertical-align: top;\n",
       "    }\n",
       "\n",
       "    .dataframe thead th {\n",
       "        text-align: right;\n",
       "    }\n",
       "</style>\n",
       "<table border=\"1\" class=\"dataframe\">\n",
       "  <thead>\n",
       "    <tr style=\"text-align: right;\">\n",
       "      <th></th>\n",
       "      <th>title</th>\n",
       "    </tr>\n",
       "  </thead>\n",
       "  <tbody>\n",
       "    <tr>\n",
       "      <th>54</th>\n",
       "      <td>The Most Insane Quotes We Heard About Video Games In Winter 2021</td>\n",
       "    </tr>\n",
       "    <tr>\n",
       "      <th>124</th>\n",
       "      <td>Deal Alert: Any Video Game At Any Price Is Inherently An Incredible Deal Because Video Games Are Great</td>\n",
       "    </tr>\n",
       "    <tr>\n",
       "      <th>428</th>\n",
       "      <td>Video Game Boss Thinking He Should Get Big Glowing Weak Spot On Back Checked Out</td>\n",
       "    </tr>\n",
       "    <tr>\n",
       "      <th>433</th>\n",
       "      <td>Guard In Video Game Under Strict Orders To Repeatedly Pace Same Stretch Of Hallway</td>\n",
       "    </tr>\n",
       "    <tr>\n",
       "      <th>590</th>\n",
       "      <td>Are Violent Video Games Preparing Kids For The Apocalypse?</td>\n",
       "    </tr>\n",
       "    <tr>\n",
       "      <th>660</th>\n",
       "      <td>Video Game Character Reckoning With Privilege Of Dropping Near Tactical Shotgun</td>\n",
       "    </tr>\n",
       "    <tr>\n",
       "      <th>797</th>\n",
       "      <td>Josh Hawley Slams Video Games As Threat To American Masculinity After Bullshit Sniper Ends His ‘Battlefield’ Killstreak</td>\n",
       "    </tr>\n",
       "  </tbody>\n",
       "</table>\n",
       "</div>"
      ],
      "text/plain": [
       "                                                                                                                       title\n",
       "54                                                          The Most Insane Quotes We Heard About Video Games In Winter 2021\n",
       "124                   Deal Alert: Any Video Game At Any Price Is Inherently An Incredible Deal Because Video Games Are Great\n",
       "428                                         Video Game Boss Thinking He Should Get Big Glowing Weak Spot On Back Checked Out\n",
       "433                                       Guard In Video Game Under Strict Orders To Repeatedly Pace Same Stretch Of Hallway\n",
       "590                                                               Are Violent Video Games Preparing Kids For The Apocalypse?\n",
       "660                                          Video Game Character Reckoning With Privilege Of Dropping Near Tactical Shotgun\n",
       "797  Josh Hawley Slams Video Games As Threat To American Masculinity After Bullshit Sniper Ends His ‘Battlefield’ Killstreak"
      ]
     },
     "execution_count": 29,
     "metadata": {},
     "output_type": "execute_result"
    }
   ],
   "source": [
    "theonion_df.loc[theonion_df['lem_title'].str.contains('video game') ,['title']]"
   ]
  },
  {
   "cell_type": "markdown",
   "id": "af5b0674",
   "metadata": {},
   "source": [
    "**Observation:** The posts containing the bigram \"video game\" cover various topics on video games and do not really have any relations to each other."
   ]
  },
  {
   "cell_type": "code",
   "execution_count": 30,
   "id": "e3f55892",
   "metadata": {},
   "outputs": [
    {
     "data": {
      "text/html": [
       "<div>\n",
       "<style scoped>\n",
       "    .dataframe tbody tr th:only-of-type {\n",
       "        vertical-align: middle;\n",
       "    }\n",
       "\n",
       "    .dataframe tbody tr th {\n",
       "        vertical-align: top;\n",
       "    }\n",
       "\n",
       "    .dataframe thead th {\n",
       "        text-align: right;\n",
       "    }\n",
       "</style>\n",
       "<table border=\"1\" class=\"dataframe\">\n",
       "  <thead>\n",
       "    <tr style=\"text-align: right;\">\n",
       "      <th></th>\n",
       "      <th>title</th>\n",
       "    </tr>\n",
       "  </thead>\n",
       "  <tbody>\n",
       "    <tr>\n",
       "      <th>769</th>\n",
       "      <td>Critics Question Why Kyle Rittenhouse Singled Out In Kyle Rittenhouse Trial</td>\n",
       "    </tr>\n",
       "    <tr>\n",
       "      <th>815</th>\n",
       "      <td>Kyle Rittenhouse Claims Self-Defense After Shooting 3 Jurors</td>\n",
       "    </tr>\n",
       "    <tr>\n",
       "      <th>831</th>\n",
       "      <td>Men Killed By Kyle Rittenhouse Can Be Called ‘Looters,’ Not ‘Victims,’ Judge Rules</td>\n",
       "    </tr>\n",
       "    <tr>\n",
       "      <th>844</th>\n",
       "      <td>Judge Mandates Prosecutors Only Refer To Kyle Rittenhouse As ‘Hero’</td>\n",
       "    </tr>\n",
       "    <tr>\n",
       "      <th>924</th>\n",
       "      <td>Kyle Rittenhouse Acquitted Of All Charges In Kenosha Shootings</td>\n",
       "    </tr>\n",
       "    <tr>\n",
       "      <th>927</th>\n",
       "      <td>Kyle Rittenhouse Sentenced To 45 Years Of CPAC Appearances</td>\n",
       "    </tr>\n",
       "    <tr>\n",
       "      <th>928</th>\n",
       "      <td>‘Order, Order,’ Shouts Judge In Kyle Rittenhouse Case While Shooting AR-15 At Ceiling</td>\n",
       "    </tr>\n",
       "  </tbody>\n",
       "</table>\n",
       "</div>"
      ],
      "text/plain": [
       "                                                                                     title\n",
       "769            Critics Question Why Kyle Rittenhouse Singled Out In Kyle Rittenhouse Trial\n",
       "815                           Kyle Rittenhouse Claims Self-Defense After Shooting 3 Jurors\n",
       "831     Men Killed By Kyle Rittenhouse Can Be Called ‘Looters,’ Not ‘Victims,’ Judge Rules\n",
       "844                    Judge Mandates Prosecutors Only Refer To Kyle Rittenhouse As ‘Hero’\n",
       "924                         Kyle Rittenhouse Acquitted Of All Charges In Kenosha Shootings\n",
       "927                             Kyle Rittenhouse Sentenced To 45 Years Of CPAC Appearances\n",
       "928  ‘Order, Order,’ Shouts Judge In Kyle Rittenhouse Case While Shooting AR-15 At Ceiling"
      ]
     },
     "execution_count": 30,
     "metadata": {},
     "output_type": "execute_result"
    }
   ],
   "source": [
    "theonion_df.loc[theonion_df['lem_title'].str.contains('kyle rittenhouse') ,['title']]"
   ]
  },
  {
   "cell_type": "markdown",
   "id": "00d16761",
   "metadata": {},
   "source": [
    "**Observation:** The posts containing the bigram \"kyle rittenhouse\" cover the Kenosha unrest shooting that happened on August 25, 2020. In this incident, a 17 year old Kyle Rittenhouse fatally shot 2 men and wounded another in Kenosha, Wisconsin. The shooting happened during a period of civil unrest caused by the non-fatal shooting of a black man called Jacob Blake. Kyle Rittenhouse was acquitted of all charges after pleading self-defense."
   ]
  },
  {
   "cell_type": "code",
   "execution_count": 31,
   "id": "54e5b5a4",
   "metadata": {},
   "outputs": [
    {
     "data": {
      "text/html": [
       "<div>\n",
       "<style scoped>\n",
       "    .dataframe tbody tr th:only-of-type {\n",
       "        vertical-align: middle;\n",
       "    }\n",
       "\n",
       "    .dataframe tbody tr th {\n",
       "        vertical-align: top;\n",
       "    }\n",
       "\n",
       "    .dataframe thead th {\n",
       "        text-align: right;\n",
       "    }\n",
       "</style>\n",
       "<table border=\"1\" class=\"dataframe\">\n",
       "  <thead>\n",
       "    <tr style=\"text-align: right;\">\n",
       "      <th></th>\n",
       "      <th>title</th>\n",
       "    </tr>\n",
       "  </thead>\n",
       "  <tbody>\n",
       "    <tr>\n",
       "      <th>180</th>\n",
       "      <td>Study Finds Universal Mask Use Could Cut U.S. Coronavirus Deaths By 67%</td>\n",
       "    </tr>\n",
       "    <tr>\n",
       "      <th>297</th>\n",
       "      <td>Study Finds American Women Delaying Motherhood Because The Whole Thing Blows</td>\n",
       "    </tr>\n",
       "    <tr>\n",
       "      <th>403</th>\n",
       "      <td>Study Finds 70% Of Americans Have Less Than $1,000 Saved To Go To Space</td>\n",
       "    </tr>\n",
       "    <tr>\n",
       "      <th>439</th>\n",
       "      <td>New Study Finds 85% Of Americans Don't Know All The Dance Moves To National Anthem</td>\n",
       "    </tr>\n",
       "    <tr>\n",
       "      <th>506</th>\n",
       "      <td>Study Finds No Greater Sign Of Delusion Than Sending Coworkers Your Personal Email On Last Day</td>\n",
       "    </tr>\n",
       "    <tr>\n",
       "      <th>564</th>\n",
       "      <td>New Study Finds Only Way To Reverse Climate Change If Every Person On Earth Shares Single Chevy Volt</td>\n",
       "    </tr>\n",
       "    <tr>\n",
       "      <th>579</th>\n",
       "      <td>Study Finds First 72 Hours Crucial To Determining Whether Missing Person Case Goes Viral</td>\n",
       "    </tr>\n",
       "    <tr>\n",
       "      <th>586</th>\n",
       "      <td>New Madden ‘Owner Mode’ Allows Players To Customize Concussion Study Findings</td>\n",
       "    </tr>\n",
       "    <tr>\n",
       "      <th>592</th>\n",
       "      <td>Study Finds Virus Frequently Fooled By Fake Vaccine Card</td>\n",
       "    </tr>\n",
       "    <tr>\n",
       "      <th>593</th>\n",
       "      <td>Study finds virus frequently fooled by fake vaccine card</td>\n",
       "    </tr>\n",
       "    <tr>\n",
       "      <th>678</th>\n",
       "      <td>Study Finds Big Bang Result Of Last Universe Blowing Itself Up With Fireworks</td>\n",
       "    </tr>\n",
       "    <tr>\n",
       "      <th>865</th>\n",
       "      <td>Study Finds 87% Of Home Invasions Foiled After Homeowner Nervously Mutters, ‘Who’s There?’</td>\n",
       "    </tr>\n",
       "    <tr>\n",
       "      <th>921</th>\n",
       "      <td>NFL Study Finds Concussion Symptoms Completely Disappear If You’ve Had An Even Number Of Concussions</td>\n",
       "    </tr>\n",
       "  </tbody>\n",
       "</table>\n",
       "</div>"
      ],
      "text/plain": [
       "                                                                                                    title\n",
       "180                               Study Finds Universal Mask Use Could Cut U.S. Coronavirus Deaths By 67%\n",
       "297                          Study Finds American Women Delaying Motherhood Because The Whole Thing Blows\n",
       "403                               Study Finds 70% Of Americans Have Less Than $1,000 Saved To Go To Space\n",
       "439                    New Study Finds 85% Of Americans Don't Know All The Dance Moves To National Anthem\n",
       "506        Study Finds No Greater Sign Of Delusion Than Sending Coworkers Your Personal Email On Last Day\n",
       "564  New Study Finds Only Way To Reverse Climate Change If Every Person On Earth Shares Single Chevy Volt\n",
       "579              Study Finds First 72 Hours Crucial To Determining Whether Missing Person Case Goes Viral\n",
       "586                         New Madden ‘Owner Mode’ Allows Players To Customize Concussion Study Findings\n",
       "592                                              Study Finds Virus Frequently Fooled By Fake Vaccine Card\n",
       "593                                              Study finds virus frequently fooled by fake vaccine card\n",
       "678                         Study Finds Big Bang Result Of Last Universe Blowing Itself Up With Fireworks\n",
       "865            Study Finds 87% Of Home Invasions Foiled After Homeowner Nervously Mutters, ‘Who’s There?’\n",
       "921  NFL Study Finds Concussion Symptoms Completely Disappear If You’ve Had An Even Number Of Concussions"
      ]
     },
     "execution_count": 31,
     "metadata": {},
     "output_type": "execute_result"
    }
   ],
   "source": [
    "theonion_df.loc[theonion_df['lem_title'].str.contains('study find') ,['title']]"
   ]
  },
  {
   "cell_type": "markdown",
   "id": "4a2f14ce",
   "metadata": {},
   "source": [
    "**Observation:** The posts containing the bigram \"study find\" cover various topics in the popular format of a study finding something interesting/satirical. The posts generally have no relation to each other."
   ]
  },
  {
   "cell_type": "code",
   "execution_count": 32,
   "id": "9902a3bb",
   "metadata": {},
   "outputs": [
    {
     "data": {
      "text/html": [
       "<div>\n",
       "<style scoped>\n",
       "    .dataframe tbody tr th:only-of-type {\n",
       "        vertical-align: middle;\n",
       "    }\n",
       "\n",
       "    .dataframe tbody tr th {\n",
       "        vertical-align: top;\n",
       "    }\n",
       "\n",
       "    .dataframe thead th {\n",
       "        text-align: right;\n",
       "    }\n",
       "</style>\n",
       "<table border=\"1\" class=\"dataframe\">\n",
       "  <thead>\n",
       "    <tr style=\"text-align: right;\">\n",
       "      <th></th>\n",
       "      <th>title</th>\n",
       "    </tr>\n",
       "  </thead>\n",
       "  <tbody>\n",
       "    <tr>\n",
       "      <th>13</th>\n",
       "      <td>17-Year-Old Asks Friend What It Means When Guy You Like Wants Blanket Pardon</td>\n",
       "    </tr>\n",
       "    <tr>\n",
       "      <th>196</th>\n",
       "      <td>7-Year-Old Has Seen Way Deeper Deep Ends</td>\n",
       "    </tr>\n",
       "    <tr>\n",
       "      <th>275</th>\n",
       "      <td>Pathetic Man Cries When He’s Upset Rather Than Screaming At 3-Year-Old Son To Shut The Fuck Up</td>\n",
       "    </tr>\n",
       "    <tr>\n",
       "      <th>360</th>\n",
       "      <td>11-Year-Old Used ‘SVU’ Tip To Mark Attacker</td>\n",
       "    </tr>\n",
       "    <tr>\n",
       "      <th>397</th>\n",
       "      <td>6-Year-Old Debating Whether To See ‘Space Jam: A New Legacy’ Following Negative ‘New York Times’ Review</td>\n",
       "    </tr>\n",
       "    <tr>\n",
       "      <th>426</th>\n",
       "      <td>Congress Cuts Funding For 26-Year-Old Stepson</td>\n",
       "    </tr>\n",
       "    <tr>\n",
       "      <th>561</th>\n",
       "      <td>5-Year-Old Announces Circle No Longer Her Favorite Shape</td>\n",
       "    </tr>\n",
       "    <tr>\n",
       "      <th>638</th>\n",
       "      <td>U.S. Airstrike Sends Tough Message To 4-Year-Old Afghans Not To Mess With America</td>\n",
       "    </tr>\n",
       "    <tr>\n",
       "      <th>710</th>\n",
       "      <td>40-Year-Old Not Active Enough To Realize Body Falling Apart</td>\n",
       "    </tr>\n",
       "    <tr>\n",
       "      <th>712</th>\n",
       "      <td>Soaring U.S. Divorce Rate Blamed On Local 11-Year-Old</td>\n",
       "    </tr>\n",
       "    <tr>\n",
       "      <th>757</th>\n",
       "      <td>Patrick Leahy Announces He Won’t Seek Reelection To Make Room For Next Generation Of 70-Year-Olds</td>\n",
       "    </tr>\n",
       "    <tr>\n",
       "      <th>791</th>\n",
       "      <td>Defiant Aaron Rodgers Says He Can’t Get Vaccinated Because He Only 4 Years Old</td>\n",
       "    </tr>\n",
       "    <tr>\n",
       "      <th>800</th>\n",
       "      <td>13-Year-Old Drinking Prodigy Accepted To Ohio State</td>\n",
       "    </tr>\n",
       "    <tr>\n",
       "      <th>839</th>\n",
       "      <td>114-Year-Old Attributes Longevity to Sheer Random Chance</td>\n",
       "    </tr>\n",
       "  </tbody>\n",
       "</table>\n",
       "</div>"
      ],
      "text/plain": [
       "                                                                                                       title\n",
       "13                              17-Year-Old Asks Friend What It Means When Guy You Like Wants Blanket Pardon\n",
       "196                                                                 7-Year-Old Has Seen Way Deeper Deep Ends\n",
       "275           Pathetic Man Cries When He’s Upset Rather Than Screaming At 3-Year-Old Son To Shut The Fuck Up\n",
       "360                                                              11-Year-Old Used ‘SVU’ Tip To Mark Attacker\n",
       "397  6-Year-Old Debating Whether To See ‘Space Jam: A New Legacy’ Following Negative ‘New York Times’ Review\n",
       "426                                                            Congress Cuts Funding For 26-Year-Old Stepson\n",
       "561                                                 5-Year-Old Announces Circle No Longer Her Favorite Shape\n",
       "638                        U.S. Airstrike Sends Tough Message To 4-Year-Old Afghans Not To Mess With America\n",
       "710                                              40-Year-Old Not Active Enough To Realize Body Falling Apart\n",
       "712                                                    Soaring U.S. Divorce Rate Blamed On Local 11-Year-Old\n",
       "757        Patrick Leahy Announces He Won’t Seek Reelection To Make Room For Next Generation Of 70-Year-Olds\n",
       "791                           Defiant Aaron Rodgers Says He Can’t Get Vaccinated Because He Only 4 Years Old\n",
       "800                                                      13-Year-Old Drinking Prodigy Accepted To Ohio State\n",
       "839                                                 114-Year-Old Attributes Longevity to Sheer Random Chance"
      ]
     },
     "execution_count": 32,
     "metadata": {},
     "output_type": "execute_result"
    }
   ],
   "source": [
    "theonion_df.loc[theonion_df['lem_title'].str.contains('year old') ,['title']]"
   ]
  },
  {
   "cell_type": "markdown",
   "id": "4a64fbee",
   "metadata": {},
   "source": [
    "**Observation:** The posts containing the bigram \"year old\" cover various topics that mention the age of people. They generally have no relation to each other."
   ]
  },
  {
   "cell_type": "code",
   "execution_count": 33,
   "id": "41cb0093",
   "metadata": {},
   "outputs": [
    {
     "name": "stderr",
     "output_type": "stream",
     "text": [
      "c:\\users\\rohit\\appdata\\local\\programs\\python\\python39\\lib\\site-packages\\sklearn\\utils\\deprecation.py:87: FutureWarning: Function get_feature_names is deprecated; get_feature_names is deprecated in 1.0 and will be removed in 1.2. Please use get_feature_names_out instead.\n",
      "  warnings.warn(msg, category=FutureWarning)\n"
     ]
    },
    {
     "data": {
      "text/plain": [
       "Text(0.5, 1.0, 'Most popular trigram for The Onion Subreddit')"
      ]
     },
     "execution_count": 33,
     "metadata": {},
     "output_type": "execute_result"
    },
    {
     "data": {
      "image/png": "[encoded data removed]",
      "text/plain": [
       "<Figure size 432x288 with 1 Axes>"
      ]
     },
     "metadata": {
      "needs_background": "light"
     },
     "output_type": "display_data"
    }
   ],
   "source": [
    "cvec_tri = CountVectorizer(ngram_range=(3,3))\n",
    "the_onion_lem_title_tri = cvec_tri.fit_transform(theonion_df['lem_title'])\n",
    "the_onion_lem_title_tri_df = pd.DataFrame(the_onion_lem_title_tri.toarray(), columns = cvec_tri.get_feature_names())\n",
    "the_onion_lem_title_tri_df.sum().sort_values(ascending = False).head(10).plot(kind = 'barh')\n",
    "plt.ylabel('Trigram')\n",
    "plt.xlabel('Count')\n",
    "plt.title('Most popular trigram for The Onion Subreddit')"
   ]
  },
  {
   "cell_type": "code",
   "execution_count": 34,
   "id": "491965b1",
   "metadata": {},
   "outputs": [
    {
     "data": {
      "text/html": [
       "<div>\n",
       "<style scoped>\n",
       "    .dataframe tbody tr th:only-of-type {\n",
       "        vertical-align: middle;\n",
       "    }\n",
       "\n",
       "    .dataframe tbody tr th {\n",
       "        vertical-align: top;\n",
       "    }\n",
       "\n",
       "    .dataframe thead th {\n",
       "        text-align: right;\n",
       "    }\n",
       "</style>\n",
       "<table border=\"1\" class=\"dataframe\">\n",
       "  <thead>\n",
       "    <tr style=\"text-align: right;\">\n",
       "      <th></th>\n",
       "      <th>title</th>\n",
       "    </tr>\n",
       "  </thead>\n",
       "  <tbody>\n",
       "    <tr>\n",
       "      <th>90</th>\n",
       "      <td>Nissan recalls 800 000 Sentras over brake lights - Car News. Car Reviews</td>\n",
       "    </tr>\n",
       "    <tr>\n",
       "      <th>91</th>\n",
       "      <td>Nissan recalls 800,000 Sentras over brake lights, as if things couldn't get any worse.</td>\n",
       "    </tr>\n",
       "  </tbody>\n",
       "</table>\n",
       "</div>"
      ],
      "text/plain": [
       "                                                                                     title\n",
       "90                Nissan recalls 800 000 Sentras over brake lights - Car News. Car Reviews\n",
       "91  Nissan recalls 800,000 Sentras over brake lights, as if things couldn't get any worse."
      ]
     },
     "execution_count": 34,
     "metadata": {},
     "output_type": "execute_result"
    }
   ],
   "source": [
    "theonion_df.loc[theonion_df['lem_title'].str.contains('nissan recall 800') ,['title']]"
   ]
  },
  {
   "cell_type": "markdown",
   "id": "b6a890e1",
   "metadata": {},
   "source": [
    "**Observation:** The posts containing the trigram \"nissan recall 800\" are covering how Nissan recalled 800,000 Sentras over brake light issues."
   ]
  },
  {
   "cell_type": "code",
   "execution_count": 35,
   "id": "0e46ba31",
   "metadata": {},
   "outputs": [
    {
     "data": {
      "text/html": [
       "<div>\n",
       "<style scoped>\n",
       "    .dataframe tbody tr th:only-of-type {\n",
       "        vertical-align: middle;\n",
       "    }\n",
       "\n",
       "    .dataframe tbody tr th {\n",
       "        vertical-align: top;\n",
       "    }\n",
       "\n",
       "    .dataframe thead th {\n",
       "        text-align: right;\n",
       "    }\n",
       "</style>\n",
       "<table border=\"1\" class=\"dataframe\">\n",
       "  <thead>\n",
       "    <tr style=\"text-align: right;\">\n",
       "      <th></th>\n",
       "      <th>title</th>\n",
       "    </tr>\n",
       "  </thead>\n",
       "  <tbody>\n",
       "    <tr>\n",
       "      <th>430</th>\n",
       "      <td>Man wakes up at night with the sun up for 30 days. The results will shock you.</td>\n",
       "    </tr>\n",
       "    <tr>\n",
       "      <th>431</th>\n",
       "      <td>Man wakes up at night with the sun up for 30 days. The results will shock you</td>\n",
       "    </tr>\n",
       "  </tbody>\n",
       "</table>\n",
       "</div>"
      ],
      "text/plain": [
       "                                                                              title\n",
       "430  Man wakes up at night with the sun up for 30 days. The results will shock you.\n",
       "431   Man wakes up at night with the sun up for 30 days. The results will shock you"
      ]
     },
     "execution_count": 35,
     "metadata": {},
     "output_type": "execute_result"
    }
   ],
   "source": [
    "theonion_df.loc[theonion_df['lem_title'].str.contains('sun 30 day') ,['title']]"
   ]
  },
  {
   "cell_type": "markdown",
   "id": "25eb7ae8",
   "metadata": {},
   "source": [
    "**Observation:** The posts containing the trigram \"sun 30 day\" are covering the same topic."
   ]
  },
  {
   "cell_type": "code",
   "execution_count": 36,
   "id": "30ff21ae",
   "metadata": {},
   "outputs": [
    {
     "data": {
      "text/html": [
       "<div>\n",
       "<style scoped>\n",
       "    .dataframe tbody tr th:only-of-type {\n",
       "        vertical-align: middle;\n",
       "    }\n",
       "\n",
       "    .dataframe tbody tr th {\n",
       "        vertical-align: top;\n",
       "    }\n",
       "\n",
       "    .dataframe thead th {\n",
       "        text-align: right;\n",
       "    }\n",
       "</style>\n",
       "<table border=\"1\" class=\"dataframe\">\n",
       "  <thead>\n",
       "    <tr style=\"text-align: right;\">\n",
       "      <th></th>\n",
       "      <th>title</th>\n",
       "    </tr>\n",
       "  </thead>\n",
       "  <tbody>\n",
       "    <tr>\n",
       "      <th>318</th>\n",
       "      <td>🎉Happy birthday🎉 to Leslie Price, host of Onion Public Radio's \"The Topical\" podcast. Sorry we forgot your birthday last June 8th</td>\n",
       "    </tr>\n",
       "    <tr>\n",
       "      <th>319</th>\n",
       "      <td>🎉Happy birthday🎉 to Lesley Price, host of Onion Public Radio's \"The Topical\" podcast. Sorry we forgot your birthday last June 8th</td>\n",
       "    </tr>\n",
       "  </tbody>\n",
       "</table>\n",
       "</div>"
      ],
      "text/plain": [
       "                                                                                                                                 title\n",
       "318  🎉Happy birthday🎉 to Leslie Price, host of Onion Public Radio's \"The Topical\" podcast. Sorry we forgot your birthday last June 8th\n",
       "319  🎉Happy birthday🎉 to Lesley Price, host of Onion Public Radio's \"The Topical\" podcast. Sorry we forgot your birthday last June 8th"
      ]
     },
     "execution_count": 36,
     "metadata": {},
     "output_type": "execute_result"
    }
   ],
   "source": [
    "theonion_df.loc[theonion_df['lem_title'].str.contains('podcast sorry forgot') ,['title']]"
   ]
  },
  {
   "cell_type": "markdown",
   "id": "4faa82a0",
   "metadata": {},
   "source": [
    "**Observation:** The posts containing the trigram \"podcast sorry forgot\" are covering the same topic."
   ]
  },
  {
   "cell_type": "code",
   "execution_count": 37,
   "id": "6f47ff34",
   "metadata": {},
   "outputs": [
    {
     "data": {
      "text/html": [
       "<div>\n",
       "<style scoped>\n",
       "    .dataframe tbody tr th:only-of-type {\n",
       "        vertical-align: middle;\n",
       "    }\n",
       "\n",
       "    .dataframe tbody tr th {\n",
       "        vertical-align: top;\n",
       "    }\n",
       "\n",
       "    .dataframe thead th {\n",
       "        text-align: right;\n",
       "    }\n",
       "</style>\n",
       "<table border=\"1\" class=\"dataframe\">\n",
       "  <thead>\n",
       "    <tr style=\"text-align: right;\">\n",
       "      <th></th>\n",
       "      <th>title</th>\n",
       "    </tr>\n",
       "  </thead>\n",
       "  <tbody>\n",
       "    <tr>\n",
       "      <th>702</th>\n",
       "      <td>Facebook Outage: Biggest DDOS Attack in History Facebook Outage: Biggest DDOS Attack in History</td>\n",
       "    </tr>\n",
       "  </tbody>\n",
       "</table>\n",
       "</div>"
      ],
      "text/plain": [
       "                                                                                               title\n",
       "702  Facebook Outage: Biggest DDOS Attack in History Facebook Outage: Biggest DDOS Attack in History"
      ]
     },
     "execution_count": 37,
     "metadata": {},
     "output_type": "execute_result"
    }
   ],
   "source": [
    "theonion_df.loc[theonion_df['lem_title'].str.contains('biggest ddos attack') ,['title']]"
   ]
  },
  {
   "cell_type": "markdown",
   "id": "cbb6a597",
   "metadata": {},
   "source": [
    "**Observation:** There is only 1 post containing the trigram \"biggest ddos attack\" but the trigram appears twice."
   ]
  },
  {
   "cell_type": "code",
   "execution_count": 38,
   "id": "1d816a4e",
   "metadata": {},
   "outputs": [
    {
     "data": {
      "text/html": [
       "<div>\n",
       "<style scoped>\n",
       "    .dataframe tbody tr th:only-of-type {\n",
       "        vertical-align: middle;\n",
       "    }\n",
       "\n",
       "    .dataframe tbody tr th {\n",
       "        vertical-align: top;\n",
       "    }\n",
       "\n",
       "    .dataframe thead th {\n",
       "        text-align: right;\n",
       "    }\n",
       "</style>\n",
       "<table border=\"1\" class=\"dataframe\">\n",
       "  <thead>\n",
       "    <tr style=\"text-align: right;\">\n",
       "      <th></th>\n",
       "      <th>title</th>\n",
       "    </tr>\n",
       "  </thead>\n",
       "  <tbody>\n",
       "    <tr>\n",
       "      <th>3</th>\n",
       "      <td>‘No Way To Prevent This.’ Says Only Nation Where This Regularly Happens</td>\n",
       "    </tr>\n",
       "    <tr>\n",
       "      <th>62</th>\n",
       "      <td>‘No Way To Prevent This,’ Says Only Nation Where This Regularly Happens</td>\n",
       "    </tr>\n",
       "  </tbody>\n",
       "</table>\n",
       "</div>"
      ],
      "text/plain": [
       "                                                                      title\n",
       "3   ‘No Way To Prevent This.’ Says Only Nation Where This Regularly Happens\n",
       "62  ‘No Way To Prevent This,’ Says Only Nation Where This Regularly Happens"
      ]
     },
     "execution_count": 38,
     "metadata": {},
     "output_type": "execute_result"
    }
   ],
   "source": [
    "theonion_df.loc[theonion_df['lem_title'].str.contains('say nation regularly') ,['title']]"
   ]
  },
  {
   "cell_type": "markdown",
   "id": "a2fa7544",
   "metadata": {},
   "source": [
    "**Observation:** The posts containing the trigram \"say nation regularly\" are covering the same topic."
   ]
  },
  {
   "cell_type": "code",
   "execution_count": 39,
   "id": "81b8597d",
   "metadata": {},
   "outputs": [
    {
     "data": {
      "text/html": [
       "<div>\n",
       "<style scoped>\n",
       "    .dataframe tbody tr th:only-of-type {\n",
       "        vertical-align: middle;\n",
       "    }\n",
       "\n",
       "    .dataframe tbody tr th {\n",
       "        vertical-align: top;\n",
       "    }\n",
       "\n",
       "    .dataframe thead th {\n",
       "        text-align: right;\n",
       "    }\n",
       "</style>\n",
       "<table border=\"1\" class=\"dataframe\">\n",
       "  <thead>\n",
       "    <tr style=\"text-align: right;\">\n",
       "      <th></th>\n",
       "      <th>title</th>\n",
       "    </tr>\n",
       "  </thead>\n",
       "  <tbody>\n",
       "    <tr>\n",
       "      <th>397</th>\n",
       "      <td>6-Year-Old Debating Whether To See ‘Space Jam: A New Legacy’ Following Negative ‘New York Times’ Review</td>\n",
       "    </tr>\n",
       "    <tr>\n",
       "      <th>674</th>\n",
       "      <td>‘New York Times’ Releases Jerry Jones’ Hateful Telegrams Slamming Ottoman Empire</td>\n",
       "    </tr>\n",
       "    <tr>\n",
       "      <th>773</th>\n",
       "      <td>‘New York Times’ Copy Editor Recommends Tom Morello Cut Down Use Of Wah-Wah Pedal In Column</td>\n",
       "    </tr>\n",
       "  </tbody>\n",
       "</table>\n",
       "</div>"
      ],
      "text/plain": [
       "                                                                                                       title\n",
       "397  6-Year-Old Debating Whether To See ‘Space Jam: A New Legacy’ Following Negative ‘New York Times’ Review\n",
       "674                         ‘New York Times’ Releases Jerry Jones’ Hateful Telegrams Slamming Ottoman Empire\n",
       "773              ‘New York Times’ Copy Editor Recommends Tom Morello Cut Down Use Of Wah-Wah Pedal In Column"
      ]
     },
     "execution_count": 39,
     "metadata": {},
     "output_type": "execute_result"
    }
   ],
   "source": [
    "theonion_df.loc[theonion_df['lem_title'].str.contains('new york time') ,['title']]"
   ]
  },
  {
   "cell_type": "markdown",
   "id": "175b8119",
   "metadata": {},
   "source": [
    "**Observation:** The posts containing the trigram \"new york time\" are parodying the New York Times."
   ]
  },
  {
   "cell_type": "code",
   "execution_count": 40,
   "id": "386762cc",
   "metadata": {},
   "outputs": [
    {
     "data": {
      "text/html": [
       "<div>\n",
       "<style scoped>\n",
       "    .dataframe tbody tr th:only-of-type {\n",
       "        vertical-align: middle;\n",
       "    }\n",
       "\n",
       "    .dataframe tbody tr th {\n",
       "        vertical-align: top;\n",
       "    }\n",
       "\n",
       "    .dataframe thead th {\n",
       "        text-align: right;\n",
       "    }\n",
       "</style>\n",
       "<table border=\"1\" class=\"dataframe\">\n",
       "  <thead>\n",
       "    <tr style=\"text-align: right;\">\n",
       "      <th></th>\n",
       "      <th>title</th>\n",
       "    </tr>\n",
       "  </thead>\n",
       "  <tbody>\n",
       "    <tr>\n",
       "      <th>156</th>\n",
       "      <td>The Onion’s Guide To The 2021 Oscars: Best Actor</td>\n",
       "    </tr>\n",
       "    <tr>\n",
       "      <th>157</th>\n",
       "      <td>The Onion’s Guide To The 2021 Oscars: Best Actress</td>\n",
       "    </tr>\n",
       "    <tr>\n",
       "      <th>162</th>\n",
       "      <td>The Onion’s Guide To The 2021 Oscars: Best Supporting Actress</td>\n",
       "    </tr>\n",
       "    <tr>\n",
       "      <th>163</th>\n",
       "      <td>The Onion’s Guide To The 2021 Oscars: Best Supporting Actor</td>\n",
       "    </tr>\n",
       "    <tr>\n",
       "      <th>164</th>\n",
       "      <td>The Onion’s Guide To The 2021 Oscars: Best Director</td>\n",
       "    </tr>\n",
       "  </tbody>\n",
       "</table>\n",
       "</div>"
      ],
      "text/plain": [
       "                                                             title\n",
       "156               The Onion’s Guide To The 2021 Oscars: Best Actor\n",
       "157             The Onion’s Guide To The 2021 Oscars: Best Actress\n",
       "162  The Onion’s Guide To The 2021 Oscars: Best Supporting Actress\n",
       "163    The Onion’s Guide To The 2021 Oscars: Best Supporting Actor\n",
       "164            The Onion’s Guide To The 2021 Oscars: Best Director"
      ]
     },
     "execution_count": 40,
     "metadata": {},
     "output_type": "execute_result"
    }
   ],
   "source": [
    "theonion_df.loc[theonion_df['lem_title'].str.contains('2021 oscar best') ,['title']]"
   ]
  },
  {
   "cell_type": "code",
   "execution_count": 41,
   "id": "0abfdd02",
   "metadata": {},
   "outputs": [
    {
     "data": {
      "text/html": [
       "<div>\n",
       "<style scoped>\n",
       "    .dataframe tbody tr th:only-of-type {\n",
       "        vertical-align: middle;\n",
       "    }\n",
       "\n",
       "    .dataframe tbody tr th {\n",
       "        vertical-align: top;\n",
       "    }\n",
       "\n",
       "    .dataframe thead th {\n",
       "        text-align: right;\n",
       "    }\n",
       "</style>\n",
       "<table border=\"1\" class=\"dataframe\">\n",
       "  <thead>\n",
       "    <tr style=\"text-align: right;\">\n",
       "      <th></th>\n",
       "      <th>title</th>\n",
       "    </tr>\n",
       "  </thead>\n",
       "  <tbody>\n",
       "    <tr>\n",
       "      <th>140</th>\n",
       "      <td>The Onion’s Guide To The 2021 Oscars</td>\n",
       "    </tr>\n",
       "    <tr>\n",
       "      <th>156</th>\n",
       "      <td>The Onion’s Guide To The 2021 Oscars: Best Actor</td>\n",
       "    </tr>\n",
       "    <tr>\n",
       "      <th>157</th>\n",
       "      <td>The Onion’s Guide To The 2021 Oscars: Best Actress</td>\n",
       "    </tr>\n",
       "    <tr>\n",
       "      <th>162</th>\n",
       "      <td>The Onion’s Guide To The 2021 Oscars: Best Supporting Actress</td>\n",
       "    </tr>\n",
       "    <tr>\n",
       "      <th>163</th>\n",
       "      <td>The Onion’s Guide To The 2021 Oscars: Best Supporting Actor</td>\n",
       "    </tr>\n",
       "    <tr>\n",
       "      <th>164</th>\n",
       "      <td>The Onion’s Guide To The 2021 Oscars: Best Director</td>\n",
       "    </tr>\n",
       "  </tbody>\n",
       "</table>\n",
       "</div>"
      ],
      "text/plain": [
       "                                                             title\n",
       "140                           The Onion’s Guide To The 2021 Oscars\n",
       "156               The Onion’s Guide To The 2021 Oscars: Best Actor\n",
       "157             The Onion’s Guide To The 2021 Oscars: Best Actress\n",
       "162  The Onion’s Guide To The 2021 Oscars: Best Supporting Actress\n",
       "163    The Onion’s Guide To The 2021 Oscars: Best Supporting Actor\n",
       "164            The Onion’s Guide To The 2021 Oscars: Best Director"
      ]
     },
     "execution_count": 41,
     "metadata": {},
     "output_type": "execute_result"
    }
   ],
   "source": [
    "theonion_df.loc[theonion_df['lem_title'].str.contains('guide 2021 oscar') ,['title']]"
   ]
  },
  {
   "cell_type": "code",
   "execution_count": 42,
   "id": "44160311",
   "metadata": {},
   "outputs": [
    {
     "data": {
      "text/html": [
       "<div>\n",
       "<style scoped>\n",
       "    .dataframe tbody tr th:only-of-type {\n",
       "        vertical-align: middle;\n",
       "    }\n",
       "\n",
       "    .dataframe tbody tr th {\n",
       "        vertical-align: top;\n",
       "    }\n",
       "\n",
       "    .dataframe thead th {\n",
       "        text-align: right;\n",
       "    }\n",
       "</style>\n",
       "<table border=\"1\" class=\"dataframe\">\n",
       "  <thead>\n",
       "    <tr style=\"text-align: right;\">\n",
       "      <th></th>\n",
       "      <th>title</th>\n",
       "    </tr>\n",
       "  </thead>\n",
       "  <tbody>\n",
       "    <tr>\n",
       "      <th>140</th>\n",
       "      <td>The Onion’s Guide To The 2021 Oscars</td>\n",
       "    </tr>\n",
       "    <tr>\n",
       "      <th>156</th>\n",
       "      <td>The Onion’s Guide To The 2021 Oscars: Best Actor</td>\n",
       "    </tr>\n",
       "    <tr>\n",
       "      <th>157</th>\n",
       "      <td>The Onion’s Guide To The 2021 Oscars: Best Actress</td>\n",
       "    </tr>\n",
       "    <tr>\n",
       "      <th>162</th>\n",
       "      <td>The Onion’s Guide To The 2021 Oscars: Best Supporting Actress</td>\n",
       "    </tr>\n",
       "    <tr>\n",
       "      <th>163</th>\n",
       "      <td>The Onion’s Guide To The 2021 Oscars: Best Supporting Actor</td>\n",
       "    </tr>\n",
       "    <tr>\n",
       "      <th>164</th>\n",
       "      <td>The Onion’s Guide To The 2021 Oscars: Best Director</td>\n",
       "    </tr>\n",
       "  </tbody>\n",
       "</table>\n",
       "</div>"
      ],
      "text/plain": [
       "                                                             title\n",
       "140                           The Onion’s Guide To The 2021 Oscars\n",
       "156               The Onion’s Guide To The 2021 Oscars: Best Actor\n",
       "157             The Onion’s Guide To The 2021 Oscars: Best Actress\n",
       "162  The Onion’s Guide To The 2021 Oscars: Best Supporting Actress\n",
       "163    The Onion’s Guide To The 2021 Oscars: Best Supporting Actor\n",
       "164            The Onion’s Guide To The 2021 Oscars: Best Director"
      ]
     },
     "execution_count": 42,
     "metadata": {},
     "output_type": "execute_result"
    }
   ],
   "source": [
    "theonion_df.loc[theonion_df['lem_title'].str.contains('onion guide 2021') ,['title']]"
   ]
  },
  {
   "cell_type": "markdown",
   "id": "4ef62d63",
   "metadata": {},
   "source": [
    "**Observation:** Similar to the most popular bigrams, these trigrams are related to \"onion guide 2021\" and \"oscar 2021\" too."
   ]
  },
  {
   "cell_type": "markdown",
   "id": "43406a8a",
   "metadata": {},
   "source": [
    "----\n",
    "## Most common n-grams for Not The Onion Subreddit"
   ]
  },
  {
   "cell_type": "code",
   "execution_count": 43,
   "id": "caa96233",
   "metadata": {},
   "outputs": [
    {
     "name": "stderr",
     "output_type": "stream",
     "text": [
      "c:\\users\\rohit\\appdata\\local\\programs\\python\\python39\\lib\\site-packages\\sklearn\\utils\\deprecation.py:87: FutureWarning: Function get_feature_names is deprecated; get_feature_names is deprecated in 1.0 and will be removed in 1.2. Please use get_feature_names_out instead.\n",
      "  warnings.warn(msg, category=FutureWarning)\n"
     ]
    },
    {
     "data": {
      "text/plain": [
       "Text(0.5, 1.0, 'Most popular unigram for Not The Onion Subreddit')"
      ]
     },
     "execution_count": 43,
     "metadata": {},
     "output_type": "execute_result"
    },
    {
     "data": {
      "image/png": "[encoded data removed]",
      "text/plain": [
       "<Figure size 432x288 with 1 Axes>"
      ]
     },
     "metadata": {
      "needs_background": "light"
     },
     "output_type": "display_data"
    }
   ],
   "source": [
    "cvec = CountVectorizer()\n",
    "not_the_onion_lem_title = cvec.fit_transform(nottheonion_df['lem_title'])\n",
    "not_the_onion_lem_title_df = pd.DataFrame(not_the_onion_lem_title.toarray(), columns = cvec.get_feature_names())\n",
    "not_the_onion_lem_title_df.sum().sort_values(ascending = False).head(10).plot(kind = 'barh')\n",
    "plt.ylabel('Unigram')\n",
    "plt.xlabel('Count')\n",
    "plt.title('Most popular unigram for Not The Onion Subreddit')"
   ]
  },
  {
   "cell_type": "code",
   "execution_count": 44,
   "id": "d9aaf5d1",
   "metadata": {},
   "outputs": [
    {
     "name": "stderr",
     "output_type": "stream",
     "text": [
      "c:\\users\\rohit\\appdata\\local\\programs\\python\\python39\\lib\\site-packages\\sklearn\\utils\\deprecation.py:87: FutureWarning: Function get_feature_names is deprecated; get_feature_names is deprecated in 1.0 and will be removed in 1.2. Please use get_feature_names_out instead.\n",
      "  warnings.warn(msg, category=FutureWarning)\n"
     ]
    },
    {
     "data": {
      "text/plain": [
       "Text(0.5, 1.0, 'Most popular bigram for Not The Onion Subreddit')"
      ]
     },
     "execution_count": 44,
     "metadata": {},
     "output_type": "execute_result"
    },
    {
     "data": {
      "image/png": "[encoded data removed]",
      "text/plain": [
       "<Figure size 432x288 with 1 Axes>"
      ]
     },
     "metadata": {
      "needs_background": "light"
     },
     "output_type": "display_data"
    }
   ],
   "source": [
    "cvec_bi = CountVectorizer(ngram_range=(2,2))\n",
    "not_the_onion_lem_title_bi = cvec_bi.fit_transform(nottheonion_df['lem_title'])\n",
    "not_the_onion_lem_title_bi_df = pd.DataFrame(not_the_onion_lem_title_bi.toarray(), columns = cvec_bi.get_feature_names())\n",
    "not_the_onion_lem_title_bi_df.sum().sort_values(ascending = False).head(10).plot(kind = 'barh')\n",
    "plt.ylabel('Bigram')\n",
    "plt.xlabel('Count')\n",
    "plt.title('Most popular bigram for Not The Onion Subreddit')"
   ]
  },
  {
   "cell_type": "code",
   "execution_count": 45,
   "id": "b11ae513",
   "metadata": {},
   "outputs": [
    {
     "data": {
      "text/html": [
       "<div>\n",
       "<style scoped>\n",
       "    .dataframe tbody tr th:only-of-type {\n",
       "        vertical-align: middle;\n",
       "    }\n",
       "\n",
       "    .dataframe tbody tr th {\n",
       "        vertical-align: top;\n",
       "    }\n",
       "\n",
       "    .dataframe thead th {\n",
       "        text-align: right;\n",
       "    }\n",
       "</style>\n",
       "<table border=\"1\" class=\"dataframe\">\n",
       "  <thead>\n",
       "    <tr style=\"text-align: right;\">\n",
       "      <th></th>\n",
       "      <th>title</th>\n",
       "    </tr>\n",
       "  </thead>\n",
       "  <tbody>\n",
       "    <tr>\n",
       "      <th>793</th>\n",
       "      <td>'Psycho' squirrel leaves 18 people injured in 48-hour rampage</td>\n",
       "    </tr>\n",
       "    <tr>\n",
       "      <th>803</th>\n",
       "      <td>'Psycho' squirrel on 48-hour rampage leaves 18 people injured</td>\n",
       "    </tr>\n",
       "    <tr>\n",
       "      <th>808</th>\n",
       "      <td>‘Psycho’ squirrel that went nuts biting residents is caught</td>\n",
       "    </tr>\n",
       "    <tr>\n",
       "      <th>809</th>\n",
       "      <td>'Psycho' squirrel's reign of terror ends after rampage left 18 people injured</td>\n",
       "    </tr>\n",
       "    <tr>\n",
       "      <th>870</th>\n",
       "      <td>Bloodthirsty, 'Psycho' Squirrel Attacks 18 in Small Town Christmas Rampage</td>\n",
       "    </tr>\n",
       "    <tr>\n",
       "      <th>889</th>\n",
       "      <td>Bloodthirsty, \"psycho\" squirrel attacks 18 in small town Christmas rampage</td>\n",
       "    </tr>\n",
       "    <tr>\n",
       "      <th>890</th>\n",
       "      <td>‘Psycho’ squirrel’s 48-hour Christmas rampage terrorizes town, injures 18</td>\n",
       "    </tr>\n",
       "    <tr>\n",
       "      <th>933</th>\n",
       "      <td>'Psycho' squirrel terrorizes small town over Christmas</td>\n",
       "    </tr>\n",
       "    <tr>\n",
       "      <th>964</th>\n",
       "      <td>‘Psycho’ squirrel goes on 48-hour Christmas rampage in UK town, injures 18 people</td>\n",
       "    </tr>\n",
       "  </tbody>\n",
       "</table>\n",
       "</div>"
      ],
      "text/plain": [
       "                                                                                 title\n",
       "793                      'Psycho' squirrel leaves 18 people injured in 48-hour rampage\n",
       "803                      'Psycho' squirrel on 48-hour rampage leaves 18 people injured\n",
       "808                        ‘Psycho’ squirrel that went nuts biting residents is caught\n",
       "809      'Psycho' squirrel's reign of terror ends after rampage left 18 people injured\n",
       "870         Bloodthirsty, 'Psycho' Squirrel Attacks 18 in Small Town Christmas Rampage\n",
       "889         Bloodthirsty, \"psycho\" squirrel attacks 18 in small town Christmas rampage\n",
       "890          ‘Psycho’ squirrel’s 48-hour Christmas rampage terrorizes town, injures 18\n",
       "933                             'Psycho' squirrel terrorizes small town over Christmas\n",
       "964  ‘Psycho’ squirrel goes on 48-hour Christmas rampage in UK town, injures 18 people"
      ]
     },
     "execution_count": 45,
     "metadata": {},
     "output_type": "execute_result"
    }
   ],
   "source": [
    "nottheonion_df.loc[nottheonion_df['lem_title'].str.contains('psycho squirrel') ,['title']]"
   ]
  },
  {
   "cell_type": "markdown",
   "id": "7d24318e",
   "metadata": {},
   "source": [
    "**Observation:** It seems that multiple users posted based on the same real world incident, which is a psycho squirrel attacking people."
   ]
  },
  {
   "cell_type": "code",
   "execution_count": 46,
   "id": "42040f12",
   "metadata": {},
   "outputs": [
    {
     "data": {
      "text/html": [
       "<div>\n",
       "<style scoped>\n",
       "    .dataframe tbody tr th:only-of-type {\n",
       "        vertical-align: middle;\n",
       "    }\n",
       "\n",
       "    .dataframe tbody tr th {\n",
       "        vertical-align: top;\n",
       "    }\n",
       "\n",
       "    .dataframe thead th {\n",
       "        text-align: right;\n",
       "    }\n",
       "</style>\n",
       "<table border=\"1\" class=\"dataframe\">\n",
       "  <thead>\n",
       "    <tr style=\"text-align: right;\">\n",
       "      <th></th>\n",
       "      <th>title</th>\n",
       "    </tr>\n",
       "  </thead>\n",
       "  <tbody>\n",
       "    <tr>\n",
       "      <th>604</th>\n",
       "      <td>Alexa tells 10-year-old girl to put penny in plug socket</td>\n",
       "    </tr>\n",
       "    <tr>\n",
       "      <th>697</th>\n",
       "      <td>Alexa tells 10-year-old girl to touch live plug with penny</td>\n",
       "    </tr>\n",
       "    <tr>\n",
       "      <th>729</th>\n",
       "      <td>Alexa tells girl to touch live plug with penny - BBC News</td>\n",
       "    </tr>\n",
       "    <tr>\n",
       "      <th>736</th>\n",
       "      <td>Amazon's Alexa Tells 10-year-old Girl To Put Penny in Plug Socket</td>\n",
       "    </tr>\n",
       "    <tr>\n",
       "      <th>750</th>\n",
       "      <td>Alexa tells girl to put penny in plug socket - BBC News</td>\n",
       "    </tr>\n",
       "    <tr>\n",
       "      <th>766</th>\n",
       "      <td>Amazon's Alexa tells 10-year-old child to touch penny to exposed plug socket</td>\n",
       "    </tr>\n",
       "    <tr>\n",
       "      <th>771</th>\n",
       "      <td>Alexa tells girl to touch live plug with penny</td>\n",
       "    </tr>\n",
       "    <tr>\n",
       "      <th>821</th>\n",
       "      <td>Amazon says it fixed an error that led Alexa to tell a 10-year-old girl to put a penny in an electrical outlet</td>\n",
       "    </tr>\n",
       "    <tr>\n",
       "      <th>954</th>\n",
       "      <td>Alexa Tells Child to Stick Penny on Exposed Socket</td>\n",
       "    </tr>\n",
       "  </tbody>\n",
       "</table>\n",
       "</div>"
      ],
      "text/plain": [
       "                                                                                                              title\n",
       "604                                                        Alexa tells 10-year-old girl to put penny in plug socket\n",
       "697                                                      Alexa tells 10-year-old girl to touch live plug with penny\n",
       "729                                                       Alexa tells girl to touch live plug with penny - BBC News\n",
       "736                                               Amazon's Alexa Tells 10-year-old Girl To Put Penny in Plug Socket\n",
       "750                                                         Alexa tells girl to put penny in plug socket - BBC News\n",
       "766                                    Amazon's Alexa tells 10-year-old child to touch penny to exposed plug socket\n",
       "771                                                                  Alexa tells girl to touch live plug with penny\n",
       "821  Amazon says it fixed an error that led Alexa to tell a 10-year-old girl to put a penny in an electrical outlet\n",
       "954                                                              Alexa Tells Child to Stick Penny on Exposed Socket"
      ]
     },
     "execution_count": 46,
     "metadata": {},
     "output_type": "execute_result"
    }
   ],
   "source": [
    "nottheonion_df.loc[nottheonion_df['lem_title'].str.contains('alexa tell') ,['title']]"
   ]
  },
  {
   "cell_type": "markdown",
   "id": "f3ff8a03",
   "metadata": {},
   "source": [
    "**Observation:** Multiple users posted based on the same real world incident, which is Alexa telling a child to stick a penny into an electrical plug socket."
   ]
  },
  {
   "cell_type": "code",
   "execution_count": 47,
   "id": "b866e3d1",
   "metadata": {},
   "outputs": [
    {
     "data": {
      "text/html": [
       "<div>\n",
       "<style scoped>\n",
       "    .dataframe tbody tr th:only-of-type {\n",
       "        vertical-align: middle;\n",
       "    }\n",
       "\n",
       "    .dataframe tbody tr th {\n",
       "        vertical-align: top;\n",
       "    }\n",
       "\n",
       "    .dataframe thead th {\n",
       "        text-align: right;\n",
       "    }\n",
       "</style>\n",
       "<table border=\"1\" class=\"dataframe\">\n",
       "  <thead>\n",
       "    <tr style=\"text-align: right;\">\n",
       "      <th></th>\n",
       "      <th>title</th>\n",
       "    </tr>\n",
       "  </thead>\n",
       "  <tbody>\n",
       "    <tr>\n",
       "      <th>469</th>\n",
       "      <td>Parent Says 'Let's Go Brandon' During Biden Call With NORAD Santa Tracker</td>\n",
       "    </tr>\n",
       "    <tr>\n",
       "      <th>474</th>\n",
       "      <td>On Santa tracking call, Biden is told 'Let's go Brandon' - and says he agrees</td>\n",
       "    </tr>\n",
       "    <tr>\n",
       "      <th>485</th>\n",
       "      <td>BREAKING: Biden says 'Let's go Brandon, I agree' during Christmas call with kids and parents</td>\n",
       "    </tr>\n",
       "    <tr>\n",
       "      <th>505</th>\n",
       "      <td>Biden agrees with slogan 'Let's go Brandon'</td>\n",
       "    </tr>\n",
       "    <tr>\n",
       "      <th>520</th>\n",
       "      <td>Dad tells Biden, 'Let's go Brandon' during Christmas Eve call — and Biden agrees</td>\n",
       "    </tr>\n",
       "    <tr>\n",
       "      <th>554</th>\n",
       "      <td>NASCAR driver who unintentionally sparked 'Let’s Go Brandon' chant says corporations don’t want to sponsor him</td>\n",
       "    </tr>\n",
       "    <tr>\n",
       "      <th>583</th>\n",
       "      <td>‘Let’s go Brandon’ Santa Tracker caller insists he meant no disrespect to Biden | Joe Biden</td>\n",
       "    </tr>\n",
       "    <tr>\n",
       "      <th>642</th>\n",
       "      <td>Man who used his freedom of speech in \"Let's go Brandon\" remark on phone call with Biden is upset that other people are using their freedom of speech against him</td>\n",
       "    </tr>\n",
       "    <tr>\n",
       "      <th>927</th>\n",
       "      <td>'Let's Go Brandon' Crypto Coin to Sponsor 'Let's Go Brandon' Racecar Driver</td>\n",
       "    </tr>\n",
       "  </tbody>\n",
       "</table>\n",
       "</div>"
      ],
      "text/plain": [
       "                                                                                                                                                                 title\n",
       "469                                                                                          Parent Says 'Let's Go Brandon' During Biden Call With NORAD Santa Tracker\n",
       "474                                                                                      On Santa tracking call, Biden is told 'Let's go Brandon' - and says he agrees\n",
       "485                                                                       BREAKING: Biden says 'Let's go Brandon, I agree' during Christmas call with kids and parents\n",
       "505                                                                                                                        Biden agrees with slogan 'Let's go Brandon'\n",
       "520                                                                                   Dad tells Biden, 'Let's go Brandon' during Christmas Eve call — and Biden agrees\n",
       "554                                                     NASCAR driver who unintentionally sparked 'Let’s Go Brandon' chant says corporations don’t want to sponsor him\n",
       "583                                                                        ‘Let’s go Brandon’ Santa Tracker caller insists he meant no disrespect to Biden | Joe Biden\n",
       "642  Man who used his freedom of speech in \"Let's go Brandon\" remark on phone call with Biden is upset that other people are using their freedom of speech against him\n",
       "927                                                                                        'Let's Go Brandon' Crypto Coin to Sponsor 'Let's Go Brandon' Racecar Driver"
      ]
     },
     "execution_count": 47,
     "metadata": {},
     "output_type": "execute_result"
    }
   ],
   "source": [
    "nottheonion_df.loc[nottheonion_df['lem_title'].str.contains('let go') ,['title']]"
   ]
  },
  {
   "cell_type": "markdown",
   "id": "c4f6adc1",
   "metadata": {},
   "source": [
    "**Observation:** These posts are based on the \"Let's Go Brandon\" meme. People against Joe Biden were chanting \"Fuck Joe Biden\" at a racing event. After professional racer Brandon Brown won the race, NBC reporter Kelli Stavast mistakenly described the chant as \"Let's Go Brandon\"."
   ]
  },
  {
   "cell_type": "code",
   "execution_count": 48,
   "id": "a54c03de",
   "metadata": {},
   "outputs": [
    {
     "data": {
      "text/html": [
       "<div>\n",
       "<style scoped>\n",
       "    .dataframe tbody tr th:only-of-type {\n",
       "        vertical-align: middle;\n",
       "    }\n",
       "\n",
       "    .dataframe tbody tr th {\n",
       "        vertical-align: top;\n",
       "    }\n",
       "\n",
       "    .dataframe thead th {\n",
       "        text-align: right;\n",
       "    }\n",
       "</style>\n",
       "<table border=\"1\" class=\"dataframe\">\n",
       "  <thead>\n",
       "    <tr style=\"text-align: right;\">\n",
       "      <th></th>\n",
       "      <th>title</th>\n",
       "    </tr>\n",
       "  </thead>\n",
       "  <tbody>\n",
       "    <tr>\n",
       "      <th>760</th>\n",
       "      <td>‘Bloodthirsty’ squirrel attacks 18 people in Welsh village in two-day Christmas rampage</td>\n",
       "    </tr>\n",
       "    <tr>\n",
       "      <th>769</th>\n",
       "      <td>‘Bloodthirsty’ squirrel attacks 18 people in Welsh village in two-day Christmas rampage [X-post]</td>\n",
       "    </tr>\n",
       "    <tr>\n",
       "      <th>796</th>\n",
       "      <td>‘Bloodthirsty’ squirrel attacks 18 people in small Welsh village in two-day Christmas rampage</td>\n",
       "    </tr>\n",
       "    <tr>\n",
       "      <th>870</th>\n",
       "      <td>Bloodthirsty, 'Psycho' Squirrel Attacks 18 in Small Town Christmas Rampage</td>\n",
       "    </tr>\n",
       "    <tr>\n",
       "      <th>889</th>\n",
       "      <td>Bloodthirsty, \"psycho\" squirrel attacks 18 in small town Christmas rampage</td>\n",
       "    </tr>\n",
       "    <tr>\n",
       "      <th>890</th>\n",
       "      <td>‘Psycho’ squirrel’s 48-hour Christmas rampage terrorizes town, injures 18</td>\n",
       "    </tr>\n",
       "    <tr>\n",
       "      <th>951</th>\n",
       "      <td>A squirrel went on a vicious Christmas rampage in a Welsh town, attacking 18 residents and animals</td>\n",
       "    </tr>\n",
       "    <tr>\n",
       "      <th>963</th>\n",
       "      <td>\"Vicious\" Squirrel Attacks 18 People In Two-Day Christmas Rampage</td>\n",
       "    </tr>\n",
       "    <tr>\n",
       "      <th>964</th>\n",
       "      <td>‘Psycho’ squirrel goes on 48-hour Christmas rampage in UK town, injures 18 people</td>\n",
       "    </tr>\n",
       "    <tr>\n",
       "      <th>979</th>\n",
       "      <td>Squirrel injures 18 people in Welsh town during two-day Christmas rampage</td>\n",
       "    </tr>\n",
       "  </tbody>\n",
       "</table>\n",
       "</div>"
      ],
      "text/plain": [
       "                                                                                                  title\n",
       "760             ‘Bloodthirsty’ squirrel attacks 18 people in Welsh village in two-day Christmas rampage\n",
       "769    ‘Bloodthirsty’ squirrel attacks 18 people in Welsh village in two-day Christmas rampage [X-post]\n",
       "796       ‘Bloodthirsty’ squirrel attacks 18 people in small Welsh village in two-day Christmas rampage\n",
       "870                          Bloodthirsty, 'Psycho' Squirrel Attacks 18 in Small Town Christmas Rampage\n",
       "889                          Bloodthirsty, \"psycho\" squirrel attacks 18 in small town Christmas rampage\n",
       "890                           ‘Psycho’ squirrel’s 48-hour Christmas rampage terrorizes town, injures 18\n",
       "951  A squirrel went on a vicious Christmas rampage in a Welsh town, attacking 18 residents and animals\n",
       "963                                   \"Vicious\" Squirrel Attacks 18 People In Two-Day Christmas Rampage\n",
       "964                   ‘Psycho’ squirrel goes on 48-hour Christmas rampage in UK town, injures 18 people\n",
       "979                           Squirrel injures 18 people in Welsh town during two-day Christmas rampage"
      ]
     },
     "execution_count": 48,
     "metadata": {},
     "output_type": "execute_result"
    }
   ],
   "source": [
    "nottheonion_df.loc[nottheonion_df['lem_title'].str.contains('christmas rampage') ,['title']]"
   ]
  },
  {
   "cell_type": "markdown",
   "id": "496f7172",
   "metadata": {},
   "source": [
    "**Observation:** Basically the same posts as \"psycho squirrel\"."
   ]
  },
  {
   "cell_type": "code",
   "execution_count": 49,
   "id": "9d5d0604",
   "metadata": {},
   "outputs": [
    {
     "data": {
      "text/html": [
       "<div>\n",
       "<style scoped>\n",
       "    .dataframe tbody tr th:only-of-type {\n",
       "        vertical-align: middle;\n",
       "    }\n",
       "\n",
       "    .dataframe tbody tr th {\n",
       "        vertical-align: top;\n",
       "    }\n",
       "\n",
       "    .dataframe thead th {\n",
       "        text-align: right;\n",
       "    }\n",
       "</style>\n",
       "<table border=\"1\" class=\"dataframe\">\n",
       "  <thead>\n",
       "    <tr style=\"text-align: right;\">\n",
       "      <th></th>\n",
       "      <th>title</th>\n",
       "    </tr>\n",
       "  </thead>\n",
       "  <tbody>\n",
       "    <tr>\n",
       "      <th>604</th>\n",
       "      <td>Alexa tells 10-year-old girl to put penny in plug socket</td>\n",
       "    </tr>\n",
       "    <tr>\n",
       "      <th>697</th>\n",
       "      <td>Alexa tells 10-year-old girl to touch live plug with penny</td>\n",
       "    </tr>\n",
       "    <tr>\n",
       "      <th>698</th>\n",
       "      <td>Alexa suggests 10-year-old put a penny on partially exposed plug</td>\n",
       "    </tr>\n",
       "    <tr>\n",
       "      <th>711</th>\n",
       "      <td>Amazon's Alexa 'fixed' after it tells 10-year-old girl to touch plug socket with penny | US News</td>\n",
       "    </tr>\n",
       "    <tr>\n",
       "      <th>735</th>\n",
       "      <td>Alexa challenges 10-year-old girl to put a penny in a plug</td>\n",
       "    </tr>\n",
       "    <tr>\n",
       "      <th>736</th>\n",
       "      <td>Amazon's Alexa Tells 10-year-old Girl To Put Penny in Plug Socket</td>\n",
       "    </tr>\n",
       "    <tr>\n",
       "      <th>766</th>\n",
       "      <td>Amazon's Alexa tells 10-year-old child to touch penny to exposed plug socket</td>\n",
       "    </tr>\n",
       "    <tr>\n",
       "      <th>798</th>\n",
       "      <td>Amazon's Alexa 'fixed' after it tells 10-year-old girl to touch plug socket with penny</td>\n",
       "    </tr>\n",
       "    <tr>\n",
       "      <th>816</th>\n",
       "      <td>Amazon's Alexa Says 10-year-old to touch Live Plug with Penny</td>\n",
       "    </tr>\n",
       "    <tr>\n",
       "      <th>821</th>\n",
       "      <td>Amazon says it fixed an error that led Alexa to tell a 10-year-old girl to put a penny in an electrical outlet</td>\n",
       "    </tr>\n",
       "  </tbody>\n",
       "</table>\n",
       "</div>"
      ],
      "text/plain": [
       "                                                                                                              title\n",
       "604                                                        Alexa tells 10-year-old girl to put penny in plug socket\n",
       "697                                                      Alexa tells 10-year-old girl to touch live plug with penny\n",
       "698                                                Alexa suggests 10-year-old put a penny on partially exposed plug\n",
       "711                Amazon's Alexa 'fixed' after it tells 10-year-old girl to touch plug socket with penny | US News\n",
       "735                                                      Alexa challenges 10-year-old girl to put a penny in a plug\n",
       "736                                               Amazon's Alexa Tells 10-year-old Girl To Put Penny in Plug Socket\n",
       "766                                    Amazon's Alexa tells 10-year-old child to touch penny to exposed plug socket\n",
       "798                          Amazon's Alexa 'fixed' after it tells 10-year-old girl to touch plug socket with penny\n",
       "816                                                   Amazon's Alexa Says 10-year-old to touch Live Plug with Penny\n",
       "821  Amazon says it fixed an error that led Alexa to tell a 10-year-old girl to put a penny in an electrical outlet"
      ]
     },
     "execution_count": 49,
     "metadata": {},
     "output_type": "execute_result"
    }
   ],
   "source": [
    "nottheonion_df.loc[nottheonion_df['lem_title'].str.contains('10 year') ,['title']]"
   ]
  },
  {
   "cell_type": "markdown",
   "id": "590fbe2f",
   "metadata": {},
   "source": [
    "**Observation:** Basically the same posts as \"alexa tell\"."
   ]
  },
  {
   "cell_type": "code",
   "execution_count": 50,
   "id": "01a4a9df",
   "metadata": {},
   "outputs": [
    {
     "data": {
      "text/html": [
       "<div>\n",
       "<style scoped>\n",
       "    .dataframe tbody tr th:only-of-type {\n",
       "        vertical-align: middle;\n",
       "    }\n",
       "\n",
       "    .dataframe tbody tr th {\n",
       "        vertical-align: top;\n",
       "    }\n",
       "\n",
       "    .dataframe thead th {\n",
       "        text-align: right;\n",
       "    }\n",
       "</style>\n",
       "<table border=\"1\" class=\"dataframe\">\n",
       "  <thead>\n",
       "    <tr style=\"text-align: right;\">\n",
       "      <th></th>\n",
       "      <th>title</th>\n",
       "    </tr>\n",
       "  </thead>\n",
       "  <tbody>\n",
       "    <tr>\n",
       "      <th>469</th>\n",
       "      <td>Parent Says 'Let's Go Brandon' During Biden Call With NORAD Santa Tracker</td>\n",
       "    </tr>\n",
       "    <tr>\n",
       "      <th>474</th>\n",
       "      <td>On Santa tracking call, Biden is told 'Let's go Brandon' - and says he agrees</td>\n",
       "    </tr>\n",
       "    <tr>\n",
       "      <th>485</th>\n",
       "      <td>BREAKING: Biden says 'Let's go Brandon, I agree' during Christmas call with kids and parents</td>\n",
       "    </tr>\n",
       "    <tr>\n",
       "      <th>505</th>\n",
       "      <td>Biden agrees with slogan 'Let's go Brandon'</td>\n",
       "    </tr>\n",
       "    <tr>\n",
       "      <th>520</th>\n",
       "      <td>Dad tells Biden, 'Let's go Brandon' during Christmas Eve call — and Biden agrees</td>\n",
       "    </tr>\n",
       "    <tr>\n",
       "      <th>554</th>\n",
       "      <td>NASCAR driver who unintentionally sparked 'Let’s Go Brandon' chant says corporations don’t want to sponsor him</td>\n",
       "    </tr>\n",
       "    <tr>\n",
       "      <th>583</th>\n",
       "      <td>‘Let’s go Brandon’ Santa Tracker caller insists he meant no disrespect to Biden | Joe Biden</td>\n",
       "    </tr>\n",
       "    <tr>\n",
       "      <th>642</th>\n",
       "      <td>Man who used his freedom of speech in \"Let's go Brandon\" remark on phone call with Biden is upset that other people are using their freedom of speech against him</td>\n",
       "    </tr>\n",
       "    <tr>\n",
       "      <th>927</th>\n",
       "      <td>'Let's Go Brandon' Crypto Coin to Sponsor 'Let's Go Brandon' Racecar Driver</td>\n",
       "    </tr>\n",
       "  </tbody>\n",
       "</table>\n",
       "</div>"
      ],
      "text/plain": [
       "                                                                                                                                                                 title\n",
       "469                                                                                          Parent Says 'Let's Go Brandon' During Biden Call With NORAD Santa Tracker\n",
       "474                                                                                      On Santa tracking call, Biden is told 'Let's go Brandon' - and says he agrees\n",
       "485                                                                       BREAKING: Biden says 'Let's go Brandon, I agree' during Christmas call with kids and parents\n",
       "505                                                                                                                        Biden agrees with slogan 'Let's go Brandon'\n",
       "520                                                                                   Dad tells Biden, 'Let's go Brandon' during Christmas Eve call — and Biden agrees\n",
       "554                                                     NASCAR driver who unintentionally sparked 'Let’s Go Brandon' chant says corporations don’t want to sponsor him\n",
       "583                                                                        ‘Let’s go Brandon’ Santa Tracker caller insists he meant no disrespect to Biden | Joe Biden\n",
       "642  Man who used his freedom of speech in \"Let's go Brandon\" remark on phone call with Biden is upset that other people are using their freedom of speech against him\n",
       "927                                                                                        'Let's Go Brandon' Crypto Coin to Sponsor 'Let's Go Brandon' Racecar Driver"
      ]
     },
     "execution_count": 50,
     "metadata": {},
     "output_type": "execute_result"
    }
   ],
   "source": [
    "nottheonion_df.loc[nottheonion_df['lem_title'].str.contains('go brandon') ,['title']]"
   ]
  },
  {
   "cell_type": "markdown",
   "id": "b2415113",
   "metadata": {},
   "source": [
    "**Observation:** Basically the same posts as \"let go\"."
   ]
  },
  {
   "cell_type": "code",
   "execution_count": 51,
   "id": "f427fa53",
   "metadata": {},
   "outputs": [
    {
     "data": {
      "text/html": [
       "<div>\n",
       "<style scoped>\n",
       "    .dataframe tbody tr th:only-of-type {\n",
       "        vertical-align: middle;\n",
       "    }\n",
       "\n",
       "    .dataframe tbody tr th {\n",
       "        vertical-align: top;\n",
       "    }\n",
       "\n",
       "    .dataframe thead th {\n",
       "        text-align: right;\n",
       "    }\n",
       "</style>\n",
       "<table border=\"1\" class=\"dataframe\">\n",
       "  <thead>\n",
       "    <tr style=\"text-align: right;\">\n",
       "      <th></th>\n",
       "      <th>title</th>\n",
       "    </tr>\n",
       "  </thead>\n",
       "  <tbody>\n",
       "    <tr>\n",
       "      <th>180</th>\n",
       "      <td>Florida man banned from airline for wearing thong as mask compares himself to Rosa Parks</td>\n",
       "    </tr>\n",
       "    <tr>\n",
       "      <th>211</th>\n",
       "      <td>Florida man with drugs around penis denies they were his</td>\n",
       "    </tr>\n",
       "    <tr>\n",
       "      <th>242</th>\n",
       "      <td>Florida man busted with meth and coke wrapped around his penis, tells cops it's not his</td>\n",
       "    </tr>\n",
       "    <tr>\n",
       "      <th>257</th>\n",
       "      <td>Florida man with drugs around penis denies they were his | AP News</td>\n",
       "    </tr>\n",
       "    <tr>\n",
       "      <th>290</th>\n",
       "      <td>Florida Man With Drugs Around Penis Denies They Were His</td>\n",
       "    </tr>\n",
       "    <tr>\n",
       "      <th>295</th>\n",
       "      <td>Florida man claims bags of cocaine, meth found wrapped around penis aren't his</td>\n",
       "    </tr>\n",
       "    <tr>\n",
       "      <th>417</th>\n",
       "      <td>Florida man busted with drugs 'wrapped around his penis' tells deputies it's not his: report</td>\n",
       "    </tr>\n",
       "    <tr>\n",
       "      <th>452</th>\n",
       "      <td>Florida man busted with drugs 'wrapped around his penis' tells deputies it's not his</td>\n",
       "    </tr>\n",
       "    <tr>\n",
       "      <th>693</th>\n",
       "      <td>Florida Man Stabs Tourist Despite Having No Arms.</td>\n",
       "    </tr>\n",
       "    <tr>\n",
       "      <th>744</th>\n",
       "      <td>Wealthy Florida Man Murdered During Luxury Hotel Orgy</td>\n",
       "    </tr>\n",
       "    <tr>\n",
       "      <th>797</th>\n",
       "      <td>Florida Man, Bruce Wayne, Tased After Robbing Hotel And Running Through Parking Lot With Cash Register</td>\n",
       "    </tr>\n",
       "  </tbody>\n",
       "</table>\n",
       "</div>"
      ],
      "text/plain": [
       "                                                                                                      title\n",
       "180                Florida man banned from airline for wearing thong as mask compares himself to Rosa Parks\n",
       "211                                                Florida man with drugs around penis denies they were his\n",
       "242                 Florida man busted with meth and coke wrapped around his penis, tells cops it's not his\n",
       "257                                      Florida man with drugs around penis denies they were his | AP News\n",
       "290                                                Florida Man With Drugs Around Penis Denies They Were His\n",
       "295                          Florida man claims bags of cocaine, meth found wrapped around penis aren't his\n",
       "417            Florida man busted with drugs 'wrapped around his penis' tells deputies it's not his: report\n",
       "452                    Florida man busted with drugs 'wrapped around his penis' tells deputies it's not his\n",
       "693                                                       Florida Man Stabs Tourist Despite Having No Arms.\n",
       "744                                                   Wealthy Florida Man Murdered During Luxury Hotel Orgy\n",
       "797  Florida Man, Bruce Wayne, Tased After Robbing Hotel And Running Through Parking Lot With Cash Register"
      ]
     },
     "execution_count": 51,
     "metadata": {},
     "output_type": "execute_result"
    }
   ],
   "source": [
    "nottheonion_df.loc[nottheonion_df['lem_title'].str.contains('florida man') ,['title']]"
   ]
  },
  {
   "cell_type": "markdown",
   "id": "37110279",
   "metadata": {},
   "source": [
    "**Observation:** \"Florida Man\" is a meme from 2013 and repopularized in 2020. Florida is supposedly notorious for strange happenings and internet users post such reports, particularly those with \"Florida Man\" in the headline. "
   ]
  },
  {
   "cell_type": "code",
   "execution_count": 52,
   "id": "93e11e15",
   "metadata": {},
   "outputs": [
    {
     "data": {
      "text/html": [
       "<div>\n",
       "<style scoped>\n",
       "    .dataframe tbody tr th:only-of-type {\n",
       "        vertical-align: middle;\n",
       "    }\n",
       "\n",
       "    .dataframe tbody tr th {\n",
       "        vertical-align: top;\n",
       "    }\n",
       "\n",
       "    .dataframe thead th {\n",
       "        text-align: right;\n",
       "    }\n",
       "</style>\n",
       "<table border=\"1\" class=\"dataframe\">\n",
       "  <thead>\n",
       "    <tr style=\"text-align: right;\">\n",
       "      <th></th>\n",
       "      <th>title</th>\n",
       "    </tr>\n",
       "  </thead>\n",
       "  <tbody>\n",
       "    <tr>\n",
       "      <th>760</th>\n",
       "      <td>‘Bloodthirsty’ squirrel attacks 18 people in Welsh village in two-day Christmas rampage</td>\n",
       "    </tr>\n",
       "    <tr>\n",
       "      <th>769</th>\n",
       "      <td>‘Bloodthirsty’ squirrel attacks 18 people in Welsh village in two-day Christmas rampage [X-post]</td>\n",
       "    </tr>\n",
       "    <tr>\n",
       "      <th>772</th>\n",
       "      <td>Squirrel injures 18 people in two days of attacks in Buckley</td>\n",
       "    </tr>\n",
       "    <tr>\n",
       "      <th>782</th>\n",
       "      <td>'Psycho' squirel on two-day rampage leaves 18 people injured</td>\n",
       "    </tr>\n",
       "    <tr>\n",
       "      <th>787</th>\n",
       "      <td>Squirrel injures 18 people in two days of attacks</td>\n",
       "    </tr>\n",
       "    <tr>\n",
       "      <th>793</th>\n",
       "      <td>'Psycho' squirrel leaves 18 people injured in 48-hour rampage</td>\n",
       "    </tr>\n",
       "    <tr>\n",
       "      <th>794</th>\n",
       "      <td>‘Bloodthirsty’ squirrel attacks 18 people in Welsh village</td>\n",
       "    </tr>\n",
       "    <tr>\n",
       "      <th>796</th>\n",
       "      <td>‘Bloodthirsty’ squirrel attacks 18 people in small Welsh village in two-day Christmas rampage</td>\n",
       "    </tr>\n",
       "    <tr>\n",
       "      <th>803</th>\n",
       "      <td>'Psycho' squirrel on 48-hour rampage leaves 18 people injured</td>\n",
       "    </tr>\n",
       "    <tr>\n",
       "      <th>809</th>\n",
       "      <td>'Psycho' squirrel's reign of terror ends after rampage left 18 people injured</td>\n",
       "    </tr>\n",
       "    <tr>\n",
       "      <th>961</th>\n",
       "      <td>Grey squirrel terrorises north Wales community, attacking and injuring 18 people</td>\n",
       "    </tr>\n",
       "    <tr>\n",
       "      <th>963</th>\n",
       "      <td>\"Vicious\" Squirrel Attacks 18 People In Two-Day Christmas Rampage</td>\n",
       "    </tr>\n",
       "    <tr>\n",
       "      <th>964</th>\n",
       "      <td>‘Psycho’ squirrel goes on 48-hour Christmas rampage in UK town, injures 18 people</td>\n",
       "    </tr>\n",
       "    <tr>\n",
       "      <th>979</th>\n",
       "      <td>Squirrel injures 18 people in Welsh town during two-day Christmas rampage</td>\n",
       "    </tr>\n",
       "  </tbody>\n",
       "</table>\n",
       "</div>"
      ],
      "text/plain": [
       "                                                                                                title\n",
       "760           ‘Bloodthirsty’ squirrel attacks 18 people in Welsh village in two-day Christmas rampage\n",
       "769  ‘Bloodthirsty’ squirrel attacks 18 people in Welsh village in two-day Christmas rampage [X-post]\n",
       "772                                      Squirrel injures 18 people in two days of attacks in Buckley\n",
       "782                                      'Psycho' squirel on two-day rampage leaves 18 people injured\n",
       "787                                                 Squirrel injures 18 people in two days of attacks\n",
       "793                                     'Psycho' squirrel leaves 18 people injured in 48-hour rampage\n",
       "794                                        ‘Bloodthirsty’ squirrel attacks 18 people in Welsh village\n",
       "796     ‘Bloodthirsty’ squirrel attacks 18 people in small Welsh village in two-day Christmas rampage\n",
       "803                                     'Psycho' squirrel on 48-hour rampage leaves 18 people injured\n",
       "809                     'Psycho' squirrel's reign of terror ends after rampage left 18 people injured\n",
       "961                  Grey squirrel terrorises north Wales community, attacking and injuring 18 people\n",
       "963                                 \"Vicious\" Squirrel Attacks 18 People In Two-Day Christmas Rampage\n",
       "964                 ‘Psycho’ squirrel goes on 48-hour Christmas rampage in UK town, injures 18 people\n",
       "979                         Squirrel injures 18 people in Welsh town during two-day Christmas rampage"
      ]
     },
     "execution_count": 52,
     "metadata": {},
     "output_type": "execute_result"
    }
   ],
   "source": [
    "nottheonion_df.loc[nottheonion_df['lem_title'].str.contains('18 people') ,['title']]"
   ]
  },
  {
   "cell_type": "markdown",
   "id": "42b16b74",
   "metadata": {},
   "source": [
    "**Observation:** Basically the same posts as \"psycho squirrel\"."
   ]
  },
  {
   "cell_type": "code",
   "execution_count": 53,
   "id": "45708e24",
   "metadata": {},
   "outputs": [
    {
     "data": {
      "text/html": [
       "<div>\n",
       "<style scoped>\n",
       "    .dataframe tbody tr th:only-of-type {\n",
       "        vertical-align: middle;\n",
       "    }\n",
       "\n",
       "    .dataframe tbody tr th {\n",
       "        vertical-align: top;\n",
       "    }\n",
       "\n",
       "    .dataframe thead th {\n",
       "        text-align: right;\n",
       "    }\n",
       "</style>\n",
       "<table border=\"1\" class=\"dataframe\">\n",
       "  <thead>\n",
       "    <tr style=\"text-align: right;\">\n",
       "      <th></th>\n",
       "      <th>title</th>\n",
       "    </tr>\n",
       "  </thead>\n",
       "  <tbody>\n",
       "    <tr>\n",
       "      <th>56</th>\n",
       "      <td>Fox dropping COVID-19 testing option, requiring vaccinations for workers in New York</td>\n",
       "    </tr>\n",
       "    <tr>\n",
       "      <th>86</th>\n",
       "      <td>Sarah Palin: 'Over my dead body' will I get the COVID-19 vaccine</td>\n",
       "    </tr>\n",
       "    <tr>\n",
       "      <th>162</th>\n",
       "      <td>Slutcracker throws in the vibrator, cancels remainder of performances due to Covid-19</td>\n",
       "    </tr>\n",
       "    <tr>\n",
       "      <th>177</th>\n",
       "      <td>The first American to die of the Omicron variant was an unvaccinated Texas man who had previously caught COVID-19</td>\n",
       "    </tr>\n",
       "    <tr>\n",
       "      <th>274</th>\n",
       "      <td>Dozens at QAnon conference fall ill, swear it was an anthrax attack—not COVID-19</td>\n",
       "    </tr>\n",
       "    <tr>\n",
       "      <th>312</th>\n",
       "      <td>North Carolina police chief placed on unpaid leave for telling officers about 'clinic' to obtain Covid-19 vaccination cards without getting the shots</td>\n",
       "    </tr>\n",
       "    <tr>\n",
       "      <th>313</th>\n",
       "      <td>Covid-19: In Sweden, a vaccine passport on a microchip implant</td>\n",
       "    </tr>\n",
       "    <tr>\n",
       "      <th>498</th>\n",
       "      <td>Amazon Yankee Candle reviews are mirroring the COVID-19 surge — again</td>\n",
       "    </tr>\n",
       "    <tr>\n",
       "      <th>506</th>\n",
       "      <td>Bidens blasted over singing nurses' WH performance as COVID-19 cases rise</td>\n",
       "    </tr>\n",
       "    <tr>\n",
       "      <th>573</th>\n",
       "      <td>A North Carolina police chief was put on unpaid leave after allegedly telling officers where they can get a COVID-19 vaccine card without the shot</td>\n",
       "    </tr>\n",
       "    <tr>\n",
       "      <th>644</th>\n",
       "      <td>Bad reviews of Yankee Candle might predict waves of Covid-19</td>\n",
       "    </tr>\n",
       "    <tr>\n",
       "      <th>666</th>\n",
       "      <td>Covid-19: India's unwinnable battle against spitting</td>\n",
       "    </tr>\n",
       "    <tr>\n",
       "      <th>806</th>\n",
       "      <td>What is the incubation period of COVID-19 Omicron ?</td>\n",
       "    </tr>\n",
       "    <tr>\n",
       "      <th>852</th>\n",
       "      <td>What is Restless Anal Syndrome and Can COVID-19 Cause It?</td>\n",
       "    </tr>\n",
       "    <tr>\n",
       "      <th>872</th>\n",
       "      <td>Woman Tests Positive for COVID-19 Mid-Flight, Isolates for 5 Hours in Bathroom</td>\n",
       "    </tr>\n",
       "    <tr>\n",
       "      <th>900</th>\n",
       "      <td>Chicago woman quarantined in airplane bathroom for 3 hours after testing positive for Covid-19 mid-flight</td>\n",
       "    </tr>\n",
       "    <tr>\n",
       "      <th>915</th>\n",
       "      <td>Michigan says it won't follow CDC's relaxed covid 19 recommendations.</td>\n",
       "    </tr>\n",
       "    <tr>\n",
       "      <th>990</th>\n",
       "      <td>France offers intensive care nurses €100 monthly bonus amid Covid-19 exhaustion</td>\n",
       "    </tr>\n",
       "  </tbody>\n",
       "</table>\n",
       "</div>"
      ],
      "text/plain": [
       "                                                                                                                                                     title\n",
       "56                                                                    Fox dropping COVID-19 testing option, requiring vaccinations for workers in New York\n",
       "86                                                                                        Sarah Palin: 'Over my dead body' will I get the COVID-19 vaccine\n",
       "162                                                                  Slutcracker throws in the vibrator, cancels remainder of performances due to Covid-19\n",
       "177                                      The first American to die of the Omicron variant was an unvaccinated Texas man who had previously caught COVID-19\n",
       "274                                                                       Dozens at QAnon conference fall ill, swear it was an anthrax attack—not COVID-19\n",
       "312  North Carolina police chief placed on unpaid leave for telling officers about 'clinic' to obtain Covid-19 vaccination cards without getting the shots\n",
       "313                                                                                         Covid-19: In Sweden, a vaccine passport on a microchip implant\n",
       "498                                                                                  Amazon Yankee Candle reviews are mirroring the COVID-19 surge — again\n",
       "506                                                                              Bidens blasted over singing nurses' WH performance as COVID-19 cases rise\n",
       "573     A North Carolina police chief was put on unpaid leave after allegedly telling officers where they can get a COVID-19 vaccine card without the shot\n",
       "644                                                                                           Bad reviews of Yankee Candle might predict waves of Covid-19\n",
       "666                                                                                                   Covid-19: India's unwinnable battle against spitting\n",
       "806                                                                                                    What is the incubation period of COVID-19 Omicron ?\n",
       "852                                                                                              What is Restless Anal Syndrome and Can COVID-19 Cause It?\n",
       "872                                                                         Woman Tests Positive for COVID-19 Mid-Flight, Isolates for 5 Hours in Bathroom\n",
       "900                                              Chicago woman quarantined in airplane bathroom for 3 hours after testing positive for Covid-19 mid-flight\n",
       "915                                                                                  Michigan says it won't follow CDC's relaxed covid 19 recommendations.\n",
       "990                                                                        France offers intensive care nurses €100 monthly bonus amid Covid-19 exhaustion"
      ]
     },
     "execution_count": 53,
     "metadata": {},
     "output_type": "execute_result"
    }
   ],
   "source": [
    "nottheonion_df.loc[nottheonion_df['lem_title'].str.contains('covid 19') ,['title']]"
   ]
  },
  {
   "cell_type": "markdown",
   "id": "559c8a57",
   "metadata": {},
   "source": [
    "**Observation:** A variety of posts regarding Covid 19. The posts are generally not related to each other."
   ]
  },
  {
   "cell_type": "code",
   "execution_count": 54,
   "id": "6840b4d4",
   "metadata": {},
   "outputs": [
    {
     "data": {
      "text/html": [
       "<div>\n",
       "<style scoped>\n",
       "    .dataframe tbody tr th:only-of-type {\n",
       "        vertical-align: middle;\n",
       "    }\n",
       "\n",
       "    .dataframe tbody tr th {\n",
       "        vertical-align: top;\n",
       "    }\n",
       "\n",
       "    .dataframe thead th {\n",
       "        text-align: right;\n",
       "    }\n",
       "</style>\n",
       "<table border=\"1\" class=\"dataframe\">\n",
       "  <thead>\n",
       "    <tr style=\"text-align: right;\">\n",
       "      <th></th>\n",
       "      <th>title</th>\n",
       "    </tr>\n",
       "  </thead>\n",
       "  <tbody>\n",
       "    <tr>\n",
       "      <th>23</th>\n",
       "      <td>81-year-old US Capitol rioter sentenced to three years of probation</td>\n",
       "    </tr>\n",
       "    <tr>\n",
       "      <th>54</th>\n",
       "      <td>A Theft Too Far – Akron police recover stolen bridge, arrest 63-year-old Medina Co. man</td>\n",
       "    </tr>\n",
       "    <tr>\n",
       "      <th>134</th>\n",
       "      <td>6-year-old uses allowance to buy first home for $671K</td>\n",
       "    </tr>\n",
       "    <tr>\n",
       "      <th>142</th>\n",
       "      <td>12-year-old tries to rob 17-year-old at gunpoint, gets shot instead, deputies say</td>\n",
       "    </tr>\n",
       "    <tr>\n",
       "      <th>173</th>\n",
       "      <td>Six-year-old and her siblings buy house with pocket money</td>\n",
       "    </tr>\n",
       "    <tr>\n",
       "      <th>228</th>\n",
       "      <td>21-year-old El Paso man jailed for allegedly posing as cop, trying to pull over vehicles</td>\n",
       "    </tr>\n",
       "    <tr>\n",
       "      <th>240</th>\n",
       "      <td>40-year-old riding electric unicycle killed after being struck by car on H-1 Freeway</td>\n",
       "    </tr>\n",
       "    <tr>\n",
       "      <th>345</th>\n",
       "      <td>Warning against unnecessary circumcision from Australian Medical Association president Mark Duncan-Smith after two-year-old dies and brother almost bleeds out in Western Australia</td>\n",
       "    </tr>\n",
       "    <tr>\n",
       "      <th>445</th>\n",
       "      <td>Police find family of 2-year-old left at North Little Rock CiCi's Pizza</td>\n",
       "    </tr>\n",
       "    <tr>\n",
       "      <th>499</th>\n",
       "      <td>A chubby 2-year-old chain smoker who puffed 40 times a day looks unrecognizable in 7 years</td>\n",
       "    </tr>\n",
       "    <tr>\n",
       "      <th>604</th>\n",
       "      <td>Alexa tells 10-year-old girl to put penny in plug socket</td>\n",
       "    </tr>\n",
       "    <tr>\n",
       "      <th>659</th>\n",
       "      <td>Six-year-old boy ‘in floods of tears’ at first rugby game after drunk fan vomits on him</td>\n",
       "    </tr>\n",
       "    <tr>\n",
       "      <th>697</th>\n",
       "      <td>Alexa tells 10-year-old girl to touch live plug with penny</td>\n",
       "    </tr>\n",
       "    <tr>\n",
       "      <th>698</th>\n",
       "      <td>Alexa suggests 10-year-old put a penny on partially exposed plug</td>\n",
       "    </tr>\n",
       "    <tr>\n",
       "      <th>699</th>\n",
       "      <td>11-Year-Old Louisiana Rapper Drops Song Mourning All His Dead Homies</td>\n",
       "    </tr>\n",
       "    <tr>\n",
       "      <th>700</th>\n",
       "      <td>Maskless woman attacks 80-year-old man in flight for eating without a mask</td>\n",
       "    </tr>\n",
       "    <tr>\n",
       "      <th>710</th>\n",
       "      <td>14-year-old girl fatally shot by LAPD called US 'safest country in the world,' father says</td>\n",
       "    </tr>\n",
       "    <tr>\n",
       "      <th>711</th>\n",
       "      <td>Amazon's Alexa 'fixed' after it tells 10-year-old girl to touch plug socket with penny | US News</td>\n",
       "    </tr>\n",
       "    <tr>\n",
       "      <th>735</th>\n",
       "      <td>Alexa challenges 10-year-old girl to put a penny in a plug</td>\n",
       "    </tr>\n",
       "    <tr>\n",
       "      <th>736</th>\n",
       "      <td>Amazon's Alexa Tells 10-year-old Girl To Put Penny in Plug Socket</td>\n",
       "    </tr>\n",
       "    <tr>\n",
       "      <th>766</th>\n",
       "      <td>Amazon's Alexa tells 10-year-old child to touch penny to exposed plug socket</td>\n",
       "    </tr>\n",
       "    <tr>\n",
       "      <th>784</th>\n",
       "      <td>22-year-old arrested for allegedly transmitting images and videos of his private parts on OnlyFans account</td>\n",
       "    </tr>\n",
       "    <tr>\n",
       "      <th>798</th>\n",
       "      <td>Amazon's Alexa 'fixed' after it tells 10-year-old girl to touch plug socket with penny</td>\n",
       "    </tr>\n",
       "    <tr>\n",
       "      <th>816</th>\n",
       "      <td>Amazon's Alexa Says 10-year-old to touch Live Plug with Penny</td>\n",
       "    </tr>\n",
       "    <tr>\n",
       "      <th>821</th>\n",
       "      <td>Amazon says it fixed an error that led Alexa to tell a 10-year-old girl to put a penny in an electrical outlet</td>\n",
       "    </tr>\n",
       "    <tr>\n",
       "      <th>822</th>\n",
       "      <td>Mom Catches 16-Year-Old Daughter In Bed With A Boy</td>\n",
       "    </tr>\n",
       "    <tr>\n",
       "      <th>857</th>\n",
       "      <td>North Carolina 3-year-old who accidentally shot herself on Christmas Day has died</td>\n",
       "    </tr>\n",
       "  </tbody>\n",
       "</table>\n",
       "</div>"
      ],
      "text/plain": [
       "                                                                                                                                                                                   title\n",
       "23                                                                                                                   81-year-old US Capitol rioter sentenced to three years of probation\n",
       "54                                                                                               A Theft Too Far – Akron police recover stolen bridge, arrest 63-year-old Medina Co. man\n",
       "134                                                                                                                                6-year-old uses allowance to buy first home for $671K\n",
       "142                                                                                                    12-year-old tries to rob 17-year-old at gunpoint, gets shot instead, deputies say\n",
       "173                                                                                                                            Six-year-old and her siblings buy house with pocket money\n",
       "228                                                                                             21-year-old El Paso man jailed for allegedly posing as cop, trying to pull over vehicles\n",
       "240                                                                                                 40-year-old riding electric unicycle killed after being struck by car on H-1 Freeway\n",
       "345  Warning against unnecessary circumcision from Australian Medical Association president Mark Duncan-Smith after two-year-old dies and brother almost bleeds out in Western Australia\n",
       "445                                                                                                              Police find family of 2-year-old left at North Little Rock CiCi's Pizza\n",
       "499                                                                                           A chubby 2-year-old chain smoker who puffed 40 times a day looks unrecognizable in 7 years\n",
       "604                                                                                                                             Alexa tells 10-year-old girl to put penny in plug socket\n",
       "659                                                                                              Six-year-old boy ‘in floods of tears’ at first rugby game after drunk fan vomits on him\n",
       "697                                                                                                                           Alexa tells 10-year-old girl to touch live plug with penny\n",
       "698                                                                                                                     Alexa suggests 10-year-old put a penny on partially exposed plug\n",
       "699                                                                                                                 11-Year-Old Louisiana Rapper Drops Song Mourning All His Dead Homies\n",
       "700                                                                                                           Maskless woman attacks 80-year-old man in flight for eating without a mask\n",
       "710                                                                                           14-year-old girl fatally shot by LAPD called US 'safest country in the world,' father says\n",
       "711                                                                                     Amazon's Alexa 'fixed' after it tells 10-year-old girl to touch plug socket with penny | US News\n",
       "735                                                                                                                           Alexa challenges 10-year-old girl to put a penny in a plug\n",
       "736                                                                                                                    Amazon's Alexa Tells 10-year-old Girl To Put Penny in Plug Socket\n",
       "766                                                                                                         Amazon's Alexa tells 10-year-old child to touch penny to exposed plug socket\n",
       "784                                                                           22-year-old arrested for allegedly transmitting images and videos of his private parts on OnlyFans account\n",
       "798                                                                                               Amazon's Alexa 'fixed' after it tells 10-year-old girl to touch plug socket with penny\n",
       "816                                                                                                                        Amazon's Alexa Says 10-year-old to touch Live Plug with Penny\n",
       "821                                                                       Amazon says it fixed an error that led Alexa to tell a 10-year-old girl to put a penny in an electrical outlet\n",
       "822                                                                                                                                   Mom Catches 16-Year-Old Daughter In Bed With A Boy\n",
       "857                                                                                                    North Carolina 3-year-old who accidentally shot herself on Christmas Day has died"
      ]
     },
     "execution_count": 54,
     "metadata": {},
     "output_type": "execute_result"
    }
   ],
   "source": [
    "nottheonion_df.loc[nottheonion_df['lem_title'].str.contains('year old') ,['title']]"
   ]
  },
  {
   "cell_type": "markdown",
   "id": "07749fb2",
   "metadata": {},
   "source": [
    "**Observation:** A wide variety of posts that include people's age in the title. Includes the Alexa telling a child to stick a penny into an electrical plug socket posts."
   ]
  },
  {
   "cell_type": "code",
   "execution_count": 55,
   "id": "c833d981",
   "metadata": {},
   "outputs": [
    {
     "name": "stderr",
     "output_type": "stream",
     "text": [
      "c:\\users\\rohit\\appdata\\local\\programs\\python\\python39\\lib\\site-packages\\sklearn\\utils\\deprecation.py:87: FutureWarning: Function get_feature_names is deprecated; get_feature_names is deprecated in 1.0 and will be removed in 1.2. Please use get_feature_names_out instead.\n",
      "  warnings.warn(msg, category=FutureWarning)\n"
     ]
    },
    {
     "data": {
      "text/plain": [
       "Text(0.5, 1.0, 'Most popular trigram for Not The Onion Subreddit')"
      ]
     },
     "execution_count": 55,
     "metadata": {},
     "output_type": "execute_result"
    },
    {
     "data": {
      "image/png": "[encoded data removed]",
      "text/plain": [
       "<Figure size 432x288 with 1 Axes>"
      ]
     },
     "metadata": {
      "needs_background": "light"
     },
     "output_type": "display_data"
    }
   ],
   "source": [
    "cvec_tri = CountVectorizer(ngram_range=(3,3))\n",
    "not_the_onion_lem_title_tri = cvec_tri.fit_transform(nottheonion_df['lem_title'])\n",
    "not_the_onion_lem_title_tri_df = pd.DataFrame(not_the_onion_lem_title_tri.toarray(), columns = cvec_tri.get_feature_names())\n",
    "not_the_onion_lem_title_tri_df.sum().sort_values(ascending = False).head(10).plot(kind = 'barh')\n",
    "plt.ylabel('Trigram')\n",
    "plt.xlabel('Count')\n",
    "plt.title('Most popular trigram for Not The Onion Subreddit')"
   ]
  },
  {
   "cell_type": "markdown",
   "id": "6841eec5",
   "metadata": {},
   "source": [
    "**Observation:** Most popular trigrams are related to the popular posts identified in the most popular bigrams section.\n",
    "\n",
    "- Florida Man posts: \"wrapped around penis\", \"around penis denies\"\n",
    "- Alexa and penny in socket posts: \"alexa tell 10\", \"girl put penny\", \"live plug penny\", \"tell 10 year\", \"year old girl\", \"10 year old\"\n",
    "- Psycho Squirrel posts: \"squirrel attack 18\"\n",
    "- Let's Go Brandon posts: \"let go brandon\""
   ]
  },
  {
   "cell_type": "markdown",
   "id": "48f6f57b",
   "metadata": {},
   "source": [
    "### Most Popular Ngram Insights\n",
    "- The Onion has very little duplicated content, each post is usually a unique story\n",
    "- Not The Onion has multiple users posting to the subreddit based on the same source story, using their own crafted post title \n",
    "- Popular topics covered by The Onion include: The Oscars 2021, Kyle Rittenhouse, Climate Change, Video Games\n",
    "- Popular topics covered by Not The Onion include: Psycho Squirrel, Let's Go Brandon, Florida Man and Alexa and penny in socket"
   ]
  },
  {
   "cell_type": "markdown",
   "id": "ef8b76dd",
   "metadata": {},
   "source": [
    "----\n",
    "## Author post distribution in The Onion"
   ]
  },
  {
   "cell_type": "code",
   "execution_count": 56,
   "id": "39d369d4",
   "metadata": {},
   "outputs": [
    {
     "data": {
      "text/plain": [
       "author\n",
       "dwaxe                   175\n",
       "aresef                   86\n",
       "Sanlear                  82\n",
       "coolwali                 63\n",
       "mothershipq              58\n",
       "                       ... \n",
       "ParticularScratch551      1\n",
       "Pile_of_Walthers          1\n",
       "PlayStationDERP           1\n",
       "PlotKnot                  1\n",
       "zorz_af                   1\n",
       "Name: author, Length: 235, dtype: int64"
      ]
     },
     "execution_count": 56,
     "metadata": {},
     "output_type": "execute_result"
    }
   ],
   "source": [
    "theonion_df.groupby('author')['author'].count().sort_values(ascending=False)"
   ]
  },
  {
   "cell_type": "code",
   "execution_count": 57,
   "id": "0b363da0",
   "metadata": {},
   "outputs": [
    {
     "data": {
      "image/png": "[encoded data removed]",
      "text/plain": [
       "<Figure size 2160x360 with 1 Axes>"
      ]
     },
     "metadata": {
      "needs_background": "light"
     },
     "output_type": "display_data"
    }
   ],
   "source": [
    "plt.figure(figsize = (30,5)) \n",
    "theonion_df.groupby('author')['author'].count().sort_values(ascending=False).head(50).plot(kind='bar')\n",
    "plt.axhline(y=theonion_df.groupby('author')['author'].count().mean(), color='r', linestyle='--')\n",
    "plt.title('Top 50 Authors in The Onion Subreddit',{'fontsize':30})\n",
    "plt.xlabel('Authors',{'fontsize':20})\n",
    "plt.ylabel('No. of Posts',{'fontsize':20})\n",
    "plt.text(15,15,'Dotted Line = Average Posts per Author',{'fontsize':20},color='r')\n",
    "plt.show()"
   ]
  },
  {
   "cell_type": "code",
   "execution_count": 58,
   "id": "2dcd907e",
   "metadata": {},
   "outputs": [
    {
     "data": {
      "text/plain": [
       "count    235.000000\n",
       "mean       4.255319\n",
       "std       15.498371\n",
       "min        1.000000\n",
       "25%        1.000000\n",
       "50%        1.000000\n",
       "75%        2.000000\n",
       "max      175.000000\n",
       "Name: author, dtype: float64"
      ]
     },
     "execution_count": 58,
     "metadata": {},
     "output_type": "execute_result"
    }
   ],
   "source": [
    "theonion_df.groupby('author')['author'].count().describe()"
   ]
  },
  {
   "cell_type": "markdown",
   "id": "13399f19",
   "metadata": {},
   "source": [
    "**Observation:** Of the 1,000 scrapped posts from The Onion, there are 236 unique authors. On average, each author posts 4.24 posts.\n",
    "\n",
    "**Insight:** Only a handful of authors are posting most of the posts in The Onion. This can be seen by the top few authors with post numbers way above the average number of posts per author (dotted red line). The author \"dwaxe\" has the most number of posts at 174, more than twice that of the 2nd place author \"aresef\" at 86 posts.\n",
    "\n",
    "----\n",
    "## Author post distribution in Not The Onion"
   ]
  },
  {
   "cell_type": "code",
   "execution_count": 59,
   "id": "b7138a4b",
   "metadata": {},
   "outputs": [
    {
     "data": {
      "text/plain": [
       "author\n",
       "virlan4trendnews        38\n",
       "-Omegamart-             24\n",
       "Darth_Kahuna            20\n",
       "[deleted]               16\n",
       "SelectiveSanity         15\n",
       "                        ..\n",
       "Reach-for-the-sky_15     1\n",
       "RealTheAsh               1\n",
       "Reasonable-Chemist16     1\n",
       "Redbeard25               1\n",
       "zwifter11                1\n",
       "Name: author, Length: 718, dtype: int64"
      ]
     },
     "execution_count": 59,
     "metadata": {},
     "output_type": "execute_result"
    }
   ],
   "source": [
    "nottheonion_df.groupby('author')['author'].count().sort_values(ascending=False)"
   ]
  },
  {
   "cell_type": "code",
   "execution_count": 60,
   "id": "92acb2c2",
   "metadata": {},
   "outputs": [
    {
     "data": {
      "image/png": "[encoded data removed]",
      "text/plain": [
       "<Figure size 2160x360 with 1 Axes>"
      ]
     },
     "metadata": {
      "needs_background": "light"
     },
     "output_type": "display_data"
    }
   ],
   "source": [
    "plt.figure(figsize = (30,5)) \n",
    "nottheonion_df.groupby('author')['author'].count().sort_values(ascending=False).head(50).plot(kind='bar')\n",
    "plt.axhline(y=nottheonion_df.groupby('author')['author'].count().mean(), color='r', linestyle='--')\n",
    "plt.title('Top 50 Authors in Not The Onion Subreddit',{'fontsize':30})\n",
    "plt.xlabel('Authors',{'fontsize':20})\n",
    "plt.ylabel('No. of Posts',{'fontsize':20})\n",
    "plt.text(25,5,'Dotted Line = Average Posts per Author',{'fontsize':20},color='r')\n",
    "plt.show()"
   ]
  },
  {
   "cell_type": "code",
   "execution_count": 61,
   "id": "aa060df1",
   "metadata": {},
   "outputs": [
    {
     "data": {
      "text/plain": [
       "count    718.000000\n",
       "mean       1.392758\n",
       "std        2.077052\n",
       "min        1.000000\n",
       "25%        1.000000\n",
       "50%        1.000000\n",
       "75%        1.000000\n",
       "max       38.000000\n",
       "Name: author, dtype: float64"
      ]
     },
     "execution_count": 61,
     "metadata": {},
     "output_type": "execute_result"
    }
   ],
   "source": [
    "nottheonion_df.groupby('author')['author'].count().describe()"
   ]
  },
  {
   "cell_type": "markdown",
   "id": "9e9f733d",
   "metadata": {},
   "source": [
    "**Observation:** Of the 1,000 scrapped posts from Not The Onion, there are 718 unique authors. On average, each author posts 1.39 posts.\n",
    "\n",
    "**Insight:** Similar to The Onion, in Not The Onion, only a handful of authors are posting most of the posts. This can be seen by the top few authors with post numbers way above the average number of posts per author (dotted red line). The author \"virlan4trendnews\" has the most number of posts at 38, more than 1.5 times that of the 2nd place author \"-Omegamart-\" at 24 posts."
   ]
  },
  {
   "cell_type": "markdown",
   "id": "a3ec66f8",
   "metadata": {},
   "source": [
    "----\n",
    "## Domain distribution in The Onion"
   ]
  },
  {
   "cell_type": "code",
   "execution_count": 62,
   "id": "ef59421a",
   "metadata": {},
   "outputs": [
    {
     "data": {
      "text/plain": [
       "theonion.com                  0.755\n",
       "youtu.be                      0.035\n",
       "entertainment.theonion.com    0.032\n",
       "i.redd.it                     0.028\n",
       "local.theonion.com            0.025\n",
       "                              ...  \n",
       "dailyguffaw.com               0.001\n",
       "magzze.com                    0.001\n",
       "discord.gg                    0.001\n",
       "pca.st                        0.001\n",
       "gizmodo.com                   0.001\n",
       "Name: domain, Length: 63, dtype: float64"
      ]
     },
     "execution_count": 62,
     "metadata": {},
     "output_type": "execute_result"
    }
   ],
   "source": [
    "theonion_df['domain'].value_counts(normalize = True)"
   ]
  },
  {
   "cell_type": "code",
   "execution_count": 63,
   "id": "df9ce48a",
   "metadata": {},
   "outputs": [
    {
     "data": {
      "text/plain": [
       "count             1000\n",
       "unique              63\n",
       "top       theonion.com\n",
       "freq               755\n",
       "Name: domain, dtype: object"
      ]
     },
     "execution_count": 63,
     "metadata": {},
     "output_type": "execute_result"
    }
   ],
   "source": [
    "theonion_df['domain'].describe()"
   ]
  },
  {
   "cell_type": "markdown",
   "id": "95692412",
   "metadata": {},
   "source": [
    "**Insight:** Vast majority of the posts in The Onion (75.4%) unsurprisingly come from theonion.com. There are 64 unique domains."
   ]
  },
  {
   "cell_type": "code",
   "execution_count": 64,
   "id": "a390cb66",
   "metadata": {},
   "outputs": [
    {
     "data": {
      "image/png": "[encoded data removed]",
      "text/plain": [
       "<Figure size 2160x360 with 1 Axes>"
      ]
     },
     "metadata": {
      "needs_background": "light"
     },
     "output_type": "display_data"
    }
   ],
   "source": [
    "plt.figure(figsize = (30,5)) \n",
    "theonion_df['domain'].value_counts().head(50).plot(kind='bar')\n",
    "plt.axhline(y=theonion_df['domain'].value_counts().mean(), color='r', linestyle='--')\n",
    "plt.title('Top 50 Domains in The Onion Subreddit',{'fontsize':30})\n",
    "plt.xlabel('Domains',{'fontsize':20})\n",
    "plt.ylabel('No. of Posts',{'fontsize':20})\n",
    "plt.text(10,15,'Dotted Line = Average Posts per Domain',{'fontsize':20},color='r')\n",
    "plt.show()"
   ]
  },
  {
   "cell_type": "markdown",
   "id": "d5a2830e",
   "metadata": {},
   "source": [
    "**Insight:** The top domain, theonion.com is heads and shoulders above every other domain. This is consistent with the subreddit rules of only allowing posts from theonion.com. Posts from the other domains are likely to have been removed.\n",
    "\n",
    "----\n",
    "## Domain distribution in Not The Onion"
   ]
  },
  {
   "cell_type": "code",
   "execution_count": 65,
   "id": "63ccbc77",
   "metadata": {},
   "outputs": [
    {
     "data": {
      "text/plain": [
       "virlan.co          0.037\n",
       "theguardian.com    0.030\n",
       "foxnews.com        0.021\n",
       "bbc.com            0.021\n",
       "youtu.be           0.020\n",
       "                   ...  \n",
       "counton2.com       0.001\n",
       "ggwash.org         0.001\n",
       "nation.lk          0.001\n",
       "coinslot.co.uk     0.001\n",
       "amp.tmz.com        0.001\n",
       "Name: domain, Length: 487, dtype: float64"
      ]
     },
     "execution_count": 65,
     "metadata": {},
     "output_type": "execute_result"
    }
   ],
   "source": [
    "nottheonion_df['domain'].value_counts(normalize = True)"
   ]
  },
  {
   "cell_type": "code",
   "execution_count": 66,
   "id": "d7e98689",
   "metadata": {},
   "outputs": [
    {
     "data": {
      "text/plain": [
       "count          1000\n",
       "unique          487\n",
       "top       virlan.co\n",
       "freq             37\n",
       "Name: domain, dtype: object"
      ]
     },
     "execution_count": 66,
     "metadata": {},
     "output_type": "execute_result"
    }
   ],
   "source": [
    "nottheonion_df['domain'].describe()"
   ]
  },
  {
   "cell_type": "markdown",
   "id": "8b7bd2df",
   "metadata": {},
   "source": [
    "**Insight:** Compared to The Onion, Not The Onion does not have a standout domain. The top domain, virlan.co is only at 3.7% compared to theonion.com's 75.4%. The number of unique domains are 487, which is more than 7 times that of The Onion."
   ]
  },
  {
   "cell_type": "code",
   "execution_count": 67,
   "id": "2c9e4349",
   "metadata": {},
   "outputs": [
    {
     "data": {
      "image/png": "[encoded data removed]",
      "text/plain": [
       "<Figure size 2160x360 with 1 Axes>"
      ]
     },
     "metadata": {
      "needs_background": "light"
     },
     "output_type": "display_data"
    }
   ],
   "source": [
    "plt.figure(figsize = (30,5)) \n",
    "nottheonion_df['domain'].value_counts().head(50).plot(kind='bar')\n",
    "plt.axhline(y=nottheonion_df['domain'].value_counts().mean(), color='r', linestyle='--')\n",
    "plt.title('Top 50 Domains in Not The Onion Subreddit',{'fontsize':30})\n",
    "plt.xlabel('Domains',{'fontsize':20})\n",
    "plt.ylabel('No. of Posts',{'fontsize':20})\n",
    "plt.text(10,15,'Dotted Line = Average Posts per Domain',{'fontsize':20},color='r')\n",
    "plt.show()"
   ]
  },
  {
   "cell_type": "markdown",
   "id": "542a81ad",
   "metadata": {},
   "source": [
    "**Insight:** The posts in the Not The Onion subreddit are spread across a much larger number of domains compared to The Onion subreddit."
   ]
  },
  {
   "cell_type": "markdown",
   "id": "5518aa42",
   "metadata": {},
   "source": [
    "----\n",
    "## Feature Comparison between the 2 subreddits\n",
    "Combining datasets of both subreddits"
   ]
  },
  {
   "cell_type": "code",
   "execution_count": 68,
   "id": "cde5c7b9",
   "metadata": {},
   "outputs": [],
   "source": [
    "theonion_df['onion'] = 1\n",
    "nottheonion_df['onion'] = 0"
   ]
  },
  {
   "cell_type": "code",
   "execution_count": 69,
   "id": "eb71b34a",
   "metadata": {},
   "outputs": [
    {
     "data": {
      "text/html": [
       "<div>\n",
       "<style scoped>\n",
       "    .dataframe tbody tr th:only-of-type {\n",
       "        vertical-align: middle;\n",
       "    }\n",
       "\n",
       "    .dataframe tbody tr th {\n",
       "        vertical-align: top;\n",
       "    }\n",
       "\n",
       "    .dataframe thead th {\n",
       "        text-align: right;\n",
       "    }\n",
       "</style>\n",
       "<table border=\"1\" class=\"dataframe\">\n",
       "  <thead>\n",
       "    <tr style=\"text-align: right;\">\n",
       "      <th></th>\n",
       "      <th>lem_title</th>\n",
       "      <th>onion</th>\n",
       "    </tr>\n",
       "  </thead>\n",
       "  <tbody>\n",
       "    <tr>\n",
       "      <th>0</th>\n",
       "      <td>abby lee miller cancer</td>\n",
       "      <td>1</td>\n",
       "    </tr>\n",
       "    <tr>\n",
       "      <th>1</th>\n",
       "      <td>amazon celebrates union defeat raising price 150 anyway</td>\n",
       "      <td>1</td>\n",
       "    </tr>\n",
       "    <tr>\n",
       "      <th>2</th>\n",
       "      <td>new arkansas bill would require teen resident keep genitals full display time</td>\n",
       "      <td>1</td>\n",
       "    </tr>\n",
       "    <tr>\n",
       "      <th>3</th>\n",
       "      <td>way prevent say nation regularly happens</td>\n",
       "      <td>1</td>\n",
       "    </tr>\n",
       "    <tr>\n",
       "      <th>4</th>\n",
       "      <td>panther adopt patchy haired shivering rescue qb spent year abused jet</td>\n",
       "      <td>1</td>\n",
       "    </tr>\n",
       "  </tbody>\n",
       "</table>\n",
       "</div>"
      ],
      "text/plain": [
       "                                                                       lem_title  \\\n",
       "0                                                         abby lee miller cancer   \n",
       "1                        amazon celebrates union defeat raising price 150 anyway   \n",
       "2  new arkansas bill would require teen resident keep genitals full display time   \n",
       "3                                       way prevent say nation regularly happens   \n",
       "4          panther adopt patchy haired shivering rescue qb spent year abused jet   \n",
       "\n",
       "   onion  \n",
       "0      1  \n",
       "1      1  \n",
       "2      1  \n",
       "3      1  \n",
       "4      1  "
      ]
     },
     "execution_count": 69,
     "metadata": {},
     "output_type": "execute_result"
    }
   ],
   "source": [
    "combined_df = pd.concat(objs = [theonion_df,nottheonion_df])\n",
    "combined_df[['lem_title','onion']].head()"
   ]
  },
  {
   "cell_type": "code",
   "execution_count": 70,
   "id": "b84be460",
   "metadata": {},
   "outputs": [
    {
     "data": {
      "text/html": [
       "<div>\n",
       "<style scoped>\n",
       "    .dataframe tbody tr th:only-of-type {\n",
       "        vertical-align: middle;\n",
       "    }\n",
       "\n",
       "    .dataframe tbody tr th {\n",
       "        vertical-align: top;\n",
       "    }\n",
       "\n",
       "    .dataframe thead th {\n",
       "        text-align: right;\n",
       "    }\n",
       "</style>\n",
       "<table border=\"1\" class=\"dataframe\">\n",
       "  <thead>\n",
       "    <tr style=\"text-align: right;\">\n",
       "      <th></th>\n",
       "      <th>lem_title</th>\n",
       "      <th>onion</th>\n",
       "    </tr>\n",
       "  </thead>\n",
       "  <tbody>\n",
       "    <tr>\n",
       "      <th>995</th>\n",
       "      <td>call thespian actor say nicolas cage</td>\n",
       "      <td>0</td>\n",
       "    </tr>\n",
       "    <tr>\n",
       "      <th>996</th>\n",
       "      <td>giuffre lawyer seek detail prince andrew claimed inability sweat</td>\n",
       "      <td>0</td>\n",
       "    </tr>\n",
       "    <tr>\n",
       "      <th>997</th>\n",
       "      <td>betty white dead 99</td>\n",
       "      <td>0</td>\n",
       "    </tr>\n",
       "    <tr>\n",
       "      <th>998</th>\n",
       "      <td>central texas red cross sending least one volunteer colorado devastating fire</td>\n",
       "      <td>0</td>\n",
       "    </tr>\n",
       "    <tr>\n",
       "      <th>999</th>\n",
       "      <td>virginia giuffre lawyer demand proof prince andrew sweat</td>\n",
       "      <td>0</td>\n",
       "    </tr>\n",
       "  </tbody>\n",
       "</table>\n",
       "</div>"
      ],
      "text/plain": [
       "                                                                         lem_title  \\\n",
       "995                                           call thespian actor say nicolas cage   \n",
       "996               giuffre lawyer seek detail prince andrew claimed inability sweat   \n",
       "997                                                            betty white dead 99   \n",
       "998  central texas red cross sending least one volunteer colorado devastating fire   \n",
       "999                       virginia giuffre lawyer demand proof prince andrew sweat   \n",
       "\n",
       "     onion  \n",
       "995      0  \n",
       "996      0  \n",
       "997      0  \n",
       "998      0  \n",
       "999      0  "
      ]
     },
     "execution_count": 70,
     "metadata": {},
     "output_type": "execute_result"
    }
   ],
   "source": [
    "combined_df[['lem_title','onion']].tail()"
   ]
  },
  {
   "cell_type": "markdown",
   "id": "8daca77c",
   "metadata": {},
   "source": [
    "Some interesting features to look at across the 2 subreddits:\n",
    "- total_awards_received: how many awards did a post receive from other redditors \n",
    "- num_comments: how many comments were in the post\n",
    "- upvote_ratio: percentage of upvotes out of total votes (upvotes + downvotes)\n",
    "- over_18: whether the post was classified as over 18 content"
   ]
  },
  {
   "cell_type": "code",
   "execution_count": 71,
   "id": "11ad01af",
   "metadata": {},
   "outputs": [
    {
     "data": {
      "text/html": [
       "<div>\n",
       "<style scoped>\n",
       "    .dataframe tbody tr th:only-of-type {\n",
       "        vertical-align: middle;\n",
       "    }\n",
       "\n",
       "    .dataframe tbody tr th {\n",
       "        vertical-align: top;\n",
       "    }\n",
       "\n",
       "    .dataframe thead th {\n",
       "        text-align: right;\n",
       "    }\n",
       "</style>\n",
       "<table border=\"1\" class=\"dataframe\">\n",
       "  <thead>\n",
       "    <tr style=\"text-align: right;\">\n",
       "      <th></th>\n",
       "      <th>total_awards_received</th>\n",
       "      <th>num_comments</th>\n",
       "      <th>upvote_ratio</th>\n",
       "      <th>over_18</th>\n",
       "    </tr>\n",
       "    <tr>\n",
       "      <th>onion</th>\n",
       "      <th></th>\n",
       "      <th></th>\n",
       "      <th></th>\n",
       "      <th></th>\n",
       "    </tr>\n",
       "  </thead>\n",
       "  <tbody>\n",
       "    <tr>\n",
       "      <th>0</th>\n",
       "      <td>0.000</td>\n",
       "      <td>0.354</td>\n",
       "      <td>0.99997</td>\n",
       "      <td>0.007</td>\n",
       "    </tr>\n",
       "    <tr>\n",
       "      <th>1</th>\n",
       "      <td>0.003</td>\n",
       "      <td>5.618</td>\n",
       "      <td>0.99705</td>\n",
       "      <td>0.013</td>\n",
       "    </tr>\n",
       "  </tbody>\n",
       "</table>\n",
       "</div>"
      ],
      "text/plain": [
       "       total_awards_received  num_comments  upvote_ratio  over_18\n",
       "onion                                                            \n",
       "0                      0.000         0.354       0.99997    0.007\n",
       "1                      0.003         5.618       0.99705    0.013"
      ]
     },
     "execution_count": 71,
     "metadata": {},
     "output_type": "execute_result"
    }
   ],
   "source": [
    "interesting_features = ['total_awards_received','num_comments','upvote_ratio','over_18']\n",
    "combined_df.groupby('onion')[interesting_features].mean()"
   ]
  },
  {
   "cell_type": "markdown",
   "id": "cc5f540c",
   "metadata": {},
   "source": [
    "**Insights:** \n",
    "- total_awards_received: Not The Onion posts get almost no awards on average while The Onion has a negligible number of awards\n",
    "- num_comments: The Onion posts on average get 16 times the number of comments of Not The Onion posts\n",
    "- upvote_ratio: Posts from both subreddits are generally very upvoted at more than 99%, negligible difference\n",
    "- over_18: Although both subreddits have a low number of over 18 posts, The Onion has almost twice as many of such posts as Not The Onion"
   ]
  },
  {
   "cell_type": "code",
   "execution_count": 72,
   "id": "49c3dde9",
   "metadata": {},
   "outputs": [
    {
     "data": {
      "text/plain": [
       "Text(0.5, 0, 'No. of removed posts')"
      ]
     },
     "execution_count": 72,
     "metadata": {},
     "output_type": "execute_result"
    },
    {
     "data": {
      "image/png": "[encoded data removed]",
      "text/plain": [
       "<Figure size 432x288 with 1 Axes>"
      ]
     },
     "metadata": {
      "needs_background": "light"
     },
     "output_type": "display_data"
    }
   ],
   "source": [
    "combined_df.groupby('onion')['removed_by_category'].count().plot(kind='barh')\n",
    "plt.title('Number of removed posts: The Onion (1) vs Not The Onion (0)')\n",
    "plt.xlabel('No. of removed posts')"
   ]
  },
  {
   "cell_type": "markdown",
   "id": "38191666",
   "metadata": {},
   "source": [
    "**Insights:**\n",
    "- More than half of the posts from Not The Onion have been removed (549 out of 1,000 posts)\n",
    "- This is compared to only 92 out of 1,000 from The Onion"
   ]
  },
  {
   "cell_type": "code",
   "execution_count": 73,
   "id": "7b51e644",
   "metadata": {},
   "outputs": [
    {
     "data": {
      "text/plain": [
       "moderator    0.890110\n",
       "deleted      0.054945\n",
       "reddit       0.054945\n",
       "Name: removed_by_category, dtype: float64"
      ]
     },
     "execution_count": 73,
     "metadata": {},
     "output_type": "execute_result"
    }
   ],
   "source": [
    "theonion_df['removed_by_category'].value_counts(normalize = True)"
   ]
  },
  {
   "cell_type": "code",
   "execution_count": 74,
   "id": "71deea42",
   "metadata": {},
   "outputs": [
    {
     "data": {
      "text/plain": [
       "moderator           0.728597\n",
       "reddit              0.174863\n",
       "automod_filtered    0.069217\n",
       "deleted             0.027322\n",
       "Name: removed_by_category, dtype: float64"
      ]
     },
     "execution_count": 74,
     "metadata": {},
     "output_type": "execute_result"
    }
   ],
   "source": [
    "nottheonion_df['removed_by_category'].value_counts(normalize = True)"
   ]
  },
  {
   "cell_type": "markdown",
   "id": "e51cdf54",
   "metadata": {},
   "source": [
    "**Insights:**\n",
    "- Vast majority of the posts are removed by human moderators. 89.1% for The Onion and 72.9% for Not The Onion.\n",
    "- 6.92% of the removed posts from Not The Onion comes from an automoderator with rules set by the human moderators. The Onion does not have posts removed by an automoderator.\n",
    "- From the large difference between the percentage of posts removed by human moderators vs automoderators, developing a more efficient automoderator will greatly aid the work of the human moderators. \n",
    "\n",
    "----\n",
    "## Export Data\n",
    "Export data to be used in the final notebook"
   ]
  },
  {
   "cell_type": "code",
   "execution_count": 75,
   "id": "e878ff2d",
   "metadata": {},
   "outputs": [],
   "source": [
    "theonion_df.to_csv('../data/the_onion_lem.csv', index = False)\n",
    "nottheonion_df.to_csv('../data/not_the_onion_lem.csv', index = False)"
   ]
  }
 ],
 "metadata": {
  "kernelspec": {
   "display_name": "Python 3 (ipykernel)",
   "language": "python",
   "name": "python3"
  },
  "language_info": {
   "codemirror_mode": {
    "name": "ipython",
    "version": 3
   },
   "file_extension": ".py",
   "mimetype": "text/x-python",
   "name": "python",
   "nbconvert_exporter": "python",
   "pygments_lexer": "ipython3",
   "version": "3.9.6"
  }
 },
 "nbformat": 4,
 "nbformat_minor": 5
}
