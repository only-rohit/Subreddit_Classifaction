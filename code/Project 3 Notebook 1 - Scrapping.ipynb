{
 "cells": [
  {
   "cell_type": "code",
   "execution_count": 25,
   "id": "8cfaf75a",
   "metadata": {},
   "outputs": [],
   "source": [
    "import requests\n",
    "import time\n",
    "import pandas as pd"
   ]
  },
  {
   "cell_type": "markdown",
   "id": "30c54843",
   "metadata": {},
   "source": [
    "# Background\n",
    "When performing maintenance, an engineer accidentally deleted multiple posts from r/nottheonion and r/theonion. Unfortunately, the engineer was only able to recover the titles of the lost posts. As the data science team of Reddit, we were therefore tasked to build a classification model which would train on posts submitted before 01 Jan 2022 to classify the recovered posts back to their respective subreddits, r/nottheonion and r/theonion, based solely on the post titles.\n",
    "\n",
    "This model would also be used as a proof of concept for the development of an automated moderator which would automatically delete posts that do not belong to the subreddit that they are posted to. There has been an increase in bots spamming subreddits with irrelevant posts. Moderators have been spending a substantial amount of their time reviewing user reports and deleting spam posts from the subreddit. Having automated moderators police the subreddit for spam posts would free up time for human moderators, who are volunteers, to do things that they want to do.\n",
    "\n",
    "# Problem Statement\n",
    "Scrape the most recent 1,000 posts that were posted before 01 Jan 2022. Do this for each of the 2 subreddits to form a dataset of 2,000 posts.\n",
    "\n",
    "Using the title texts of the posts, train a classification model to classify the posts into 1 of the 2 subreddits.\n",
    "\n",
    "In combination with 2 types of vectorizers (Count Vectorizer and TFIDF Vectorizer), a total of 4 model types will be used (Logistic Regression, Multinomial Naive Bayes, Random Forest and Support Vector Machine). Hence, a total of 8 machine learning classification models will be trained and scored in addition to the baseline model.\n",
    "\n",
    "Since the dataset is split nicely in half between posts from each subreddit, Accuracy score will be the key performance indicator. We want the Accuracy score to be high so that Redditors will be able to discuss the correct posts in their respective subreddits. Having the posts in the right subreddits is also an indicator of Reddit's quality of service. Secondly, we want a balanced model to reduce a similar amount of workload for human moderators of each subreddit."
   ]
  },
  {
   "cell_type": "markdown",
   "id": "8910a6c5",
   "metadata": {},
   "source": [
    "## Notebook 1 - Scrapping\n",
    "\n",
    "This is the first of 3 notebooks for this project.\n",
    "\n",
    "In this notebook, I will:\n",
    "- Utilize the pushshift API to scrape posts from the subreddits\n",
    "- As the API only allows for 100 posts to be scraped each time, I wrote a loop to scrape until there are 1,000 posts with unique titles\n",
    "- The 1,000 posts are exported to a csv file, 1 each for The Onion and Not The Onion"
   ]
  },
  {
   "cell_type": "code",
   "execution_count": 26,
   "id": "ddb46daf",
   "metadata": {},
   "outputs": [],
   "source": [
    "url = 'https://api.pushshift.io/reddit/search/submission'"
   ]
  },
  {
   "cell_type": "markdown",
   "id": "7cfd4b5f",
   "metadata": {},
   "source": [
    "The unix epoch for 01 Jan 2022 is 1640995200"
   ]
  },
  {
   "cell_type": "code",
   "execution_count": 27,
   "id": "0520dcd9",
   "metadata": {},
   "outputs": [],
   "source": [
    "params = {\n",
    "    'subreddit':'theonion',\n",
    "    'size': 100,\n",
    "    'before': 1640995200\n",
    "}"
   ]
  },
  {
   "cell_type": "code",
   "execution_count": 28,
   "id": "ebc333f4",
   "metadata": {},
   "outputs": [],
   "source": [
    "res = requests.get(url, params)"
   ]
  },
  {
   "cell_type": "code",
   "execution_count": 29,
   "id": "72ab16f9",
   "metadata": {},
   "outputs": [
    {
     "data": {
      "text/plain": [
       "200"
      ]
     },
     "execution_count": 29,
     "metadata": {},
     "output_type": "execute_result"
    }
   ],
   "source": [
    "res.status_code"
   ]
  },
  {
   "cell_type": "code",
   "execution_count": 30,
   "id": "ded3ee07",
   "metadata": {},
   "outputs": [],
   "source": [
    "data = res.json()"
   ]
  },
  {
   "cell_type": "code",
   "execution_count": 31,
   "id": "e5da65fb",
   "metadata": {},
   "outputs": [],
   "source": [
    "posts = data['data']"
   ]
  },
  {
   "cell_type": "code",
   "execution_count": 32,
   "id": "cc8e8794",
   "metadata": {},
   "outputs": [
    {
     "data": {
      "text/plain": [
       "100"
      ]
     },
     "execution_count": 32,
     "metadata": {},
     "output_type": "execute_result"
    }
   ],
   "source": [
    "len(posts)"
   ]
  },
  {
   "cell_type": "code",
   "execution_count": 33,
   "id": "4273bd57",
   "metadata": {},
   "outputs": [],
   "source": [
    "df = pd.DataFrame(posts)"
   ]
  },
  {
   "cell_type": "code",
   "execution_count": 34,
   "id": "7338bc09",
   "metadata": {},
   "outputs": [
    {
     "data": {
      "text/html": [
       "<div>\n",
       "<style scoped>\n",
       "    .dataframe tbody tr th:only-of-type {\n",
       "        vertical-align: middle;\n",
       "    }\n",
       "\n",
       "    .dataframe tbody tr th {\n",
       "        vertical-align: top;\n",
       "    }\n",
       "\n",
       "    .dataframe thead th {\n",
       "        text-align: right;\n",
       "    }\n",
       "</style>\n",
       "<table border=\"1\" class=\"dataframe\">\n",
       "  <thead>\n",
       "    <tr style=\"text-align: right;\">\n",
       "      <th></th>\n",
       "      <th>all_awardings</th>\n",
       "      <th>allow_live_comments</th>\n",
       "      <th>author</th>\n",
       "      <th>author_flair_css_class</th>\n",
       "      <th>author_flair_richtext</th>\n",
       "      <th>author_flair_text</th>\n",
       "      <th>author_flair_type</th>\n",
       "      <th>author_fullname</th>\n",
       "      <th>author_is_blocked</th>\n",
       "      <th>author_patreon_flair</th>\n",
       "      <th>...</th>\n",
       "      <th>url_overridden_by_dest</th>\n",
       "      <th>whitelist_status</th>\n",
       "      <th>wls</th>\n",
       "      <th>crosspost_parent</th>\n",
       "      <th>crosspost_parent_list</th>\n",
       "      <th>removed_by_category</th>\n",
       "      <th>media</th>\n",
       "      <th>media_embed</th>\n",
       "      <th>secure_media</th>\n",
       "      <th>secure_media_embed</th>\n",
       "    </tr>\n",
       "  </thead>\n",
       "  <tbody>\n",
       "    <tr>\n",
       "      <th>0</th>\n",
       "      <td>[]</td>\n",
       "      <td>False</td>\n",
       "      <td>mothershipq</td>\n",
       "      <td>None</td>\n",
       "      <td>[]</td>\n",
       "      <td>None</td>\n",
       "      <td>text</td>\n",
       "      <td>t2_4negm</td>\n",
       "      <td>False</td>\n",
       "      <td>False</td>\n",
       "      <td>...</td>\n",
       "      <td>https://www.theonion.com/surgeon-kind-of-pisse...</td>\n",
       "      <td>all_ads</td>\n",
       "      <td>6</td>\n",
       "      <td>NaN</td>\n",
       "      <td>NaN</td>\n",
       "      <td>NaN</td>\n",
       "      <td>NaN</td>\n",
       "      <td>NaN</td>\n",
       "      <td>NaN</td>\n",
       "      <td>NaN</td>\n",
       "    </tr>\n",
       "    <tr>\n",
       "      <th>1</th>\n",
       "      <td>[]</td>\n",
       "      <td>False</td>\n",
       "      <td>-ImYourHuckleberry-</td>\n",
       "      <td>None</td>\n",
       "      <td>[]</td>\n",
       "      <td>None</td>\n",
       "      <td>text</td>\n",
       "      <td>t2_g3p2c</td>\n",
       "      <td>False</td>\n",
       "      <td>False</td>\n",
       "      <td>...</td>\n",
       "      <td>https://www.theartnewspaper.com/2021/12/31/mcd...</td>\n",
       "      <td>all_ads</td>\n",
       "      <td>6</td>\n",
       "      <td>t3_rstp9v</td>\n",
       "      <td>[{'all_awardings': [{'award_sub_type': 'GLOBAL...</td>\n",
       "      <td>moderator</td>\n",
       "      <td>NaN</td>\n",
       "      <td>NaN</td>\n",
       "      <td>NaN</td>\n",
       "      <td>NaN</td>\n",
       "    </tr>\n",
       "    <tr>\n",
       "      <th>2</th>\n",
       "      <td>[]</td>\n",
       "      <td>False</td>\n",
       "      <td>dwaxe</td>\n",
       "      <td>None</td>\n",
       "      <td>[]</td>\n",
       "      <td>None</td>\n",
       "      <td>text</td>\n",
       "      <td>t2_3jamc</td>\n",
       "      <td>False</td>\n",
       "      <td>False</td>\n",
       "      <td>...</td>\n",
       "      <td>https://www.theonion.com/gwyneth-paltrow-touts...</td>\n",
       "      <td>all_ads</td>\n",
       "      <td>6</td>\n",
       "      <td>NaN</td>\n",
       "      <td>NaN</td>\n",
       "      <td>NaN</td>\n",
       "      <td>NaN</td>\n",
       "      <td>NaN</td>\n",
       "      <td>NaN</td>\n",
       "      <td>NaN</td>\n",
       "    </tr>\n",
       "    <tr>\n",
       "      <th>3</th>\n",
       "      <td>[]</td>\n",
       "      <td>False</td>\n",
       "      <td>dwaxe</td>\n",
       "      <td>None</td>\n",
       "      <td>[]</td>\n",
       "      <td>None</td>\n",
       "      <td>text</td>\n",
       "      <td>t2_3jamc</td>\n",
       "      <td>False</td>\n",
       "      <td>False</td>\n",
       "      <td>...</td>\n",
       "      <td>https://www.theonion.com/artist-crafting-music...</td>\n",
       "      <td>all_ads</td>\n",
       "      <td>6</td>\n",
       "      <td>NaN</td>\n",
       "      <td>NaN</td>\n",
       "      <td>NaN</td>\n",
       "      <td>NaN</td>\n",
       "      <td>NaN</td>\n",
       "      <td>NaN</td>\n",
       "      <td>NaN</td>\n",
       "    </tr>\n",
       "    <tr>\n",
       "      <th>4</th>\n",
       "      <td>[]</td>\n",
       "      <td>False</td>\n",
       "      <td>dwaxe</td>\n",
       "      <td>None</td>\n",
       "      <td>[]</td>\n",
       "      <td>None</td>\n",
       "      <td>text</td>\n",
       "      <td>t2_3jamc</td>\n",
       "      <td>False</td>\n",
       "      <td>False</td>\n",
       "      <td>...</td>\n",
       "      <td>https://www.theonion.com/homeowner-trying-to-s...</td>\n",
       "      <td>all_ads</td>\n",
       "      <td>6</td>\n",
       "      <td>NaN</td>\n",
       "      <td>NaN</td>\n",
       "      <td>NaN</td>\n",
       "      <td>NaN</td>\n",
       "      <td>NaN</td>\n",
       "      <td>NaN</td>\n",
       "      <td>NaN</td>\n",
       "    </tr>\n",
       "  </tbody>\n",
       "</table>\n",
       "<p>5 rows × 71 columns</p>\n",
       "</div>"
      ],
      "text/plain": [
       "  all_awardings  allow_live_comments               author  \\\n",
       "0            []                False          mothershipq   \n",
       "1            []                False  -ImYourHuckleberry-   \n",
       "2            []                False                dwaxe   \n",
       "3            []                False                dwaxe   \n",
       "4            []                False                dwaxe   \n",
       "\n",
       "  author_flair_css_class author_flair_richtext author_flair_text  \\\n",
       "0                   None                    []              None   \n",
       "1                   None                    []              None   \n",
       "2                   None                    []              None   \n",
       "3                   None                    []              None   \n",
       "4                   None                    []              None   \n",
       "\n",
       "  author_flair_type author_fullname  author_is_blocked  author_patreon_flair  \\\n",
       "0              text        t2_4negm              False                 False   \n",
       "1              text        t2_g3p2c              False                 False   \n",
       "2              text        t2_3jamc              False                 False   \n",
       "3              text        t2_3jamc              False                 False   \n",
       "4              text        t2_3jamc              False                 False   \n",
       "\n",
       "   ...                             url_overridden_by_dest whitelist_status  \\\n",
       "0  ...  https://www.theonion.com/surgeon-kind-of-pisse...          all_ads   \n",
       "1  ...  https://www.theartnewspaper.com/2021/12/31/mcd...          all_ads   \n",
       "2  ...  https://www.theonion.com/gwyneth-paltrow-touts...          all_ads   \n",
       "3  ...  https://www.theonion.com/artist-crafting-music...          all_ads   \n",
       "4  ...  https://www.theonion.com/homeowner-trying-to-s...          all_ads   \n",
       "\n",
       "   wls  crosspost_parent                              crosspost_parent_list  \\\n",
       "0    6               NaN                                                NaN   \n",
       "1    6         t3_rstp9v  [{'all_awardings': [{'award_sub_type': 'GLOBAL...   \n",
       "2    6               NaN                                                NaN   \n",
       "3    6               NaN                                                NaN   \n",
       "4    6               NaN                                                NaN   \n",
       "\n",
       "  removed_by_category media media_embed secure_media  secure_media_embed  \n",
       "0                 NaN   NaN         NaN          NaN                 NaN  \n",
       "1           moderator   NaN         NaN          NaN                 NaN  \n",
       "2                 NaN   NaN         NaN          NaN                 NaN  \n",
       "3                 NaN   NaN         NaN          NaN                 NaN  \n",
       "4                 NaN   NaN         NaN          NaN                 NaN  \n",
       "\n",
       "[5 rows x 71 columns]"
      ]
     },
     "execution_count": 34,
     "metadata": {},
     "output_type": "execute_result"
    }
   ],
   "source": [
    "df.head()"
   ]
  },
  {
   "cell_type": "code",
   "execution_count": 35,
   "id": "f60a8a4c",
   "metadata": {},
   "outputs": [
    {
     "data": {
      "text/plain": [
       "{'all_awardings': [],\n",
       " 'allow_live_comments': False,\n",
       " 'author': 'mothershipq',\n",
       " 'author_flair_css_class': None,\n",
       " 'author_flair_richtext': [],\n",
       " 'author_flair_text': None,\n",
       " 'author_flair_type': 'text',\n",
       " 'author_fullname': 't2_4negm',\n",
       " 'author_is_blocked': False,\n",
       " 'author_patreon_flair': False,\n",
       " 'author_premium': True,\n",
       " 'awarders': [],\n",
       " 'can_mod_post': False,\n",
       " 'contest_mode': False,\n",
       " 'created_utc': 1640973300,\n",
       " 'domain': 'theonion.com',\n",
       " 'full_link': 'https://www.reddit.com/r/TheOnion/comments/rszeht/surgeon_kind_of_pissed_patient_seeing_her/',\n",
       " 'gildings': {},\n",
       " 'id': 'rszeht',\n",
       " 'is_created_from_ads_ui': False,\n",
       " 'is_crosspostable': True,\n",
       " 'is_meta': False,\n",
       " 'is_original_content': False,\n",
       " 'is_reddit_media_domain': False,\n",
       " 'is_robot_indexable': True,\n",
       " 'is_self': False,\n",
       " 'is_video': False,\n",
       " 'link_flair_background_color': '',\n",
       " 'link_flair_richtext': [],\n",
       " 'link_flair_text_color': 'dark',\n",
       " 'link_flair_type': 'text',\n",
       " 'locked': False,\n",
       " 'media_only': False,\n",
       " 'no_follow': True,\n",
       " 'num_comments': 0,\n",
       " 'num_crossposts': 0,\n",
       " 'over_18': False,\n",
       " 'parent_whitelist_status': 'all_ads',\n",
       " 'permalink': '/r/TheOnion/comments/rszeht/surgeon_kind_of_pissed_patient_seeing_her/',\n",
       " 'pinned': False,\n",
       " 'post_hint': 'link',\n",
       " 'preview': {'enabled': False,\n",
       "  'images': [{'id': 'Ls-G4VZF9RASAIDIsUwSMn5B5jzdezqZkuStPEpJSTw',\n",
       "    'resolutions': [{'height': 60,\n",
       "      'url': 'https://external-preview.redd.it/SDO9LrpH8cu70AuYoho8gEjjbsnQA7b0uX6qkNfiA3c.jpg?width=108&amp;crop=smart&amp;auto=webp&amp;s=94a52f7d4d8606c0b20881db39f448e55b5bb20b',\n",
       "      'width': 108},\n",
       "     {'height': 121,\n",
       "      'url': 'https://external-preview.redd.it/SDO9LrpH8cu70AuYoho8gEjjbsnQA7b0uX6qkNfiA3c.jpg?width=216&amp;crop=smart&amp;auto=webp&amp;s=877925b5aa7e92a317d9610f64abef07e85744ac',\n",
       "      'width': 216},\n",
       "     {'height': 180,\n",
       "      'url': 'https://external-preview.redd.it/SDO9LrpH8cu70AuYoho8gEjjbsnQA7b0uX6qkNfiA3c.jpg?width=320&amp;crop=smart&amp;auto=webp&amp;s=e638c03f91f5afc9025828260e8ea607322ee50a',\n",
       "      'width': 320},\n",
       "     {'height': 360,\n",
       "      'url': 'https://external-preview.redd.it/SDO9LrpH8cu70AuYoho8gEjjbsnQA7b0uX6qkNfiA3c.jpg?width=640&amp;crop=smart&amp;auto=webp&amp;s=0543975c7b027afb25cccd03fdcaba5095f2bf3a',\n",
       "      'width': 640},\n",
       "     {'height': 540,\n",
       "      'url': 'https://external-preview.redd.it/SDO9LrpH8cu70AuYoho8gEjjbsnQA7b0uX6qkNfiA3c.jpg?width=960&amp;crop=smart&amp;auto=webp&amp;s=71cc33b30fcd2a293ea44f00381267f325e9cc65',\n",
       "      'width': 960},\n",
       "     {'height': 607,\n",
       "      'url': 'https://external-preview.redd.it/SDO9LrpH8cu70AuYoho8gEjjbsnQA7b0uX6qkNfiA3c.jpg?width=1080&amp;crop=smart&amp;auto=webp&amp;s=b81a7fd43d768cd2738faccbc42c63bce492b86e',\n",
       "      'width': 1080}],\n",
       "    'source': {'height': 675,\n",
       "     'url': 'https://external-preview.redd.it/SDO9LrpH8cu70AuYoho8gEjjbsnQA7b0uX6qkNfiA3c.jpg?auto=webp&amp;s=37d4cec9012e6970682f334d092aa0c75d5a7de9',\n",
       "     'width': 1200},\n",
       "    'variants': {}}]},\n",
       " 'pwls': 6,\n",
       " 'retrieved_on': 1640973310,\n",
       " 'score': 1,\n",
       " 'selftext': '',\n",
       " 'send_replies': True,\n",
       " 'spoiler': False,\n",
       " 'stickied': False,\n",
       " 'subreddit': 'TheOnion',\n",
       " 'subreddit_id': 't5_2qhmj',\n",
       " 'subreddit_subscribers': 165299,\n",
       " 'subreddit_type': 'public',\n",
       " 'thumbnail': 'https://b.thumbs.redditmedia.com/-maE08GSG4LdaNAj13cbKNCZYICEsIK7uhV9cC69MmY.jpg',\n",
       " 'thumbnail_height': 78,\n",
       " 'thumbnail_width': 140,\n",
       " 'title': 'Surgeon Kind Of Pissed Patient Seeing Her Deformed Face For First Time Just Smashed His Hand Mirror Like That',\n",
       " 'total_awards_received': 0,\n",
       " 'treatment_tags': [],\n",
       " 'upvote_ratio': 1.0,\n",
       " 'url': 'https://www.theonion.com/surgeon-kind-of-pissed-patient-seeing-her-deformed-face-1847810432',\n",
       " 'url_overridden_by_dest': 'https://www.theonion.com/surgeon-kind-of-pissed-patient-seeing-her-deformed-face-1847810432',\n",
       " 'whitelist_status': 'all_ads',\n",
       " 'wls': 6}"
      ]
     },
     "execution_count": 35,
     "metadata": {},
     "output_type": "execute_result"
    }
   ],
   "source": [
    "posts[0]"
   ]
  },
  {
   "cell_type": "code",
   "execution_count": 36,
   "id": "b9e83ad3",
   "metadata": {},
   "outputs": [
    {
     "data": {
      "text/html": [
       "<div>\n",
       "<style scoped>\n",
       "    .dataframe tbody tr th:only-of-type {\n",
       "        vertical-align: middle;\n",
       "    }\n",
       "\n",
       "    .dataframe tbody tr th {\n",
       "        vertical-align: top;\n",
       "    }\n",
       "\n",
       "    .dataframe thead th {\n",
       "        text-align: right;\n",
       "    }\n",
       "</style>\n",
       "<table border=\"1\" class=\"dataframe\">\n",
       "  <thead>\n",
       "    <tr style=\"text-align: right;\">\n",
       "      <th></th>\n",
       "      <th>subreddit</th>\n",
       "      <th>title</th>\n",
       "      <th>created_utc</th>\n",
       "    </tr>\n",
       "  </thead>\n",
       "  <tbody>\n",
       "    <tr>\n",
       "      <th>0</th>\n",
       "      <td>TheOnion</td>\n",
       "      <td>Surgeon Kind Of Pissed Patient Seeing Her Defo...</td>\n",
       "      <td>1640973300</td>\n",
       "    </tr>\n",
       "    <tr>\n",
       "      <th>1</th>\n",
       "      <td>TheOnion</td>\n",
       "      <td>McDonald’s blocked from building drive-through...</td>\n",
       "      <td>1640971771</td>\n",
       "    </tr>\n",
       "    <tr>\n",
       "      <th>2</th>\n",
       "      <td>TheOnion</td>\n",
       "      <td>Gwyneth Paltrow Touts New Diamond-Encrusted Tr...</td>\n",
       "      <td>1640955671</td>\n",
       "    </tr>\n",
       "    <tr>\n",
       "      <th>3</th>\n",
       "      <td>TheOnion</td>\n",
       "      <td>Artist Crafting Music Box Hopes It Delights At...</td>\n",
       "      <td>1640955669</td>\n",
       "    </tr>\n",
       "    <tr>\n",
       "      <th>4</th>\n",
       "      <td>TheOnion</td>\n",
       "      <td>Homeowner Trying To Smoke Out Snakes Accidenta...</td>\n",
       "      <td>1640955668</td>\n",
       "    </tr>\n",
       "  </tbody>\n",
       "</table>\n",
       "</div>"
      ],
      "text/plain": [
       "  subreddit                                              title  created_utc\n",
       "0  TheOnion  Surgeon Kind Of Pissed Patient Seeing Her Defo...   1640973300\n",
       "1  TheOnion  McDonald’s blocked from building drive-through...   1640971771\n",
       "2  TheOnion  Gwyneth Paltrow Touts New Diamond-Encrusted Tr...   1640955671\n",
       "3  TheOnion  Artist Crafting Music Box Hopes It Delights At...   1640955669\n",
       "4  TheOnion  Homeowner Trying To Smoke Out Snakes Accidenta...   1640955668"
      ]
     },
     "execution_count": 36,
     "metadata": {},
     "output_type": "execute_result"
    }
   ],
   "source": [
    "df[['subreddit','title','created_utc']].head()"
   ]
  },
  {
   "cell_type": "markdown",
   "id": "20b2dfde",
   "metadata": {},
   "source": [
    "- post 0 = Friday, December 31, 2021 17:55:00\n",
    "- post 1 = Friday, December 31, 2021 17:29:31\n",
    "- post 2 = Friday, December 31, 2021 13:01:11\n",
    "\n",
    "Post 0 is the newest post."
   ]
  },
  {
   "cell_type": "code",
   "execution_count": 37,
   "id": "6106b2de",
   "metadata": {},
   "outputs": [
    {
     "data": {
      "text/html": [
       "<div>\n",
       "<style scoped>\n",
       "    .dataframe tbody tr th:only-of-type {\n",
       "        vertical-align: middle;\n",
       "    }\n",
       "\n",
       "    .dataframe tbody tr th {\n",
       "        vertical-align: top;\n",
       "    }\n",
       "\n",
       "    .dataframe thead th {\n",
       "        text-align: right;\n",
       "    }\n",
       "</style>\n",
       "<table border=\"1\" class=\"dataframe\">\n",
       "  <thead>\n",
       "    <tr style=\"text-align: right;\">\n",
       "      <th></th>\n",
       "      <th>subreddit</th>\n",
       "      <th>title</th>\n",
       "      <th>created_utc</th>\n",
       "    </tr>\n",
       "  </thead>\n",
       "  <tbody>\n",
       "    <tr>\n",
       "      <th>95</th>\n",
       "      <td>TheOnion</td>\n",
       "      <td>Army Receives 15-Yard Penalty For Drone-Striki...</td>\n",
       "      <td>1639255284</td>\n",
       "    </tr>\n",
       "    <tr>\n",
       "      <th>96</th>\n",
       "      <td>TheOnion</td>\n",
       "      <td>The Taliban are trying to Adapt to western ide...</td>\n",
       "      <td>1639242218</td>\n",
       "    </tr>\n",
       "    <tr>\n",
       "      <th>97</th>\n",
       "      <td>TheOnion</td>\n",
       "      <td>‘And What Do You Want Me To Do, Brush Every Ni...</td>\n",
       "      <td>1639241099</td>\n",
       "    </tr>\n",
       "    <tr>\n",
       "      <th>98</th>\n",
       "      <td>TheOnion</td>\n",
       "      <td>Mrs. Fields CEO Under Fire For Laying Off 1,00...</td>\n",
       "      <td>1639241070</td>\n",
       "    </tr>\n",
       "    <tr>\n",
       "      <th>99</th>\n",
       "      <td>TheOnion</td>\n",
       "      <td>End Of Man’s Usefulness To Society Celebrated ...</td>\n",
       "      <td>1639190215</td>\n",
       "    </tr>\n",
       "  </tbody>\n",
       "</table>\n",
       "</div>"
      ],
      "text/plain": [
       "   subreddit                                              title  created_utc\n",
       "95  TheOnion  Army Receives 15-Yard Penalty For Drone-Striki...   1639255284\n",
       "96  TheOnion  The Taliban are trying to Adapt to western ide...   1639242218\n",
       "97  TheOnion  ‘And What Do You Want Me To Do, Brush Every Ni...   1639241099\n",
       "98  TheOnion  Mrs. Fields CEO Under Fire For Laying Off 1,00...   1639241070\n",
       "99  TheOnion  End Of Man’s Usefulness To Society Celebrated ...   1639190215"
      ]
     },
     "execution_count": 37,
     "metadata": {},
     "output_type": "execute_result"
    }
   ],
   "source": [
    "df[['subreddit','title','created_utc']].tail()"
   ]
  },
  {
   "cell_type": "code",
   "execution_count": 38,
   "id": "b2e3290c",
   "metadata": {},
   "outputs": [
    {
     "data": {
      "text/plain": [
       "1639190215"
      ]
     },
     "execution_count": 38,
     "metadata": {},
     "output_type": "execute_result"
    }
   ],
   "source": [
    "df.iloc[-1]['created_utc']"
   ]
  },
  {
   "cell_type": "code",
   "execution_count": 39,
   "id": "5c1b4ee8",
   "metadata": {},
   "outputs": [
    {
     "data": {
      "text/plain": [
       "98"
      ]
     },
     "execution_count": 39,
     "metadata": {},
     "output_type": "execute_result"
    }
   ],
   "source": [
    "df['title'].nunique()"
   ]
  },
  {
   "cell_type": "code",
   "execution_count": 40,
   "id": "5699547b",
   "metadata": {},
   "outputs": [
    {
     "data": {
      "text/plain": [
       "98"
      ]
     },
     "execution_count": 40,
     "metadata": {},
     "output_type": "execute_result"
    }
   ],
   "source": [
    "previous_df = df\n",
    "previous_df['title'].nunique()"
   ]
  },
  {
   "cell_type": "code",
   "execution_count": 41,
   "id": "96b15973",
   "metadata": {},
   "outputs": [
    {
     "name": "stdout",
     "output_type": "stream",
     "text": [
      "try 1, status code is 200\n",
      "try 1, number of posts scrapped is 100\n",
      "try 1, before_time is 1637028589\n",
      "try 1, combined df shape is (200, 71)\n",
      "try 2, status code is 200\n",
      "try 2, number of posts scrapped is 99\n",
      "try 2, before_time is 1635253246\n",
      "try 2, combined df shape is (299, 71)\n",
      "try 3, status code is 200\n",
      "try 3, number of posts scrapped is 100\n",
      "try 3, before_time is 1632588548\n",
      "try 3, combined df shape is (399, 76)\n",
      "try 4, status code is 200\n",
      "try 4, number of posts scrapped is 100\n",
      "try 4, before_time is 1629862378\n",
      "try 4, combined df shape is (499, 76)\n",
      "try 5, status code is 200\n",
      "try 5, number of posts scrapped is 100\n",
      "try 5, before_time is 1626744709\n",
      "try 5, combined df shape is (599, 76)\n",
      "try 6, status code is 200\n",
      "try 6, number of posts scrapped is 100\n",
      "try 6, before_time is 1624497754\n",
      "try 6, combined df shape is (699, 76)\n",
      "try 7, status code is 200\n",
      "try 7, number of posts scrapped is 100\n",
      "try 7, before_time is 1622042395\n",
      "try 7, combined df shape is (799, 76)\n",
      "try 8, status code is 200\n",
      "try 8, number of posts scrapped is 100\n",
      "try 8, before_time is 1620389530\n",
      "try 8, combined df shape is (899, 77)\n",
      "try 9, status code is 200\n",
      "try 9, number of posts scrapped is 100\n",
      "try 9, before_time is 1618445587\n",
      "try 9, combined df shape is (999, 77)\n",
      "try 10, status code is 200\n",
      "try 10, number of posts scrapped is 100\n",
      "try 10, before_time is 1615309971\n",
      "try 10, combined df shape is (1099, 77)\n"
     ]
    },
    {
     "data": {
      "text/plain": [
       "1000"
      ]
     },
     "execution_count": 41,
     "metadata": {},
     "output_type": "execute_result"
    }
   ],
   "source": [
    "#As api can only scrape 100 posts at a time, run a loop to scrape multiple times\n",
    "#Each loop will scrape for earlier posts before the previous loop and concatenate current loop's results with previous loop\n",
    "before_time = df.iloc[-1]['created_utc']\n",
    "previous_df = df\n",
    "i = 1\n",
    "while previous_df['title'].nunique() < 1_000:\n",
    "    params = {\n",
    "                'subreddit':'theonion',\n",
    "                'size': 100,\n",
    "                'before': before_time\n",
    "            }\n",
    "    res = requests.get(url, params)\n",
    "    print(f'try {i}, status code is {res.status_code}')\n",
    "    data = res.json()\n",
    "    posts = data['data']\n",
    "    print(f'try {i}, number of posts scrapped is {len(posts)}')\n",
    "    df = pd.DataFrame(posts)\n",
    "    before_time = df.iloc[-1]['created_utc']\n",
    "    print(f'try {i}, before_time is {before_time}')\n",
    "    previous_df = pd.concat(objs = [df,previous_df])\n",
    "    print(f'try {i}, combined df shape is {previous_df.shape}')\n",
    "    i+=1\n",
    "    time.sleep(1)\n",
    "theonion_df = previous_df\n",
    "theonion_df.drop_duplicates(subset = ['title'], inplace = True)\n",
    "theonion_df = theonion_df.iloc[:1_000]\n",
    "theonion_df['title'].nunique()"
   ]
  },
  {
   "cell_type": "code",
   "execution_count": 42,
   "id": "392c4810",
   "metadata": {},
   "outputs": [],
   "source": [
    "theonion_df.to_csv('../data/the_onion.csv', index = False)"
   ]
  },
  {
   "cell_type": "code",
   "execution_count": 43,
   "id": "3e650a24",
   "metadata": {},
   "outputs": [],
   "source": [
    "params = {\n",
    "    'subreddit':'nottheonion',\n",
    "    'size': 100,\n",
    "    'before': 1640995200\n",
    "    }\n",
    "res = requests.get(url, params)\n",
    "res.status_code\n",
    "data = res.json()\n",
    "posts = data['data']\n",
    "df = pd.DataFrame(posts)"
   ]
  },
  {
   "cell_type": "code",
   "execution_count": 44,
   "id": "957f8402",
   "metadata": {},
   "outputs": [
    {
     "data": {
      "text/plain": [
       "100"
      ]
     },
     "execution_count": 44,
     "metadata": {},
     "output_type": "execute_result"
    }
   ],
   "source": [
    "len(posts)"
   ]
  },
  {
   "cell_type": "code",
   "execution_count": 45,
   "id": "23c4f244",
   "metadata": {},
   "outputs": [
    {
     "data": {
      "text/plain": [
       "{'all_awardings': [],\n",
       " 'allow_live_comments': False,\n",
       " 'author': 'Taco_duck68',\n",
       " 'author_flair_css_class': None,\n",
       " 'author_flair_richtext': [],\n",
       " 'author_flair_text': None,\n",
       " 'author_flair_type': 'text',\n",
       " 'author_fullname': 't2_bqrj5t0e',\n",
       " 'author_is_blocked': False,\n",
       " 'author_patreon_flair': False,\n",
       " 'author_premium': True,\n",
       " 'awarders': [],\n",
       " 'can_mod_post': False,\n",
       " 'contest_mode': False,\n",
       " 'created_utc': 1640995192,\n",
       " 'domain': 'wral.com',\n",
       " 'full_link': 'https://www.reddit.com/r/nottheonion/comments/rt6ods/man_attempts_to_pay_for_car_with_rap_steals/',\n",
       " 'gildings': {},\n",
       " 'id': 'rt6ods',\n",
       " 'is_created_from_ads_ui': False,\n",
       " 'is_crosspostable': True,\n",
       " 'is_meta': False,\n",
       " 'is_original_content': False,\n",
       " 'is_reddit_media_domain': False,\n",
       " 'is_robot_indexable': True,\n",
       " 'is_self': False,\n",
       " 'is_video': False,\n",
       " 'link_flair_background_color': '',\n",
       " 'link_flair_richtext': [],\n",
       " 'link_flair_text_color': 'dark',\n",
       " 'link_flair_type': 'text',\n",
       " 'locked': False,\n",
       " 'media_only': False,\n",
       " 'no_follow': False,\n",
       " 'num_comments': 0,\n",
       " 'num_crossposts': 0,\n",
       " 'over_18': False,\n",
       " 'parent_whitelist_status': 'all_ads',\n",
       " 'permalink': '/r/nottheonion/comments/rt6ods/man_attempts_to_pay_for_car_with_rap_steals/',\n",
       " 'pinned': False,\n",
       " 'post_hint': 'link',\n",
       " 'preview': {'enabled': False,\n",
       "  'images': [{'id': 'TSmZymeNLh_J1q-83p83SPFjFh1x9IwBkU_JSmTQtTo',\n",
       "    'resolutions': [{'height': 81,\n",
       "      'url': 'https://external-preview.redd.it/ftaJDedVPkPQB6kdSU0YzdpOOBnsqrJUzaJ2btKOe3M.jpg?width=108&amp;crop=smart&amp;auto=webp&amp;s=b63c0653b7b6bcdc1f38642c44993f6450c21bf3',\n",
       "      'width': 108},\n",
       "     {'height': 162,\n",
       "      'url': 'https://external-preview.redd.it/ftaJDedVPkPQB6kdSU0YzdpOOBnsqrJUzaJ2btKOe3M.jpg?width=216&amp;crop=smart&amp;auto=webp&amp;s=35a2c8a5597455a8af695bc88135ca12d0cbd82d',\n",
       "      'width': 216},\n",
       "     {'height': 240,\n",
       "      'url': 'https://external-preview.redd.it/ftaJDedVPkPQB6kdSU0YzdpOOBnsqrJUzaJ2btKOe3M.jpg?width=320&amp;crop=smart&amp;auto=webp&amp;s=01862937dc090791a0da2a9c981a681ebfe94a69',\n",
       "      'width': 320},\n",
       "     {'height': 480,\n",
       "      'url': 'https://external-preview.redd.it/ftaJDedVPkPQB6kdSU0YzdpOOBnsqrJUzaJ2btKOe3M.jpg?width=640&amp;crop=smart&amp;auto=webp&amp;s=5ff3af11c8437742afbe00f91c049e2fde70569b',\n",
       "      'width': 640}],\n",
       "    'source': {'height': 480,\n",
       "     'url': 'https://external-preview.redd.it/ftaJDedVPkPQB6kdSU0YzdpOOBnsqrJUzaJ2btKOe3M.jpg?auto=webp&amp;s=cd91715b395c9c16c4d9cb491e9ed82ffd64f179',\n",
       "     'width': 640},\n",
       "    'variants': {}}]},\n",
       " 'pwls': 6,\n",
       " 'retrieved_on': 1640995202,\n",
       " 'score': 1,\n",
       " 'selftext': '',\n",
       " 'send_replies': False,\n",
       " 'spoiler': False,\n",
       " 'stickied': False,\n",
       " 'subreddit': 'nottheonion',\n",
       " 'subreddit_id': 't5_2qnts',\n",
       " 'subreddit_subscribers': 20438953,\n",
       " 'subreddit_type': 'public',\n",
       " 'thumbnail': 'https://b.thumbs.redditmedia.com/e4kP-rPpjO1qGOHE9U10i435Ifd4ypR-WQgzslk5Rek.jpg',\n",
       " 'thumbnail_height': 105,\n",
       " 'thumbnail_width': 140,\n",
       " 'title': 'Man attempts to pay for car with rap, steals potato chip truck',\n",
       " 'total_awards_received': 0,\n",
       " 'treatment_tags': [],\n",
       " 'upvote_ratio': 1.0,\n",
       " 'url': 'https://www.wral.com/man-steals-frito-lay-truck-from-carlie-c-s-store-in-dunn-leads-troopers-chase/20056984/?fbclid=IwAR1CAzvI0plVA3pSe41kH_s5L8wXTln5nwhmcfd-VjZZO8A2nyaxJJGGONc',\n",
       " 'url_overridden_by_dest': 'https://www.wral.com/man-steals-frito-lay-truck-from-carlie-c-s-store-in-dunn-leads-troopers-chase/20056984/?fbclid=IwAR1CAzvI0plVA3pSe41kH_s5L8wXTln5nwhmcfd-VjZZO8A2nyaxJJGGONc',\n",
       " 'whitelist_status': 'all_ads',\n",
       " 'wls': 6}"
      ]
     },
     "execution_count": 45,
     "metadata": {},
     "output_type": "execute_result"
    }
   ],
   "source": [
    "posts[0]"
   ]
  },
  {
   "cell_type": "code",
   "execution_count": 46,
   "id": "36e6b763",
   "metadata": {},
   "outputs": [
    {
     "data": {
      "text/html": [
       "<div>\n",
       "<style scoped>\n",
       "    .dataframe tbody tr th:only-of-type {\n",
       "        vertical-align: middle;\n",
       "    }\n",
       "\n",
       "    .dataframe tbody tr th {\n",
       "        vertical-align: top;\n",
       "    }\n",
       "\n",
       "    .dataframe thead th {\n",
       "        text-align: right;\n",
       "    }\n",
       "</style>\n",
       "<table border=\"1\" class=\"dataframe\">\n",
       "  <thead>\n",
       "    <tr style=\"text-align: right;\">\n",
       "      <th></th>\n",
       "      <th>subreddit</th>\n",
       "      <th>title</th>\n",
       "      <th>created_utc</th>\n",
       "    </tr>\n",
       "  </thead>\n",
       "  <tbody>\n",
       "    <tr>\n",
       "      <th>95</th>\n",
       "      <td>nottheonion</td>\n",
       "      <td>DEA Releases Emoji Drug Decoder</td>\n",
       "      <td>1640919490</td>\n",
       "    </tr>\n",
       "    <tr>\n",
       "      <th>96</th>\n",
       "      <td>nottheonion</td>\n",
       "      <td>Stay safe and remain ugly</td>\n",
       "      <td>1640918203</td>\n",
       "    </tr>\n",
       "    <tr>\n",
       "      <th>97</th>\n",
       "      <td>nottheonion</td>\n",
       "      <td>Man who has been dropping used condoms in temp...</td>\n",
       "      <td>1640917746</td>\n",
       "    </tr>\n",
       "    <tr>\n",
       "      <th>98</th>\n",
       "      <td>nottheonion</td>\n",
       "      <td>Georgia man squirts fart spray called Liquid A...</td>\n",
       "      <td>1640917366</td>\n",
       "    </tr>\n",
       "    <tr>\n",
       "      <th>99</th>\n",
       "      <td>nottheonion</td>\n",
       "      <td>Man faked a COVID positive test to avoid court...</td>\n",
       "      <td>1640917033</td>\n",
       "    </tr>\n",
       "  </tbody>\n",
       "</table>\n",
       "</div>"
      ],
      "text/plain": [
       "      subreddit                                              title  \\\n",
       "95  nottheonion                    DEA Releases Emoji Drug Decoder   \n",
       "96  nottheonion                          Stay safe and remain ugly   \n",
       "97  nottheonion  Man who has been dropping used condoms in temp...   \n",
       "98  nottheonion  Georgia man squirts fart spray called Liquid A...   \n",
       "99  nottheonion  Man faked a COVID positive test to avoid court...   \n",
       "\n",
       "    created_utc  \n",
       "95   1640919490  \n",
       "96   1640918203  \n",
       "97   1640917746  \n",
       "98   1640917366  \n",
       "99   1640917033  "
      ]
     },
     "execution_count": 46,
     "metadata": {},
     "output_type": "execute_result"
    }
   ],
   "source": [
    "df[['subreddit','title','created_utc']].tail()"
   ]
  },
  {
   "cell_type": "code",
   "execution_count": 47,
   "id": "3e741f3e",
   "metadata": {},
   "outputs": [
    {
     "name": "stdout",
     "output_type": "stream",
     "text": [
      "try 1, status code is 200\n",
      "try 1, number of posts scrapped is 100\n",
      "try 1, before_time is 1640859919\n",
      "try 1, combined df shape is (200, 73)\n",
      "try 2, status code is 200\n",
      "try 2, number of posts scrapped is 100\n",
      "try 2, before_time is 1640803266\n",
      "try 2, combined df shape is (300, 73)\n",
      "try 3, status code is 200\n",
      "try 3, number of posts scrapped is 100\n",
      "try 3, before_time is 1640751254\n",
      "try 3, combined df shape is (400, 73)\n",
      "try 4, status code is 200\n",
      "try 4, number of posts scrapped is 100\n",
      "try 4, before_time is 1640698420\n",
      "try 4, combined df shape is (500, 73)\n",
      "try 5, status code is 200\n",
      "try 5, number of posts scrapped is 100\n",
      "try 5, before_time is 1640607307\n",
      "try 5, combined df shape is (600, 73)\n",
      "try 6, status code is 200\n",
      "try 6, number of posts scrapped is 98\n",
      "try 6, before_time is 1640502834\n",
      "try 6, combined df shape is (698, 73)\n",
      "try 7, status code is 200\n",
      "try 7, number of posts scrapped is 100\n",
      "try 7, before_time is 1640383202\n",
      "try 7, combined df shape is (798, 73)\n",
      "try 8, status code is 200\n",
      "try 8, number of posts scrapped is 100\n",
      "try 8, before_time is 1640312994\n",
      "try 8, combined df shape is (898, 73)\n",
      "try 9, status code is 200\n",
      "try 9, number of posts scrapped is 100\n",
      "try 9, before_time is 1640257217\n",
      "try 9, combined df shape is (998, 73)\n",
      "try 10, status code is 200\n",
      "try 10, number of posts scrapped is 99\n",
      "try 10, before_time is 1640193464\n",
      "try 10, combined df shape is (1097, 73)\n",
      "try 11, status code is 200\n",
      "try 11, number of posts scrapped is 100\n",
      "try 11, before_time is 1640129127\n",
      "try 11, combined df shape is (1197, 73)\n",
      "try 12, status code is 200\n",
      "try 12, number of posts scrapped is 100\n",
      "try 12, before_time is 1640085332\n",
      "try 12, combined df shape is (1297, 74)\n"
     ]
    },
    {
     "data": {
      "text/plain": [
       "1000"
      ]
     },
     "execution_count": 47,
     "metadata": {},
     "output_type": "execute_result"
    }
   ],
   "source": [
    "#As api can only scrape 100 posts at a time, run a loop to scrape multiple times\n",
    "#Each loop will scrape for earlier posts before the previous loop and concatenate current loop's results with previous loop\n",
    "before_time = df.iloc[-1]['created_utc']\n",
    "previous_df = df\n",
    "i = 1\n",
    "while previous_df['title'].nunique() < 1_000:\n",
    "    params = {\n",
    "                'subreddit':'nottheonion',\n",
    "                'size': 100,\n",
    "                'before': before_time\n",
    "            }\n",
    "    res = requests.get(url, params)\n",
    "    print(f'try {i}, status code is {res.status_code}')\n",
    "    data = res.json()\n",
    "    posts = data['data']\n",
    "    print(f'try {i}, number of posts scrapped is {len(posts)}')\n",
    "    df = pd.DataFrame(posts)\n",
    "    before_time = df.iloc[-1]['created_utc']\n",
    "    print(f'try {i}, before_time is {before_time}')\n",
    "    previous_df = pd.concat(objs = [df,previous_df])\n",
    "    print(f'try {i}, combined df shape is {previous_df.shape}')\n",
    "    i+=1\n",
    "    time.sleep(1)\n",
    "nottheonion_df = previous_df\n",
    "nottheonion_df.drop_duplicates(subset = ['title'], inplace = True)\n",
    "nottheonion_df = nottheonion_df.iloc[:1_000]\n",
    "nottheonion_df['title'].nunique()"
   ]
  },
  {
   "cell_type": "code",
   "execution_count": 48,
   "id": "c4ff52a4",
   "metadata": {},
   "outputs": [],
   "source": [
    "nottheonion_df.to_csv('../data/not_the_onion.csv', index = False)"
   ]
  },
  {
   "cell_type": "code",
   "execution_count": null,
   "id": "b381443e",
   "metadata": {},
   "outputs": [],
   "source": []
  }
 ],
 "metadata": {
  "kernelspec": {
   "display_name": "Python 3 (ipykernel)",
   "language": "python",
   "name": "python3"
  },
  "language_info": {
   "codemirror_mode": {
    "name": "ipython",
    "version": 3
   },
   "file_extension": ".py",
   "mimetype": "text/x-python",
   "name": "python",
   "nbconvert_exporter": "python",
   "pygments_lexer": "ipython3",
   "version": "3.9.6"
  }
 },
 "nbformat": 4,
 "nbformat_minor": 5
}
